{
 "cells": [
  {
   "cell_type": "markdown",
   "id": "8eddd8c9",
   "metadata": {},
   "source": [
    "Forest Fire"
   ]
  },
  {
   "cell_type": "code",
   "execution_count": 516,
   "id": "4875e968",
   "metadata": {},
   "outputs": [],
   "source": [
    "import pandas as pd\n",
    "import numpy as np\n",
    "from sklearn.model_selection import train_test_split\n",
    "from sklearn.pipeline import make_pipeline\n",
    "from sklearn.preprocessing import StandardScaler\n",
    "from sklearn.linear_model import SGDRegressor\n",
    "from sklearn.model_selection import cross_val_score\n",
    "from sklearn.model_selection import GridSearchCV\n",
    "from sklearn.metrics import root_mean_squared_error\n",
    "from sklearn.ensemble import RandomForestRegressor\n",
    "import plotly.express as px\n",
    "import plotly.figure_factory as ff\n",
    "from IPython.display import Image\n",
    "from xgboost import XGBRegressor\n"
   ]
  },
  {
   "cell_type": "code",
   "execution_count": 517,
   "id": "204b2f8a",
   "metadata": {},
   "outputs": [
    {
     "data": {
      "text/html": [
       "<div>\n",
       "<style scoped>\n",
       "    .dataframe tbody tr th:only-of-type {\n",
       "        vertical-align: middle;\n",
       "    }\n",
       "\n",
       "    .dataframe tbody tr th {\n",
       "        vertical-align: top;\n",
       "    }\n",
       "\n",
       "    .dataframe thead th {\n",
       "        text-align: right;\n",
       "    }\n",
       "</style>\n",
       "<table border=\"1\" class=\"dataframe\">\n",
       "  <thead>\n",
       "    <tr style=\"text-align: right;\">\n",
       "      <th></th>\n",
       "      <th>X</th>\n",
       "      <th>Y</th>\n",
       "      <th>month</th>\n",
       "      <th>day</th>\n",
       "      <th>FFMC</th>\n",
       "      <th>DMC</th>\n",
       "      <th>DC</th>\n",
       "      <th>ISI</th>\n",
       "      <th>temp</th>\n",
       "      <th>RH</th>\n",
       "      <th>wind</th>\n",
       "      <th>rain</th>\n",
       "      <th>area</th>\n",
       "    </tr>\n",
       "  </thead>\n",
       "  <tbody>\n",
       "    <tr>\n",
       "      <th>0</th>\n",
       "      <td>7</td>\n",
       "      <td>5</td>\n",
       "      <td>mar</td>\n",
       "      <td>fri</td>\n",
       "      <td>86.2</td>\n",
       "      <td>26.2</td>\n",
       "      <td>94.3</td>\n",
       "      <td>5.1</td>\n",
       "      <td>8.2</td>\n",
       "      <td>51</td>\n",
       "      <td>6.7</td>\n",
       "      <td>0.0</td>\n",
       "      <td>0.0</td>\n",
       "    </tr>\n",
       "    <tr>\n",
       "      <th>1</th>\n",
       "      <td>7</td>\n",
       "      <td>4</td>\n",
       "      <td>oct</td>\n",
       "      <td>tue</td>\n",
       "      <td>90.6</td>\n",
       "      <td>35.4</td>\n",
       "      <td>669.1</td>\n",
       "      <td>6.7</td>\n",
       "      <td>18.0</td>\n",
       "      <td>33</td>\n",
       "      <td>0.9</td>\n",
       "      <td>0.0</td>\n",
       "      <td>0.0</td>\n",
       "    </tr>\n",
       "    <tr>\n",
       "      <th>2</th>\n",
       "      <td>7</td>\n",
       "      <td>4</td>\n",
       "      <td>oct</td>\n",
       "      <td>sat</td>\n",
       "      <td>90.6</td>\n",
       "      <td>43.7</td>\n",
       "      <td>686.9</td>\n",
       "      <td>6.7</td>\n",
       "      <td>14.6</td>\n",
       "      <td>33</td>\n",
       "      <td>1.3</td>\n",
       "      <td>0.0</td>\n",
       "      <td>0.0</td>\n",
       "    </tr>\n",
       "    <tr>\n",
       "      <th>3</th>\n",
       "      <td>8</td>\n",
       "      <td>6</td>\n",
       "      <td>mar</td>\n",
       "      <td>fri</td>\n",
       "      <td>91.7</td>\n",
       "      <td>33.3</td>\n",
       "      <td>77.5</td>\n",
       "      <td>9.0</td>\n",
       "      <td>8.3</td>\n",
       "      <td>97</td>\n",
       "      <td>4.0</td>\n",
       "      <td>0.2</td>\n",
       "      <td>0.0</td>\n",
       "    </tr>\n",
       "    <tr>\n",
       "      <th>4</th>\n",
       "      <td>8</td>\n",
       "      <td>6</td>\n",
       "      <td>mar</td>\n",
       "      <td>sun</td>\n",
       "      <td>89.3</td>\n",
       "      <td>51.3</td>\n",
       "      <td>102.2</td>\n",
       "      <td>9.6</td>\n",
       "      <td>11.4</td>\n",
       "      <td>99</td>\n",
       "      <td>1.8</td>\n",
       "      <td>0.0</td>\n",
       "      <td>0.0</td>\n",
       "    </tr>\n",
       "  </tbody>\n",
       "</table>\n",
       "</div>"
      ],
      "text/plain": [
       "   X  Y month  day  FFMC   DMC     DC  ISI  temp  RH  wind  rain  area\n",
       "0  7  5   mar  fri  86.2  26.2   94.3  5.1   8.2  51   6.7   0.0   0.0\n",
       "1  7  4   oct  tue  90.6  35.4  669.1  6.7  18.0  33   0.9   0.0   0.0\n",
       "2  7  4   oct  sat  90.6  43.7  686.9  6.7  14.6  33   1.3   0.0   0.0\n",
       "3  8  6   mar  fri  91.7  33.3   77.5  9.0   8.3  97   4.0   0.2   0.0\n",
       "4  8  6   mar  sun  89.3  51.3  102.2  9.6  11.4  99   1.8   0.0   0.0"
      ]
     },
     "execution_count": 517,
     "metadata": {},
     "output_type": "execute_result"
    }
   ],
   "source": [
    "df = pd.read_csv('forestfires.csv')\n",
    "df.head()"
   ]
  },
  {
   "cell_type": "code",
   "execution_count": 518,
   "id": "45eff8d9",
   "metadata": {},
   "outputs": [
    {
     "data": {
      "application/vnd.plotly.v1+json": {
       "config": {
        "plotlyServerURL": "https://plot.ly"
       },
       "data": [
        {
         "bingroup": "x",
         "histfunc": "sum",
         "hovertemplate": "month=%{x}<br>sum of Burned Area (ha)=%{y}<extra></extra>",
         "legendgroup": "",
         "marker": {
          "color": "#636efa",
          "pattern": {
           "shape": ""
          }
         },
         "name": "",
         "orientation": "v",
         "showlegend": false,
         "type": "histogram",
         "x": [
          "mar",
          "oct",
          "oct",
          "mar",
          "mar",
          "aug",
          "aug",
          "aug",
          "sep",
          "sep",
          "sep",
          "sep",
          "aug",
          "sep",
          "sep",
          "sep",
          "mar",
          "oct",
          "mar",
          "apr",
          "sep",
          "sep",
          "jun",
          "aug",
          "aug",
          "aug",
          "sep",
          "sep",
          "sep",
          "sep",
          "sep",
          "sep",
          "sep",
          "sep",
          "sep",
          "sep",
          "oct",
          "oct",
          "oct",
          "mar",
          "jul",
          "aug",
          "aug",
          "sep",
          "sep",
          "sep",
          "sep",
          "jul",
          "mar",
          "mar",
          "sep",
          "aug",
          "aug",
          "aug",
          "aug",
          "sep",
          "sep",
          "oct",
          "feb",
          "feb",
          "mar",
          "mar",
          "aug",
          "aug",
          "aug",
          "aug",
          "sep",
          "sep",
          "sep",
          "mar",
          "mar",
          "sep",
          "mar",
          "aug",
          "sep",
          "feb",
          "feb",
          "mar",
          "aug",
          "aug",
          "aug",
          "aug",
          "aug",
          "aug",
          "aug",
          "sep",
          "sep",
          "sep",
          "sep",
          "mar",
          "aug",
          "mar",
          "aug",
          "aug",
          "aug",
          "sep",
          "feb",
          "mar",
          "aug",
          "aug",
          "aug",
          "aug",
          "aug",
          "sep",
          "jan",
          "mar",
          "mar",
          "aug",
          "sep",
          "sep",
          "mar",
          "mar",
          "sep",
          "sep",
          "mar",
          "mar",
          "mar",
          "mar",
          "mar",
          "aug",
          "aug",
          "aug",
          "sep",
          "sep",
          "sep",
          "oct",
          "mar",
          "sep",
          "oct",
          "oct",
          "feb",
          "mar",
          "mar",
          "sep",
          "mar",
          "aug",
          "sep",
          "sep",
          "jul",
          "sep",
          "sep",
          "aug",
          "aug",
          "jul",
          "aug",
          "aug",
          "mar",
          "sep",
          "aug",
          "sep",
          "jun",
          "jul",
          "jul",
          "sep",
          "sep",
          "aug",
          "sep",
          "aug",
          "aug",
          "sep",
          "mar",
          "aug",
          "mar",
          "sep",
          "sep",
          "mar",
          "aug",
          "aug",
          "mar",
          "aug",
          "sep",
          "aug",
          "aug",
          "sep",
          "aug",
          "aug",
          "apr",
          "aug",
          "sep",
          "aug",
          "sep",
          "oct",
          "feb",
          "oct",
          "aug",
          "sep",
          "mar",
          "sep",
          "mar",
          "mar",
          "mar",
          "aug",
          "aug",
          "sep",
          "aug",
          "aug",
          "apr",
          "sep",
          "sep",
          "sep",
          "sep",
          "mar",
          "feb",
          "oct",
          "mar",
          "sep",
          "aug",
          "sep",
          "sep",
          "sep",
          "oct",
          "aug",
          "sep",
          "mar",
          "mar",
          "mar",
          "sep",
          "sep",
          "sep",
          "mar",
          "aug",
          "sep",
          "mar",
          "jul",
          "sep",
          "sep",
          "oct",
          "aug",
          "sep",
          "aug",
          "sep",
          "sep",
          "sep",
          "sep",
          "sep",
          "aug",
          "sep",
          "sep",
          "sep",
          "apr",
          "apr",
          "apr",
          "aug",
          "aug",
          "aug",
          "aug",
          "aug",
          "aug",
          "aug",
          "aug",
          "aug",
          "aug",
          "aug",
          "aug",
          "aug",
          "aug",
          "aug",
          "aug",
          "aug",
          "aug",
          "aug",
          "aug",
          "aug",
          "aug",
          "aug",
          "aug",
          "aug",
          "aug",
          "aug",
          "aug",
          "aug",
          "aug",
          "aug",
          "dec",
          "dec",
          "dec",
          "dec",
          "dec",
          "dec",
          "dec",
          "dec",
          "dec",
          "feb",
          "feb",
          "feb",
          "jul",
          "jul",
          "jul",
          "jul",
          "jul",
          "jul",
          "jul",
          "jul",
          "jul",
          "jul",
          "jun",
          "jun",
          "jun",
          "jun",
          "jun",
          "jun",
          "jun",
          "jun",
          "jun",
          "may",
          "sep",
          "sep",
          "sep",
          "sep",
          "sep",
          "sep",
          "sep",
          "sep",
          "sep",
          "sep",
          "sep",
          "sep",
          "sep",
          "sep",
          "sep",
          "sep",
          "sep",
          "sep",
          "sep",
          "sep",
          "sep",
          "sep",
          "sep",
          "sep",
          "sep",
          "sep",
          "sep",
          "sep",
          "sep",
          "sep",
          "sep",
          "sep",
          "sep",
          "sep",
          "sep",
          "sep",
          "sep",
          "sep",
          "sep",
          "sep",
          "sep",
          "sep",
          "sep",
          "sep",
          "sep",
          "sep",
          "sep",
          "sep",
          "sep",
          "sep",
          "sep",
          "sep",
          "sep",
          "sep",
          "sep",
          "sep",
          "sep",
          "sep",
          "sep",
          "sep",
          "sep",
          "sep",
          "sep",
          "sep",
          "sep",
          "sep",
          "jul",
          "aug",
          "aug",
          "sep",
          "sep",
          "aug",
          "aug",
          "mar",
          "jan",
          "jul",
          "aug",
          "aug",
          "aug",
          "aug",
          "aug",
          "sep",
          "mar",
          "aug",
          "aug",
          "feb",
          "sep",
          "sep",
          "mar",
          "feb",
          "feb",
          "sep",
          "aug",
          "aug",
          "jun",
          "jun",
          "sep",
          "aug",
          "aug",
          "sep",
          "aug",
          "sep",
          "feb",
          "sep",
          "jul",
          "feb",
          "feb",
          "jul",
          "aug",
          "aug",
          "aug",
          "jul",
          "mar",
          "aug",
          "aug",
          "aug",
          "aug",
          "jul",
          "sep",
          "aug",
          "aug",
          "aug",
          "aug",
          "aug",
          "aug",
          "sep",
          "aug",
          "aug",
          "aug",
          "aug",
          "jul",
          "aug",
          "aug",
          "aug",
          "sep",
          "sep",
          "aug",
          "apr",
          "jul",
          "sep",
          "aug",
          "aug",
          "mar",
          "sep",
          "aug",
          "aug",
          "aug",
          "aug",
          "aug",
          "aug",
          "jul",
          "aug",
          "aug",
          "aug",
          "aug",
          "aug",
          "aug",
          "sep",
          "feb",
          "feb",
          "feb",
          "mar",
          "mar",
          "mar",
          "apr",
          "apr",
          "may",
          "jun",
          "jun",
          "jun",
          "jun",
          "jul",
          "jul",
          "jul",
          "jul",
          "jul",
          "jul",
          "aug",
          "aug",
          "aug",
          "aug",
          "aug",
          "aug",
          "aug",
          "aug",
          "aug",
          "aug",
          "aug",
          "aug",
          "aug",
          "aug",
          "aug",
          "aug",
          "aug",
          "aug",
          "aug",
          "aug",
          "aug",
          "aug",
          "aug",
          "aug",
          "aug",
          "aug",
          "aug",
          "aug",
          "aug",
          "aug",
          "aug",
          "aug",
          "aug",
          "aug",
          "nov"
         ],
         "xaxis": "x",
         "y": {
          "bdata": "AAAAAAAAAAAAAAAAAAAAAAAAAAAAAAAAAAAAAAAAAAAAAAAAAAAAAAAAAAAAAAAAAAAAAAAAAAAAAAAAAAAAAAAAAAAAAAAAAAAAAAAAAAAAAAAAAAAAAAAAAAAAAAAAAAAAAAAAAAAAAAAAAAAAAAAAAAAAAAAAAAAAAAAAAAAAAAAAAAAAAAAAAAAAAAAAAAAAAAAAAAAAAAAAAAAAAAAAAAAAAAAAAAAAAAAAAAAAAAAAAAAAAAAAAAAAAAAAAAAAAAAAAAAAAAAAAAAAAAAAAAAAAAAAAAAAAAAAAAAAAAAAAAAAAAAAAAAAAAAAAAAAAAAAAAAAAAAAAAAAAAAAAAAAAAAAAAAAAAAAAAAAAAAAAAAAAAAAAAAAAAAAAAAAAAAAAAAAAAAAAAAAAAAAAAAAAAAAAAAAAAAAAAAAAAAAAAAAAAAAAAAAAAAAAAAAAAAAAAAAAAAAAAAAAAAAAAAAAAAAAAAAAAAAAAAAAAAAAAAAAAAAAAAAAAAAAAAAAAAAAAAAAAAAAAAAAAAAAAAAAAAAAAAAAAAAAAAAAAAAAAAAAAAAAAAAAAAAAAAAAAAAAAAAAAAAAAAAAAAAAAAAAAAAAAAAAAAAAAAAAAAAAAAAAAAAAAAAAAAAAAAAAAAAAAAAAAAAAAAAAAAAAAAAAAAAAAAAAAAAAAAAAAAAAAAAAAAAAAAAAAAAAAAAAAAAAAAAAAAAAAAAAAAAAAAAAAAAAAAAAAAAAAAAAAAAAAAAAAAAAAAAAAAAAAAAAAAAAAAAAAAAAAAAAAAAAAAAAAAAAAAAAAAAAAAAAAAAAAAAAAAAAAAAAAAAAAAAAAAAAAAAAAAAAAAAAAAAAAAAAAAAAAAAAAAAAAAAAAAAAAAAAAAAAAAAAAAAAAAAAAAAAAAAAAAAAAAAAAAAAAAAAAAAAAAAAAAAAAAAAAAAAAAAAAAAAAAAAAAAAAAAAAAAAAAAAAAAAAAAAAAAAAAAAAAAAAAAAAAAAAAAAAAAAAAAAAAAAAAAAAAAAAAAAAAAAAAAAAAAAAAAAAAAAAAAAAAAAAAAAAAAAAAAAAAAAAAAAAAAAAAAAAAAAAAAAAAAAAAAAAAAAAAAAAAAAAAAAAAAAAAAAAAAAAAAAAAAAAAAAAAAAAAAAAAAAAAAAAAAAAAAAAAAAAAAAAAAAAAAAAAAAAAAAAAAAAAAAAAAAAAAAAAAAAAAAAAAAAAAAAAAAAAAAAAAAAAAAAAAAAAAAAAAAAAAAAAAAAAAAAAAAAAAAAAAAAAAAAAAAAAAAAAAAAAAAAAAAAAAAAAAAAAAAAAAAAAAAAAAAAAAAAAAAAAAAAAAAAAAAAAAAAAAAAAAAAAAAAAAAAAAAAAAAAAAAAAAAAAAAAAAAAAAAAAAAAAAAAAAAAAAAAAAAAAAAAAAAAAAAAAAAAAAAAAAAAAAAAAAAAAAAAAAAAAAAAAAAAAAAAAAAAAAAAAACtejcD0K1z+F61G4HoXbPxSuR+F6FN4/mpmZmZmZ4T+F61G4HoXjP7gehetRuOY/pHA9Ctej6D/NzMzMzMzsP2ZmZmZmZu4/uB6F61G47j8fhetRuB7xP+xRuB6F6/E/CtejcD0K8z/D9Shcj8L1P+F6FK5H4fY/XI/C9Shc9z9cj8L1KFz3P/YoXI/C9fg/w/UoXI/C+T8UrkfhehT6Pz0K16NwPfo/CtejcD0K+z8AAAAAAAD8P2ZmZmZmZv4/CtejcD0K/z8zMzMzMzP/PxSuR+F6FABAH4XrUbgeAUBSuB6F61ECQBSuR+F6FARAPQrXo3A9BEBmZmZmZmYEQI/C9ShcjwRAhetRuB6FBUDsUbgehesFQI/C9ShcjwhAAAAAAAAADEAfhetRuB4SQHE9CtejcBJAw/UoXI/CEkCF61G4HoUTQOxRuB6F6xRAUrgehetRFUDD9Shcj8IVQIXrUbgehRlAUrgehetRG0DXo3A9CtcbQClcj8L1KBxAw/UoXI/CHEAzMzMzMzMdQJqZmZmZmR1AexSuR+F6IEAfhetRuJ4gQFyPwvUoXCFA7FG4HoVrIUBSuB6F69EiQIXrUbgeBSRACtejcD0KJEBcj8L1KNwlQB+F61G4HiZAexSuR+F6JkCkcD0K16MmQI/C9ShcDydAMzMzMzMzKECamZmZmRkqQGZmZmZmZitAexSuR+H6K0CkcD0K1yMtQGZmZmZm5i5AMzMzMzMzMUB7FK5H4TozQClcj8L1aDdAexSuR+E6OEAAAAAAAAA6QOF6FK5HITpAmpmZmZlZO0ApXI/C9ag8QClcj8L1qDxAexSuR+F6PUBSuB6F61E+QLgehetRuD9AXI/C9SjcP0ApXI/C9QhAQHE9Ctej8EFAzczMzMxsQkDD9Shcj4JCQHsUrkfh2kJAZmZmZmZGSECPwvUoXK9IQGZmZmZmJk1AZmZmZmYGUEAzMzMzM9NRQI/C9ShcH1ZA7FG4HoXLV0ApXI/C9dhZQArXo3A9alpAXI/C9ShcY0CPwvUoXI9oQK5H4XoUHmlAXI/C9SicakCPwvUoXAuRQAAAAAAAAAAAAAAAAAAAAAAAAAAAAAAAAMP1KFyPQiRAAAAAAAAAAAD2KFyPwvUGQFK4HoXrUeg/CtejcD0Ktz8AAAAAAADoPwAAAAAAAAAAw/UoXI/CA0DD9Shcj8LlP7gehetRuM4/4XoUrkfhyj9SuB6F61H4P65H4XoUriRAAAAAAAAAAAAK16NwPQogQMP1KFyPwuU/AAAAAAAAAAAUrkfhehT2PzMzMzMzsyFAZmZmZmZmCkAAAAAAAAARQPYoXI/C9fg/KVyPwvUoGkBI4XoUrkfpP8P1KFyPwsU/AAAAAAAAAAAAAAAAAAAAAJqZmZmZmRFApHA9Ctej4D8K16NwPYoiQLgehetRuAhA9ihcj8L1IUDhehSuR2EmQIXrUbgehRVAmpmZmZnZMUD2KFyPwnUlQEjhehSuBzZACtejcD2KI0AK16NwPYoiQIXrUbgexThAAAAAAAAAAACamZmZmZnxPz0K16NwPThAAAAAAAAAAAAAAAAAAAAAAAAAAAAAAAAAAAAAAAAAAAAAAAAAAAAAAAAAAAAAAAAAAAAAAAAAIEAfhetRuB4FQM3MzMzMnFVASOF6FK5HGkAAAAAAAAAAAM3MzMzMzOw/AAAAAAAAAAAAAAAAAAAAAAAAAAAAAAAAAAAAAAAAAAApXI/C9SgMQAAAAAAAAAAAAAAAAAAAAAAAAAAAAAAAAAAAAAAAAAAAPQrXo3A92j+4HoXrUbgUQAAAAAAAAAAAAAAAAAAAAAAAAAAAAAAAABSuR+F6lCxAAAAAAAAAAAAAAAAAAAAAAEjhehSuR/k/AAAAAAAAAAAAAAAAAAAAAD0K16NwPQ5AAAAAAAAAAACkcD0K16MRQK5H4XoULkFA16NwPQrXHEApXI/C9SjwP3E9CtejcAFArkfhehSuEUAAAAAAAAAAAAAAAAAAAAAAAAAAAAAAAAAAAAAAAAAAAKRwPQrXowpAUrgehetRGkBI4XoUrkcvQHE9CtejcCZACtejcD0KAUAAAAAAAAAAAAAAAAAAAAAAAAAAAAAAAACF61G4HgVMQOxRuB6F6x1AhetRuB6F9z9xPQrXo3APQAAAAAAAAAAAAAAAAAAAAABxPQrXo3ABQGZmZmZmZhhAUrgehetRF0BxPQrXozA8QAAAAAAAAAAAAAAAAAAAAAA9CtejcD36P65H4XoUrg1APQrXo3A9HUA9CtejcD0AQIXrUbgehfs/4XoUrkfhF0AfhetRuB4qQClcj8L1KPQ/AAAAAAAAAAAAAAAAAAAAAD0K16NwPSBAcT0K16Nw8T+F61G4HoUPQKRwPQrXo+A/cT0K16NwB0CamZmZmZkWQEjhehSuBzRAAAAAAAAA/D8AAAAAAAAAAEjhehSuRylAAAAAAAAAAAAfhetRuB4mQAAAAAAAAAAAAAAAAAAAAAAAAAAAAAAAAM3MzMzMTDJAzczMzMysQ0AAAAAAAAAAAFyPwvUo1GVAAAAAAAAAAAAAAAAAAAAAAOxRuB6F6x5AFK5H4XpUMEBxPQrXo3AXQI/C9Shcb0VAXI/C9ShcKEAAAAAAAAAwQNejcD0KlzhAAAAAAAAAAAA9CtejcL08QAAAAAAAAAAA7FG4HoXrI0CuR+F6FC4+QHE9CtejsFFAAAAAAAAAAAAAAAAAAAAAAKRwPQrX40lAH4XrUbgeDUAK16NwPQoNQAAAAAAAAAAAAAAAAAAAAABSuB6F61EgQM3MzMzMzBNAAAAAAAAAAAAAAAAAAAAAAClcj8L1KBhAAAAAAAAAAACamZmZmZkPQAAAAAAAAAAAMzMzMzMzH0AAAAAAAAAAAAAAAAAAAAAAexSuR+F6EkAUrkfhehT6PwAAAAAAAAAAAAAAAAAAAAAK16NwPVKHQBSuR+F6FBxAAAAAAAAAAACF61G4HoUDQGZmZmZmZghAuB6F61E4Z0AAAAAAAAAAADMzMzMzMxlACtejcD0K5z/Xo3A9CtcTQAAAAAAAAAAAAAAAAAAAAADNzMzMzMwCQAAAAAAAAAAAmpmZmZmZCUAAAAAAAAAAAHE9CtejcBlAAAAAAAAAAACuR+F6FK4uQAAAAAAAAAAAAAAAAAAAAABI4XoUrkfhPwAAAAAAAAAAuB6F61G4GUAfhetRuB7VPwAAAAAAAAAArkfhehSu8z/NzMzMzMwKQAAAAAAAAAAA7FG4HoXrI0AAAAAAAAAAAAAAAAAAAAAAAAAAAAAAAAAAAAAAAAAAAAAAAAAAAAAAuB6F61G4GUDsUbgehWsjQAAAAAAAAAAAAAAAAAAAAAAAAAAAAAAAAAAAAAAAAAAAAAAAAAAAAAAAAAAAALBUQI/C9ShcjwpACtejcD0K/z8AAAAAAAAAAAAAAAAAAAAArkfhehSuDUCPwvUoXI8VQB+F61G4HgFAXI/C9ShcG0BxPQrXo3AJQDMzMzMzMxZAcT0K16NwGkBxPQrXo5BOQAAAAAAAAAAAPQrXo3A9Q0AK16NwPQr/PxSuR+F6lFFAKVyPwvUoJECF61G4HoUJQClcj8L1KPw/cT0K16NwHUCuR+F6FK4BQBSuR+F6aHFAAAAAAAAABkAAAAAAAAAAAKRwPQrXo/Q/AAAAAAAAAACuR+F6FG46QI/C9ShcjwBAAAAAAAAAAEBmZmZmZmYwQJqZmZmZWUdAAAAAAAAAAAAAAAAAAAAAAAAAAAAAAAAAAAAAAAAAAAApXI/C9ahFQK5H4XoULiFAAAAAAAAAAAApXI/C9SgGQFyPwvUoXC1AhetRuB5FRECkcD0K16MlQAAAAAAAAAAAAAAAAAAAAAAAAAAAAAAAADMzMzMzM/8/7FG4HoXLSEAzMzMzMzMXQAAAAAAAAAAAAAAAAAAAAAAAAAAAAAAAAFyPwvUoXAFAhetRuB6F2z8AAAAAAAAAAMP1KFyPwhlAhetRuB4lS0BSuB6F61EmQAAAAAAAAAAAAAAAAAAAAAA=",
          "dtype": "f8"
         },
         "yaxis": "y"
        }
       ],
       "layout": {
        "barmode": "relative",
        "legend": {
         "tracegroupgap": 0
        },
        "template": {
         "data": {
          "bar": [
           {
            "error_x": {
             "color": "#2a3f5f"
            },
            "error_y": {
             "color": "#2a3f5f"
            },
            "marker": {
             "line": {
              "color": "#E5ECF6",
              "width": 0.5
             },
             "pattern": {
              "fillmode": "overlay",
              "size": 10,
              "solidity": 0.2
             }
            },
            "type": "bar"
           }
          ],
          "barpolar": [
           {
            "marker": {
             "line": {
              "color": "#E5ECF6",
              "width": 0.5
             },
             "pattern": {
              "fillmode": "overlay",
              "size": 10,
              "solidity": 0.2
             }
            },
            "type": "barpolar"
           }
          ],
          "carpet": [
           {
            "aaxis": {
             "endlinecolor": "#2a3f5f",
             "gridcolor": "white",
             "linecolor": "white",
             "minorgridcolor": "white",
             "startlinecolor": "#2a3f5f"
            },
            "baxis": {
             "endlinecolor": "#2a3f5f",
             "gridcolor": "white",
             "linecolor": "white",
             "minorgridcolor": "white",
             "startlinecolor": "#2a3f5f"
            },
            "type": "carpet"
           }
          ],
          "choropleth": [
           {
            "colorbar": {
             "outlinewidth": 0,
             "ticks": ""
            },
            "type": "choropleth"
           }
          ],
          "contour": [
           {
            "colorbar": {
             "outlinewidth": 0,
             "ticks": ""
            },
            "colorscale": [
             [
              0,
              "#0d0887"
             ],
             [
              0.1111111111111111,
              "#46039f"
             ],
             [
              0.2222222222222222,
              "#7201a8"
             ],
             [
              0.3333333333333333,
              "#9c179e"
             ],
             [
              0.4444444444444444,
              "#bd3786"
             ],
             [
              0.5555555555555556,
              "#d8576b"
             ],
             [
              0.6666666666666666,
              "#ed7953"
             ],
             [
              0.7777777777777778,
              "#fb9f3a"
             ],
             [
              0.8888888888888888,
              "#fdca26"
             ],
             [
              1,
              "#f0f921"
             ]
            ],
            "type": "contour"
           }
          ],
          "contourcarpet": [
           {
            "colorbar": {
             "outlinewidth": 0,
             "ticks": ""
            },
            "type": "contourcarpet"
           }
          ],
          "heatmap": [
           {
            "colorbar": {
             "outlinewidth": 0,
             "ticks": ""
            },
            "colorscale": [
             [
              0,
              "#0d0887"
             ],
             [
              0.1111111111111111,
              "#46039f"
             ],
             [
              0.2222222222222222,
              "#7201a8"
             ],
             [
              0.3333333333333333,
              "#9c179e"
             ],
             [
              0.4444444444444444,
              "#bd3786"
             ],
             [
              0.5555555555555556,
              "#d8576b"
             ],
             [
              0.6666666666666666,
              "#ed7953"
             ],
             [
              0.7777777777777778,
              "#fb9f3a"
             ],
             [
              0.8888888888888888,
              "#fdca26"
             ],
             [
              1,
              "#f0f921"
             ]
            ],
            "type": "heatmap"
           }
          ],
          "histogram": [
           {
            "marker": {
             "pattern": {
              "fillmode": "overlay",
              "size": 10,
              "solidity": 0.2
             }
            },
            "type": "histogram"
           }
          ],
          "histogram2d": [
           {
            "colorbar": {
             "outlinewidth": 0,
             "ticks": ""
            },
            "colorscale": [
             [
              0,
              "#0d0887"
             ],
             [
              0.1111111111111111,
              "#46039f"
             ],
             [
              0.2222222222222222,
              "#7201a8"
             ],
             [
              0.3333333333333333,
              "#9c179e"
             ],
             [
              0.4444444444444444,
              "#bd3786"
             ],
             [
              0.5555555555555556,
              "#d8576b"
             ],
             [
              0.6666666666666666,
              "#ed7953"
             ],
             [
              0.7777777777777778,
              "#fb9f3a"
             ],
             [
              0.8888888888888888,
              "#fdca26"
             ],
             [
              1,
              "#f0f921"
             ]
            ],
            "type": "histogram2d"
           }
          ],
          "histogram2dcontour": [
           {
            "colorbar": {
             "outlinewidth": 0,
             "ticks": ""
            },
            "colorscale": [
             [
              0,
              "#0d0887"
             ],
             [
              0.1111111111111111,
              "#46039f"
             ],
             [
              0.2222222222222222,
              "#7201a8"
             ],
             [
              0.3333333333333333,
              "#9c179e"
             ],
             [
              0.4444444444444444,
              "#bd3786"
             ],
             [
              0.5555555555555556,
              "#d8576b"
             ],
             [
              0.6666666666666666,
              "#ed7953"
             ],
             [
              0.7777777777777778,
              "#fb9f3a"
             ],
             [
              0.8888888888888888,
              "#fdca26"
             ],
             [
              1,
              "#f0f921"
             ]
            ],
            "type": "histogram2dcontour"
           }
          ],
          "mesh3d": [
           {
            "colorbar": {
             "outlinewidth": 0,
             "ticks": ""
            },
            "type": "mesh3d"
           }
          ],
          "parcoords": [
           {
            "line": {
             "colorbar": {
              "outlinewidth": 0,
              "ticks": ""
             }
            },
            "type": "parcoords"
           }
          ],
          "pie": [
           {
            "automargin": true,
            "type": "pie"
           }
          ],
          "scatter": [
           {
            "fillpattern": {
             "fillmode": "overlay",
             "size": 10,
             "solidity": 0.2
            },
            "type": "scatter"
           }
          ],
          "scatter3d": [
           {
            "line": {
             "colorbar": {
              "outlinewidth": 0,
              "ticks": ""
             }
            },
            "marker": {
             "colorbar": {
              "outlinewidth": 0,
              "ticks": ""
             }
            },
            "type": "scatter3d"
           }
          ],
          "scattercarpet": [
           {
            "marker": {
             "colorbar": {
              "outlinewidth": 0,
              "ticks": ""
             }
            },
            "type": "scattercarpet"
           }
          ],
          "scattergeo": [
           {
            "marker": {
             "colorbar": {
              "outlinewidth": 0,
              "ticks": ""
             }
            },
            "type": "scattergeo"
           }
          ],
          "scattergl": [
           {
            "marker": {
             "colorbar": {
              "outlinewidth": 0,
              "ticks": ""
             }
            },
            "type": "scattergl"
           }
          ],
          "scattermap": [
           {
            "marker": {
             "colorbar": {
              "outlinewidth": 0,
              "ticks": ""
             }
            },
            "type": "scattermap"
           }
          ],
          "scattermapbox": [
           {
            "marker": {
             "colorbar": {
              "outlinewidth": 0,
              "ticks": ""
             }
            },
            "type": "scattermapbox"
           }
          ],
          "scatterpolar": [
           {
            "marker": {
             "colorbar": {
              "outlinewidth": 0,
              "ticks": ""
             }
            },
            "type": "scatterpolar"
           }
          ],
          "scatterpolargl": [
           {
            "marker": {
             "colorbar": {
              "outlinewidth": 0,
              "ticks": ""
             }
            },
            "type": "scatterpolargl"
           }
          ],
          "scatterternary": [
           {
            "marker": {
             "colorbar": {
              "outlinewidth": 0,
              "ticks": ""
             }
            },
            "type": "scatterternary"
           }
          ],
          "surface": [
           {
            "colorbar": {
             "outlinewidth": 0,
             "ticks": ""
            },
            "colorscale": [
             [
              0,
              "#0d0887"
             ],
             [
              0.1111111111111111,
              "#46039f"
             ],
             [
              0.2222222222222222,
              "#7201a8"
             ],
             [
              0.3333333333333333,
              "#9c179e"
             ],
             [
              0.4444444444444444,
              "#bd3786"
             ],
             [
              0.5555555555555556,
              "#d8576b"
             ],
             [
              0.6666666666666666,
              "#ed7953"
             ],
             [
              0.7777777777777778,
              "#fb9f3a"
             ],
             [
              0.8888888888888888,
              "#fdca26"
             ],
             [
              1,
              "#f0f921"
             ]
            ],
            "type": "surface"
           }
          ],
          "table": [
           {
            "cells": {
             "fill": {
              "color": "#EBF0F8"
             },
             "line": {
              "color": "white"
             }
            },
            "header": {
             "fill": {
              "color": "#C8D4E3"
             },
             "line": {
              "color": "white"
             }
            },
            "type": "table"
           }
          ]
         },
         "layout": {
          "annotationdefaults": {
           "arrowcolor": "#2a3f5f",
           "arrowhead": 0,
           "arrowwidth": 1
          },
          "autotypenumbers": "strict",
          "coloraxis": {
           "colorbar": {
            "outlinewidth": 0,
            "ticks": ""
           }
          },
          "colorscale": {
           "diverging": [
            [
             0,
             "#8e0152"
            ],
            [
             0.1,
             "#c51b7d"
            ],
            [
             0.2,
             "#de77ae"
            ],
            [
             0.3,
             "#f1b6da"
            ],
            [
             0.4,
             "#fde0ef"
            ],
            [
             0.5,
             "#f7f7f7"
            ],
            [
             0.6,
             "#e6f5d0"
            ],
            [
             0.7,
             "#b8e186"
            ],
            [
             0.8,
             "#7fbc41"
            ],
            [
             0.9,
             "#4d9221"
            ],
            [
             1,
             "#276419"
            ]
           ],
           "sequential": [
            [
             0,
             "#0d0887"
            ],
            [
             0.1111111111111111,
             "#46039f"
            ],
            [
             0.2222222222222222,
             "#7201a8"
            ],
            [
             0.3333333333333333,
             "#9c179e"
            ],
            [
             0.4444444444444444,
             "#bd3786"
            ],
            [
             0.5555555555555556,
             "#d8576b"
            ],
            [
             0.6666666666666666,
             "#ed7953"
            ],
            [
             0.7777777777777778,
             "#fb9f3a"
            ],
            [
             0.8888888888888888,
             "#fdca26"
            ],
            [
             1,
             "#f0f921"
            ]
           ],
           "sequentialminus": [
            [
             0,
             "#0d0887"
            ],
            [
             0.1111111111111111,
             "#46039f"
            ],
            [
             0.2222222222222222,
             "#7201a8"
            ],
            [
             0.3333333333333333,
             "#9c179e"
            ],
            [
             0.4444444444444444,
             "#bd3786"
            ],
            [
             0.5555555555555556,
             "#d8576b"
            ],
            [
             0.6666666666666666,
             "#ed7953"
            ],
            [
             0.7777777777777778,
             "#fb9f3a"
            ],
            [
             0.8888888888888888,
             "#fdca26"
            ],
            [
             1,
             "#f0f921"
            ]
           ]
          },
          "colorway": [
           "#636efa",
           "#EF553B",
           "#00cc96",
           "#ab63fa",
           "#FFA15A",
           "#19d3f3",
           "#FF6692",
           "#B6E880",
           "#FF97FF",
           "#FECB52"
          ],
          "font": {
           "color": "#2a3f5f"
          },
          "geo": {
           "bgcolor": "white",
           "lakecolor": "white",
           "landcolor": "#E5ECF6",
           "showlakes": true,
           "showland": true,
           "subunitcolor": "white"
          },
          "hoverlabel": {
           "align": "left"
          },
          "hovermode": "closest",
          "mapbox": {
           "style": "light"
          },
          "paper_bgcolor": "white",
          "plot_bgcolor": "#E5ECF6",
          "polar": {
           "angularaxis": {
            "gridcolor": "white",
            "linecolor": "white",
            "ticks": ""
           },
           "bgcolor": "#E5ECF6",
           "radialaxis": {
            "gridcolor": "white",
            "linecolor": "white",
            "ticks": ""
           }
          },
          "scene": {
           "xaxis": {
            "backgroundcolor": "#E5ECF6",
            "gridcolor": "white",
            "gridwidth": 2,
            "linecolor": "white",
            "showbackground": true,
            "ticks": "",
            "zerolinecolor": "white"
           },
           "yaxis": {
            "backgroundcolor": "#E5ECF6",
            "gridcolor": "white",
            "gridwidth": 2,
            "linecolor": "white",
            "showbackground": true,
            "ticks": "",
            "zerolinecolor": "white"
           },
           "zaxis": {
            "backgroundcolor": "#E5ECF6",
            "gridcolor": "white",
            "gridwidth": 2,
            "linecolor": "white",
            "showbackground": true,
            "ticks": "",
            "zerolinecolor": "white"
           }
          },
          "shapedefaults": {
           "line": {
            "color": "#2a3f5f"
           }
          },
          "ternary": {
           "aaxis": {
            "gridcolor": "white",
            "linecolor": "white",
            "ticks": ""
           },
           "baxis": {
            "gridcolor": "white",
            "linecolor": "white",
            "ticks": ""
           },
           "bgcolor": "#E5ECF6",
           "caxis": {
            "gridcolor": "white",
            "linecolor": "white",
            "ticks": ""
           }
          },
          "title": {
           "x": 0.05
          },
          "xaxis": {
           "automargin": true,
           "gridcolor": "white",
           "linecolor": "white",
           "ticks": "",
           "title": {
            "standoff": 15
           },
           "zerolinecolor": "white",
           "zerolinewidth": 2
          },
          "yaxis": {
           "automargin": true,
           "gridcolor": "white",
           "linecolor": "white",
           "ticks": "",
           "title": {
            "standoff": 15
           },
           "zerolinecolor": "white",
           "zerolinewidth": 2
          }
         }
        },
        "title": {
         "text": "Burned Area by Month"
        },
        "xaxis": {
         "anchor": "y",
         "domain": [
          0,
          1
         ],
         "title": {
          "text": "month"
         }
        },
        "yaxis": {
         "anchor": "x",
         "domain": [
          0,
          1
         ],
         "title": {
          "text": "sum of Burned Area (ha)"
         }
        }
       }
      }
     },
     "metadata": {},
     "output_type": "display_data"
    }
   ],
   "source": [
    "fig = px.histogram(df, x='month', y='area', title='Burned Area by Month',\n",
    "              labels={'area': 'Burned Area (ha)'})\n",
    "fig.show()"
   ]
  },
  {
   "cell_type": "code",
   "execution_count": 519,
   "id": "16755690",
   "metadata": {},
   "outputs": [
    {
     "data": {
      "application/vnd.plotly.v1+json": {
       "config": {
        "plotlyServerURL": "https://plot.ly"
       },
       "data": [
        {
         "bingroup": "x",
         "histfunc": "sum",
         "hovertemplate": "day=%{x}<br>sum of Burned Area (ha)=%{y}<extra></extra>",
         "legendgroup": "",
         "marker": {
          "color": "#636efa",
          "pattern": {
           "shape": ""
          }
         },
         "name": "",
         "orientation": "v",
         "showlegend": false,
         "type": "histogram",
         "x": [
          "fri",
          "tue",
          "sat",
          "fri",
          "sun",
          "sun",
          "mon",
          "mon",
          "tue",
          "sat",
          "sat",
          "sat",
          "fri",
          "mon",
          "wed",
          "fri",
          "sat",
          "mon",
          "wed",
          "sat",
          "tue",
          "mon",
          "sun",
          "sat",
          "sat",
          "sun",
          "fri",
          "mon",
          "sat",
          "sun",
          "fri",
          "mon",
          "fri",
          "sun",
          "mon",
          "tue",
          "tue",
          "fri",
          "sat",
          "tue",
          "tue",
          "sat",
          "tue",
          "sat",
          "wed",
          "wed",
          "mon",
          "mon",
          "mon",
          "mon",
          "thu",
          "sun",
          "wed",
          "wed",
          "thu",
          "thu",
          "tue",
          "sun",
          "mon",
          "fri",
          "sun",
          "sun",
          "thu",
          "sun",
          "mon",
          "thu",
          "fri",
          "fri",
          "fri",
          "fri",
          "fri",
          "fri",
          "fri",
          "tue",
          "fri",
          "thu",
          "fri",
          "mon",
          "fri",
          "tue",
          "sun",
          "sun",
          "tue",
          "wed",
          "thu",
          "thu",
          "thu",
          "thu",
          "sun",
          "sat",
          "sat",
          "fri",
          "sun",
          "sun",
          "mon",
          "sun",
          "sat",
          "sat",
          "sun",
          "sun",
          "sun",
          "tue",
          "tue",
          "sat",
          "sat",
          "fri",
          "thu",
          "sun",
          "sat",
          "mon",
          "fri",
          "fri",
          "sun",
          "mon",
          "tue",
          "tue",
          "sat",
          "sat",
          "mon",
          "thu",
          "mon",
          "mon",
          "sun",
          "tue",
          "fri",
          "sun",
          "mon",
          "fri",
          "wed",
          "sun",
          "sat",
          "mon",
          "sun",
          "thu",
          "tue",
          "sat",
          "sun",
          "mon",
          "tue",
          "tue",
          "mon",
          "wed",
          "fri",
          "sat",
          "wed",
          "thu",
          "mon",
          "tue",
          "tue",
          "thu",
          "fri",
          "sun",
          "sat",
          "fri",
          "sat",
          "sun",
          "sat",
          "wed",
          "wed",
          "fri",
          "mon",
          "thu",
          "sat",
          "sat",
          "sun",
          "thu",
          "wed",
          "wed",
          "fri",
          "thu",
          "wed",
          "wed",
          "sun",
          "mon",
          "sat",
          "sat",
          "thu",
          "sun",
          "wed",
          "tue",
          "sun",
          "mon",
          "sun",
          "mon",
          "fri",
          "tue",
          "sun",
          "mon",
          "sat",
          "sun",
          "fri",
          "thu",
          "tue",
          "wed",
          "tue",
          "fri",
          "thu",
          "thu",
          "tue",
          "mon",
          "tue",
          "sun",
          "sun",
          "wed",
          "sat",
          "thu",
          "sat",
          "tue",
          "fri",
          "thu",
          "sat",
          "sat",
          "fri",
          "mon",
          "sat",
          "sat",
          "sun",
          "mon",
          "wed",
          "mon",
          "sun",
          "fri",
          "mon",
          "fri",
          "wed",
          "sun",
          "mon",
          "sat",
          "sun",
          "sat",
          "wed",
          "sun",
          "tue",
          "tue",
          "sat",
          "sun",
          "sat",
          "tue",
          "sat",
          "sun",
          "wed",
          "fri",
          "sun",
          "sun",
          "sun",
          "sun",
          "sun",
          "wed",
          "wed",
          "wed",
          "wed",
          "wed",
          "wed",
          "thu",
          "thu",
          "thu",
          "sat",
          "sat",
          "sat",
          "sat",
          "mon",
          "fri",
          "fri",
          "fri",
          "fri",
          "tue",
          "tue",
          "tue",
          "tue",
          "tue",
          "tue",
          "tue",
          "tue",
          "sun",
          "wed",
          "thu",
          "mon",
          "mon",
          "mon",
          "mon",
          "fri",
          "tue",
          "sun",
          "wed",
          "fri",
          "sun",
          "wed",
          "sat",
          "sat",
          "sat",
          "sat",
          "sat",
          "fri",
          "tue",
          "tue",
          "sun",
          "sun",
          "sun",
          "wed",
          "sat",
          "mon",
          "mon",
          "fri",
          "fri",
          "sat",
          "sun",
          "sun",
          "sun",
          "sun",
          "sun",
          "sun",
          "sun",
          "sun",
          "wed",
          "wed",
          "wed",
          "thu",
          "thu",
          "thu",
          "thu",
          "thu",
          "thu",
          "thu",
          "thu",
          "thu",
          "sat",
          "sat",
          "sat",
          "sat",
          "sat",
          "sat",
          "sat",
          "sat",
          "mon",
          "mon",
          "mon",
          "mon",
          "mon",
          "mon",
          "mon",
          "mon",
          "mon",
          "mon",
          "mon",
          "mon",
          "mon",
          "mon",
          "fri",
          "fri",
          "fri",
          "fri",
          "fri",
          "fri",
          "fri",
          "fri",
          "fri",
          "fri",
          "fri",
          "fri",
          "fri",
          "fri",
          "fri",
          "fri",
          "tue",
          "tue",
          "tue",
          "tue",
          "tue",
          "sat",
          "sun",
          "sun",
          "wed",
          "sun",
          "thu",
          "fri",
          "sat",
          "mon",
          "sat",
          "thu",
          "sun",
          "wed",
          "thu",
          "wed",
          "thu",
          "sat",
          "sun",
          "sun",
          "thu",
          "fri",
          "fri",
          "mon",
          "fri",
          "sun",
          "tue",
          "mon",
          "sun",
          "sun",
          "sun",
          "sat",
          "wed",
          "wed",
          "thu",
          "fri",
          "thu",
          "wed",
          "tue",
          "sat",
          "sat",
          "fri",
          "tue",
          "fri",
          "fri",
          "mon",
          "sat",
          "sun",
          "thu",
          "tue",
          "wed",
          "sun",
          "sun",
          "wed",
          "wed",
          "sun",
          "sat",
          "sat",
          "thu",
          "thu",
          "mon",
          "thu",
          "sun",
          "thu",
          "sat",
          "thu",
          "sun",
          "fri",
          "sat",
          "mon",
          "sat",
          "sat",
          "fri",
          "fri",
          "mon",
          "mon",
          "fri",
          "fri",
          "sun",
          "sun",
          "wed",
          "wed",
          "sun",
          "wed",
          "fri",
          "mon",
          "thu",
          "thu",
          "mon",
          "thu",
          "wed",
          "sat",
          "sat",
          "sat",
          "sat",
          "sun",
          "tue",
          "tue",
          "sat",
          "mon",
          "wed",
          "thu",
          "sun",
          "sun",
          "fri",
          "mon",
          "sat",
          "thu",
          "thu",
          "thu",
          "sun",
          "sun",
          "mon",
          "thu",
          "thu",
          "sun",
          "sun",
          "sun",
          "mon",
          "tue",
          "tue",
          "tue",
          "wed",
          "wed",
          "thu",
          "fri",
          "fri",
          "sat",
          "mon",
          "mon",
          "tue",
          "tue",
          "tue",
          "tue",
          "tue",
          "tue",
          "wed",
          "wed",
          "thu",
          "fri",
          "fri",
          "fri",
          "fri",
          "fri",
          "sun",
          "sun",
          "sun",
          "sun",
          "sat",
          "tue"
         ],
         "xaxis": "x",
         "y": {
          "bdata": "AAAAAAAAAAAAAAAAAAAAAAAAAAAAAAAAAAAAAAAAAAAAAAAAAAAAAAAAAAAAAAAAAAAAAAAAAAAAAAAAAAAAAAAAAAAAAAAAAAAAAAAAAAAAAAAAAAAAAAAAAAAAAAAAAAAAAAAAAAAAAAAAAAAAAAAAAAAAAAAAAAAAAAAAAAAAAAAAAAAAAAAAAAAAAAAAAAAAAAAAAAAAAAAAAAAAAAAAAAAAAAAAAAAAAAAAAAAAAAAAAAAAAAAAAAAAAAAAAAAAAAAAAAAAAAAAAAAAAAAAAAAAAAAAAAAAAAAAAAAAAAAAAAAAAAAAAAAAAAAAAAAAAAAAAAAAAAAAAAAAAAAAAAAAAAAAAAAAAAAAAAAAAAAAAAAAAAAAAAAAAAAAAAAAAAAAAAAAAAAAAAAAAAAAAAAAAAAAAAAAAAAAAAAAAAAAAAAAAAAAAAAAAAAAAAAAAAAAAAAAAAAAAAAAAAAAAAAAAAAAAAAAAAAAAAAAAAAAAAAAAAAAAAAAAAAAAAAAAAAAAAAAAAAAAAAAAAAAAAAAAAAAAAAAAAAAAAAAAAAAAAAAAAAAAAAAAAAAAAAAAAAAAAAAAAAAAAAAAAAAAAAAAAAAAAAAAAAAAAAAAAAAAAAAAAAAAAAAAAAAAAAAAAAAAAAAAAAAAAAAAAAAAAAAAAAAAAAAAAAAAAAAAAAAAAAAAAAAAAAAAAAAAAAAAAAAAAAAAAAAAAAAAAAAAAAAAAAAAAAAAAAAAAAAAAAAAAAAAAAAAAAAAAAAAAAAAAAAAAAAAAAAAAAAAAAAAAAAAAAAAAAAAAAAAAAAAAAAAAAAAAAAAAAAAAAAAAAAAAAAAAAAAAAAAAAAAAAAAAAAAAAAAAAAAAAAAAAAAAAAAAAAAAAAAAAAAAAAAAAAAAAAAAAAAAAAAAAAAAAAAAAAAAAAAAAAAAAAAAAAAAAAAAAAAAAAAAAAAAAAAAAAAAAAAAAAAAAAAAAAAAAAAAAAAAAAAAAAAAAAAAAAAAAAAAAAAAAAAAAAAAAAAAAAAAAAAAAAAAAAAAAAAAAAAAAAAAAAAAAAAAAAAAAAAAAAAAAAAAAAAAAAAAAAAAAAAAAAAAAAAAAAAAAAAAAAAAAAAAAAAAAAAAAAAAAAAAAAAAAAAAAAAAAAAAAAAAAAAAAAAAAAAAAAAAAAAAAAAAAAAAAAAAAAAAAAAAAAAAAAAAAAAAAAAAAAAAAAAAAAAAAAAAAAAAAAAAAAAAAAAAAAAAAAAAAAAAAAAAAAAAAAAAAAAAAAAAAAAAAAAAAAAAAAAAAAAAAAAAAAAAAAAAAAAAAAAAAAAAAAAAAAAAAAAAAAAAAAAAAAAAAAAAAAAAAAAAAAAAAAAAAAAAAAAAAAAAAAAAAAAAAAAAAAAAAAAAAAAAAAAAAAAAAAAAAAAAAAAAAAAAAAAAAAAAAAAAAAAAAAAAAAAAAAAAAAAAAAAAAAAAAAAAAAAAAACtejcD0K1z+F61G4HoXbPxSuR+F6FN4/mpmZmZmZ4T+F61G4HoXjP7gehetRuOY/pHA9Ctej6D/NzMzMzMzsP2ZmZmZmZu4/uB6F61G47j8fhetRuB7xP+xRuB6F6/E/CtejcD0K8z/D9Shcj8L1P+F6FK5H4fY/XI/C9Shc9z9cj8L1KFz3P/YoXI/C9fg/w/UoXI/C+T8UrkfhehT6Pz0K16NwPfo/CtejcD0K+z8AAAAAAAD8P2ZmZmZmZv4/CtejcD0K/z8zMzMzMzP/PxSuR+F6FABAH4XrUbgeAUBSuB6F61ECQBSuR+F6FARAPQrXo3A9BEBmZmZmZmYEQI/C9ShcjwRAhetRuB6FBUDsUbgehesFQI/C9ShcjwhAAAAAAAAADEAfhetRuB4SQHE9CtejcBJAw/UoXI/CEkCF61G4HoUTQOxRuB6F6xRAUrgehetRFUDD9Shcj8IVQIXrUbgehRlAUrgehetRG0DXo3A9CtcbQClcj8L1KBxAw/UoXI/CHEAzMzMzMzMdQJqZmZmZmR1AexSuR+F6IEAfhetRuJ4gQFyPwvUoXCFA7FG4HoVrIUBSuB6F69EiQIXrUbgeBSRACtejcD0KJEBcj8L1KNwlQB+F61G4HiZAexSuR+F6JkCkcD0K16MmQI/C9ShcDydAMzMzMzMzKECamZmZmRkqQGZmZmZmZitAexSuR+H6K0CkcD0K1yMtQGZmZmZm5i5AMzMzMzMzMUB7FK5H4TozQClcj8L1aDdAexSuR+E6OEAAAAAAAAA6QOF6FK5HITpAmpmZmZlZO0ApXI/C9ag8QClcj8L1qDxAexSuR+F6PUBSuB6F61E+QLgehetRuD9AXI/C9SjcP0ApXI/C9QhAQHE9Ctej8EFAzczMzMxsQkDD9Shcj4JCQHsUrkfh2kJAZmZmZmZGSECPwvUoXK9IQGZmZmZmJk1AZmZmZmYGUEAzMzMzM9NRQI/C9ShcH1ZA7FG4HoXLV0ApXI/C9dhZQArXo3A9alpAXI/C9ShcY0CPwvUoXI9oQK5H4XoUHmlAXI/C9SicakCPwvUoXAuRQAAAAAAAAAAAAAAAAAAAAAAAAAAAAAAAAMP1KFyPQiRAAAAAAAAAAAD2KFyPwvUGQFK4HoXrUeg/CtejcD0Ktz8AAAAAAADoPwAAAAAAAAAAw/UoXI/CA0DD9Shcj8LlP7gehetRuM4/4XoUrkfhyj9SuB6F61H4P65H4XoUriRAAAAAAAAAAAAK16NwPQogQMP1KFyPwuU/AAAAAAAAAAAUrkfhehT2PzMzMzMzsyFAZmZmZmZmCkAAAAAAAAARQPYoXI/C9fg/KVyPwvUoGkBI4XoUrkfpP8P1KFyPwsU/AAAAAAAAAAAAAAAAAAAAAJqZmZmZmRFApHA9Ctej4D8K16NwPYoiQLgehetRuAhA9ihcj8L1IUDhehSuR2EmQIXrUbgehRVAmpmZmZnZMUD2KFyPwnUlQEjhehSuBzZACtejcD2KI0AK16NwPYoiQIXrUbgexThAAAAAAAAAAACamZmZmZnxPz0K16NwPThAAAAAAAAAAAAAAAAAAAAAAAAAAAAAAAAAAAAAAAAAAAAAAAAAAAAAAAAAAAAAAAAAAAAAAAAAIEAfhetRuB4FQM3MzMzMnFVASOF6FK5HGkAAAAAAAAAAAM3MzMzMzOw/AAAAAAAAAAAAAAAAAAAAAAAAAAAAAAAAAAAAAAAAAAApXI/C9SgMQAAAAAAAAAAAAAAAAAAAAAAAAAAAAAAAAAAAAAAAAAAAPQrXo3A92j+4HoXrUbgUQAAAAAAAAAAAAAAAAAAAAAAAAAAAAAAAABSuR+F6lCxAAAAAAAAAAAAAAAAAAAAAAEjhehSuR/k/AAAAAAAAAAAAAAAAAAAAAD0K16NwPQ5AAAAAAAAAAACkcD0K16MRQK5H4XoULkFA16NwPQrXHEApXI/C9SjwP3E9CtejcAFArkfhehSuEUAAAAAAAAAAAAAAAAAAAAAAAAAAAAAAAAAAAAAAAAAAAKRwPQrXowpAUrgehetRGkBI4XoUrkcvQHE9CtejcCZACtejcD0KAUAAAAAAAAAAAAAAAAAAAAAAAAAAAAAAAACF61G4HgVMQOxRuB6F6x1AhetRuB6F9z9xPQrXo3APQAAAAAAAAAAAAAAAAAAAAABxPQrXo3ABQGZmZmZmZhhAUrgehetRF0BxPQrXozA8QAAAAAAAAAAAAAAAAAAAAAA9CtejcD36P65H4XoUrg1APQrXo3A9HUA9CtejcD0AQIXrUbgehfs/4XoUrkfhF0AfhetRuB4qQClcj8L1KPQ/AAAAAAAAAAAAAAAAAAAAAD0K16NwPSBAcT0K16Nw8T+F61G4HoUPQKRwPQrXo+A/cT0K16NwB0CamZmZmZkWQEjhehSuBzRAAAAAAAAA/D8AAAAAAAAAAEjhehSuRylAAAAAAAAAAAAfhetRuB4mQAAAAAAAAAAAAAAAAAAAAAAAAAAAAAAAAM3MzMzMTDJAzczMzMysQ0AAAAAAAAAAAFyPwvUo1GVAAAAAAAAAAAAAAAAAAAAAAOxRuB6F6x5AFK5H4XpUMEBxPQrXo3AXQI/C9Shcb0VAXI/C9ShcKEAAAAAAAAAwQNejcD0KlzhAAAAAAAAAAAA9CtejcL08QAAAAAAAAAAA7FG4HoXrI0CuR+F6FC4+QHE9CtejsFFAAAAAAAAAAAAAAAAAAAAAAKRwPQrX40lAH4XrUbgeDUAK16NwPQoNQAAAAAAAAAAAAAAAAAAAAABSuB6F61EgQM3MzMzMzBNAAAAAAAAAAAAAAAAAAAAAAClcj8L1KBhAAAAAAAAAAACamZmZmZkPQAAAAAAAAAAAMzMzMzMzH0AAAAAAAAAAAAAAAAAAAAAAexSuR+F6EkAUrkfhehT6PwAAAAAAAAAAAAAAAAAAAAAK16NwPVKHQBSuR+F6FBxAAAAAAAAAAACF61G4HoUDQGZmZmZmZghAuB6F61E4Z0AAAAAAAAAAADMzMzMzMxlACtejcD0K5z/Xo3A9CtcTQAAAAAAAAAAAAAAAAAAAAADNzMzMzMwCQAAAAAAAAAAAmpmZmZmZCUAAAAAAAAAAAHE9CtejcBlAAAAAAAAAAACuR+F6FK4uQAAAAAAAAAAAAAAAAAAAAABI4XoUrkfhPwAAAAAAAAAAuB6F61G4GUAfhetRuB7VPwAAAAAAAAAArkfhehSu8z/NzMzMzMwKQAAAAAAAAAAA7FG4HoXrI0AAAAAAAAAAAAAAAAAAAAAAAAAAAAAAAAAAAAAAAAAAAAAAAAAAAAAAuB6F61G4GUDsUbgehWsjQAAAAAAAAAAAAAAAAAAAAAAAAAAAAAAAAAAAAAAAAAAAAAAAAAAAAAAAAAAAALBUQI/C9ShcjwpACtejcD0K/z8AAAAAAAAAAAAAAAAAAAAArkfhehSuDUCPwvUoXI8VQB+F61G4HgFAXI/C9ShcG0BxPQrXo3AJQDMzMzMzMxZAcT0K16NwGkBxPQrXo5BOQAAAAAAAAAAAPQrXo3A9Q0AK16NwPQr/PxSuR+F6lFFAKVyPwvUoJECF61G4HoUJQClcj8L1KPw/cT0K16NwHUCuR+F6FK4BQBSuR+F6aHFAAAAAAAAABkAAAAAAAAAAAKRwPQrXo/Q/AAAAAAAAAACuR+F6FG46QI/C9ShcjwBAAAAAAAAAAEBmZmZmZmYwQJqZmZmZWUdAAAAAAAAAAAAAAAAAAAAAAAAAAAAAAAAAAAAAAAAAAAApXI/C9ahFQK5H4XoULiFAAAAAAAAAAAApXI/C9SgGQFyPwvUoXC1AhetRuB5FRECkcD0K16MlQAAAAAAAAAAAAAAAAAAAAAAAAAAAAAAAADMzMzMzM/8/7FG4HoXLSEAzMzMzMzMXQAAAAAAAAAAAAAAAAAAAAAAAAAAAAAAAAFyPwvUoXAFAhetRuB6F2z8AAAAAAAAAAMP1KFyPwhlAhetRuB4lS0BSuB6F61EmQAAAAAAAAAAAAAAAAAAAAAA=",
          "dtype": "f8"
         },
         "yaxis": "y"
        }
       ],
       "layout": {
        "barmode": "relative",
        "legend": {
         "tracegroupgap": 0
        },
        "template": {
         "data": {
          "bar": [
           {
            "error_x": {
             "color": "#2a3f5f"
            },
            "error_y": {
             "color": "#2a3f5f"
            },
            "marker": {
             "line": {
              "color": "#E5ECF6",
              "width": 0.5
             },
             "pattern": {
              "fillmode": "overlay",
              "size": 10,
              "solidity": 0.2
             }
            },
            "type": "bar"
           }
          ],
          "barpolar": [
           {
            "marker": {
             "line": {
              "color": "#E5ECF6",
              "width": 0.5
             },
             "pattern": {
              "fillmode": "overlay",
              "size": 10,
              "solidity": 0.2
             }
            },
            "type": "barpolar"
           }
          ],
          "carpet": [
           {
            "aaxis": {
             "endlinecolor": "#2a3f5f",
             "gridcolor": "white",
             "linecolor": "white",
             "minorgridcolor": "white",
             "startlinecolor": "#2a3f5f"
            },
            "baxis": {
             "endlinecolor": "#2a3f5f",
             "gridcolor": "white",
             "linecolor": "white",
             "minorgridcolor": "white",
             "startlinecolor": "#2a3f5f"
            },
            "type": "carpet"
           }
          ],
          "choropleth": [
           {
            "colorbar": {
             "outlinewidth": 0,
             "ticks": ""
            },
            "type": "choropleth"
           }
          ],
          "contour": [
           {
            "colorbar": {
             "outlinewidth": 0,
             "ticks": ""
            },
            "colorscale": [
             [
              0,
              "#0d0887"
             ],
             [
              0.1111111111111111,
              "#46039f"
             ],
             [
              0.2222222222222222,
              "#7201a8"
             ],
             [
              0.3333333333333333,
              "#9c179e"
             ],
             [
              0.4444444444444444,
              "#bd3786"
             ],
             [
              0.5555555555555556,
              "#d8576b"
             ],
             [
              0.6666666666666666,
              "#ed7953"
             ],
             [
              0.7777777777777778,
              "#fb9f3a"
             ],
             [
              0.8888888888888888,
              "#fdca26"
             ],
             [
              1,
              "#f0f921"
             ]
            ],
            "type": "contour"
           }
          ],
          "contourcarpet": [
           {
            "colorbar": {
             "outlinewidth": 0,
             "ticks": ""
            },
            "type": "contourcarpet"
           }
          ],
          "heatmap": [
           {
            "colorbar": {
             "outlinewidth": 0,
             "ticks": ""
            },
            "colorscale": [
             [
              0,
              "#0d0887"
             ],
             [
              0.1111111111111111,
              "#46039f"
             ],
             [
              0.2222222222222222,
              "#7201a8"
             ],
             [
              0.3333333333333333,
              "#9c179e"
             ],
             [
              0.4444444444444444,
              "#bd3786"
             ],
             [
              0.5555555555555556,
              "#d8576b"
             ],
             [
              0.6666666666666666,
              "#ed7953"
             ],
             [
              0.7777777777777778,
              "#fb9f3a"
             ],
             [
              0.8888888888888888,
              "#fdca26"
             ],
             [
              1,
              "#f0f921"
             ]
            ],
            "type": "heatmap"
           }
          ],
          "histogram": [
           {
            "marker": {
             "pattern": {
              "fillmode": "overlay",
              "size": 10,
              "solidity": 0.2
             }
            },
            "type": "histogram"
           }
          ],
          "histogram2d": [
           {
            "colorbar": {
             "outlinewidth": 0,
             "ticks": ""
            },
            "colorscale": [
             [
              0,
              "#0d0887"
             ],
             [
              0.1111111111111111,
              "#46039f"
             ],
             [
              0.2222222222222222,
              "#7201a8"
             ],
             [
              0.3333333333333333,
              "#9c179e"
             ],
             [
              0.4444444444444444,
              "#bd3786"
             ],
             [
              0.5555555555555556,
              "#d8576b"
             ],
             [
              0.6666666666666666,
              "#ed7953"
             ],
             [
              0.7777777777777778,
              "#fb9f3a"
             ],
             [
              0.8888888888888888,
              "#fdca26"
             ],
             [
              1,
              "#f0f921"
             ]
            ],
            "type": "histogram2d"
           }
          ],
          "histogram2dcontour": [
           {
            "colorbar": {
             "outlinewidth": 0,
             "ticks": ""
            },
            "colorscale": [
             [
              0,
              "#0d0887"
             ],
             [
              0.1111111111111111,
              "#46039f"
             ],
             [
              0.2222222222222222,
              "#7201a8"
             ],
             [
              0.3333333333333333,
              "#9c179e"
             ],
             [
              0.4444444444444444,
              "#bd3786"
             ],
             [
              0.5555555555555556,
              "#d8576b"
             ],
             [
              0.6666666666666666,
              "#ed7953"
             ],
             [
              0.7777777777777778,
              "#fb9f3a"
             ],
             [
              0.8888888888888888,
              "#fdca26"
             ],
             [
              1,
              "#f0f921"
             ]
            ],
            "type": "histogram2dcontour"
           }
          ],
          "mesh3d": [
           {
            "colorbar": {
             "outlinewidth": 0,
             "ticks": ""
            },
            "type": "mesh3d"
           }
          ],
          "parcoords": [
           {
            "line": {
             "colorbar": {
              "outlinewidth": 0,
              "ticks": ""
             }
            },
            "type": "parcoords"
           }
          ],
          "pie": [
           {
            "automargin": true,
            "type": "pie"
           }
          ],
          "scatter": [
           {
            "fillpattern": {
             "fillmode": "overlay",
             "size": 10,
             "solidity": 0.2
            },
            "type": "scatter"
           }
          ],
          "scatter3d": [
           {
            "line": {
             "colorbar": {
              "outlinewidth": 0,
              "ticks": ""
             }
            },
            "marker": {
             "colorbar": {
              "outlinewidth": 0,
              "ticks": ""
             }
            },
            "type": "scatter3d"
           }
          ],
          "scattercarpet": [
           {
            "marker": {
             "colorbar": {
              "outlinewidth": 0,
              "ticks": ""
             }
            },
            "type": "scattercarpet"
           }
          ],
          "scattergeo": [
           {
            "marker": {
             "colorbar": {
              "outlinewidth": 0,
              "ticks": ""
             }
            },
            "type": "scattergeo"
           }
          ],
          "scattergl": [
           {
            "marker": {
             "colorbar": {
              "outlinewidth": 0,
              "ticks": ""
             }
            },
            "type": "scattergl"
           }
          ],
          "scattermap": [
           {
            "marker": {
             "colorbar": {
              "outlinewidth": 0,
              "ticks": ""
             }
            },
            "type": "scattermap"
           }
          ],
          "scattermapbox": [
           {
            "marker": {
             "colorbar": {
              "outlinewidth": 0,
              "ticks": ""
             }
            },
            "type": "scattermapbox"
           }
          ],
          "scatterpolar": [
           {
            "marker": {
             "colorbar": {
              "outlinewidth": 0,
              "ticks": ""
             }
            },
            "type": "scatterpolar"
           }
          ],
          "scatterpolargl": [
           {
            "marker": {
             "colorbar": {
              "outlinewidth": 0,
              "ticks": ""
             }
            },
            "type": "scatterpolargl"
           }
          ],
          "scatterternary": [
           {
            "marker": {
             "colorbar": {
              "outlinewidth": 0,
              "ticks": ""
             }
            },
            "type": "scatterternary"
           }
          ],
          "surface": [
           {
            "colorbar": {
             "outlinewidth": 0,
             "ticks": ""
            },
            "colorscale": [
             [
              0,
              "#0d0887"
             ],
             [
              0.1111111111111111,
              "#46039f"
             ],
             [
              0.2222222222222222,
              "#7201a8"
             ],
             [
              0.3333333333333333,
              "#9c179e"
             ],
             [
              0.4444444444444444,
              "#bd3786"
             ],
             [
              0.5555555555555556,
              "#d8576b"
             ],
             [
              0.6666666666666666,
              "#ed7953"
             ],
             [
              0.7777777777777778,
              "#fb9f3a"
             ],
             [
              0.8888888888888888,
              "#fdca26"
             ],
             [
              1,
              "#f0f921"
             ]
            ],
            "type": "surface"
           }
          ],
          "table": [
           {
            "cells": {
             "fill": {
              "color": "#EBF0F8"
             },
             "line": {
              "color": "white"
             }
            },
            "header": {
             "fill": {
              "color": "#C8D4E3"
             },
             "line": {
              "color": "white"
             }
            },
            "type": "table"
           }
          ]
         },
         "layout": {
          "annotationdefaults": {
           "arrowcolor": "#2a3f5f",
           "arrowhead": 0,
           "arrowwidth": 1
          },
          "autotypenumbers": "strict",
          "coloraxis": {
           "colorbar": {
            "outlinewidth": 0,
            "ticks": ""
           }
          },
          "colorscale": {
           "diverging": [
            [
             0,
             "#8e0152"
            ],
            [
             0.1,
             "#c51b7d"
            ],
            [
             0.2,
             "#de77ae"
            ],
            [
             0.3,
             "#f1b6da"
            ],
            [
             0.4,
             "#fde0ef"
            ],
            [
             0.5,
             "#f7f7f7"
            ],
            [
             0.6,
             "#e6f5d0"
            ],
            [
             0.7,
             "#b8e186"
            ],
            [
             0.8,
             "#7fbc41"
            ],
            [
             0.9,
             "#4d9221"
            ],
            [
             1,
             "#276419"
            ]
           ],
           "sequential": [
            [
             0,
             "#0d0887"
            ],
            [
             0.1111111111111111,
             "#46039f"
            ],
            [
             0.2222222222222222,
             "#7201a8"
            ],
            [
             0.3333333333333333,
             "#9c179e"
            ],
            [
             0.4444444444444444,
             "#bd3786"
            ],
            [
             0.5555555555555556,
             "#d8576b"
            ],
            [
             0.6666666666666666,
             "#ed7953"
            ],
            [
             0.7777777777777778,
             "#fb9f3a"
            ],
            [
             0.8888888888888888,
             "#fdca26"
            ],
            [
             1,
             "#f0f921"
            ]
           ],
           "sequentialminus": [
            [
             0,
             "#0d0887"
            ],
            [
             0.1111111111111111,
             "#46039f"
            ],
            [
             0.2222222222222222,
             "#7201a8"
            ],
            [
             0.3333333333333333,
             "#9c179e"
            ],
            [
             0.4444444444444444,
             "#bd3786"
            ],
            [
             0.5555555555555556,
             "#d8576b"
            ],
            [
             0.6666666666666666,
             "#ed7953"
            ],
            [
             0.7777777777777778,
             "#fb9f3a"
            ],
            [
             0.8888888888888888,
             "#fdca26"
            ],
            [
             1,
             "#f0f921"
            ]
           ]
          },
          "colorway": [
           "#636efa",
           "#EF553B",
           "#00cc96",
           "#ab63fa",
           "#FFA15A",
           "#19d3f3",
           "#FF6692",
           "#B6E880",
           "#FF97FF",
           "#FECB52"
          ],
          "font": {
           "color": "#2a3f5f"
          },
          "geo": {
           "bgcolor": "white",
           "lakecolor": "white",
           "landcolor": "#E5ECF6",
           "showlakes": true,
           "showland": true,
           "subunitcolor": "white"
          },
          "hoverlabel": {
           "align": "left"
          },
          "hovermode": "closest",
          "mapbox": {
           "style": "light"
          },
          "paper_bgcolor": "white",
          "plot_bgcolor": "#E5ECF6",
          "polar": {
           "angularaxis": {
            "gridcolor": "white",
            "linecolor": "white",
            "ticks": ""
           },
           "bgcolor": "#E5ECF6",
           "radialaxis": {
            "gridcolor": "white",
            "linecolor": "white",
            "ticks": ""
           }
          },
          "scene": {
           "xaxis": {
            "backgroundcolor": "#E5ECF6",
            "gridcolor": "white",
            "gridwidth": 2,
            "linecolor": "white",
            "showbackground": true,
            "ticks": "",
            "zerolinecolor": "white"
           },
           "yaxis": {
            "backgroundcolor": "#E5ECF6",
            "gridcolor": "white",
            "gridwidth": 2,
            "linecolor": "white",
            "showbackground": true,
            "ticks": "",
            "zerolinecolor": "white"
           },
           "zaxis": {
            "backgroundcolor": "#E5ECF6",
            "gridcolor": "white",
            "gridwidth": 2,
            "linecolor": "white",
            "showbackground": true,
            "ticks": "",
            "zerolinecolor": "white"
           }
          },
          "shapedefaults": {
           "line": {
            "color": "#2a3f5f"
           }
          },
          "ternary": {
           "aaxis": {
            "gridcolor": "white",
            "linecolor": "white",
            "ticks": ""
           },
           "baxis": {
            "gridcolor": "white",
            "linecolor": "white",
            "ticks": ""
           },
           "bgcolor": "#E5ECF6",
           "caxis": {
            "gridcolor": "white",
            "linecolor": "white",
            "ticks": ""
           }
          },
          "title": {
           "x": 0.05
          },
          "xaxis": {
           "automargin": true,
           "gridcolor": "white",
           "linecolor": "white",
           "ticks": "",
           "title": {
            "standoff": 15
           },
           "zerolinecolor": "white",
           "zerolinewidth": 2
          },
          "yaxis": {
           "automargin": true,
           "gridcolor": "white",
           "linecolor": "white",
           "ticks": "",
           "title": {
            "standoff": 15
           },
           "zerolinecolor": "white",
           "zerolinewidth": 2
          }
         }
        },
        "title": {
         "text": "Burned Area by Day of the Week"
        },
        "xaxis": {
         "anchor": "y",
         "domain": [
          0,
          1
         ],
         "title": {
          "text": "day"
         }
        },
        "yaxis": {
         "anchor": "x",
         "domain": [
          0,
          1
         ],
         "title": {
          "text": "sum of Burned Area (ha)"
         }
        }
       }
      }
     },
     "metadata": {},
     "output_type": "display_data"
    }
   ],
   "source": [
    "fig = px.histogram(df, x='day', y='area', title='Burned Area by Day of the Week',\n",
    "              labels={'area': 'Burned Area (ha)'})\n",
    "fig.show()"
   ]
  },
  {
   "cell_type": "code",
   "execution_count": 520,
   "id": "063f0603",
   "metadata": {},
   "outputs": [
    {
     "data": {
      "application/vnd.plotly.v1+json": {
       "config": {
        "plotlyServerURL": "https://plot.ly"
       },
       "data": [
        {
         "hovertemplate": "X Coordinate=%{x}<br>Y Coordinate=%{y}<br>Burned Area (ha)=%{marker.color}<extra></extra>",
         "legendgroup": "",
         "marker": {
          "color": {
           "bdata": "AAAAAAAAAAAAAAAAAAAAAAAAAAAAAAAAAAAAAAAAAAAAAAAAAAAAAAAAAAAAAAAAAAAAAAAAAAAAAAAAAAAAAAAAAAAAAAAAAAAAAAAAAAAAAAAAAAAAAAAAAAAAAAAAAAAAAAAAAAAAAAAAAAAAAAAAAAAAAAAAAAAAAAAAAAAAAAAAAAAAAAAAAAAAAAAAAAAAAAAAAAAAAAAAAAAAAAAAAAAAAAAAAAAAAAAAAAAAAAAAAAAAAAAAAAAAAAAAAAAAAAAAAAAAAAAAAAAAAAAAAAAAAAAAAAAAAAAAAAAAAAAAAAAAAAAAAAAAAAAAAAAAAAAAAAAAAAAAAAAAAAAAAAAAAAAAAAAAAAAAAAAAAAAAAAAAAAAAAAAAAAAAAAAAAAAAAAAAAAAAAAAAAAAAAAAAAAAAAAAAAAAAAAAAAAAAAAAAAAAAAAAAAAAAAAAAAAAAAAAAAAAAAAAAAAAAAAAAAAAAAAAAAAAAAAAAAAAAAAAAAAAAAAAAAAAAAAAAAAAAAAAAAAAAAAAAAAAAAAAAAAAAAAAAAAAAAAAAAAAAAAAAAAAAAAAAAAAAAAAAAAAAAAAAAAAAAAAAAAAAAAAAAAAAAAAAAAAAAAAAAAAAAAAAAAAAAAAAAAAAAAAAAAAAAAAAAAAAAAAAAAAAAAAAAAAAAAAAAAAAAAAAAAAAAAAAAAAAAAAAAAAAAAAAAAAAAAAAAAAAAAAAAAAAAAAAAAAAAAAAAAAAAAAAAAAAAAAAAAAAAAAAAAAAAAAAAAAAAAAAAAAAAAAAAAAAAAAAAAAAAAAAAAAAAAAAAAAAAAAAAAAAAAAAAAAAAAAAAAAAAAAAAAAAAAAAAAAAAAAAAAAAAAAAAAAAAAAAAAAAAAAAAAAAAAAAAAAAAAAAAAAAAAAAAAAAAAAAAAAAAAAAAAAAAAAAAAAAAAAAAAAAAAAAAAAAAAAAAAAAAAAAAAAAAAAAAAAAAAAAAAAAAAAAAAAAAAAAAAAAAAAAAAAAAAAAAAAAAAAAAAAAAAAAAAAAAAAAAAAAAAAAAAAAAAAAAAAAAAAAAAAAAAAAAAAAAAAAAAAAAAAAAAAAAAAAAAAAAAAAAAAAAAAAAAAAAAAAAAAAAAAAAAAAAAAAAAAAAAAAAAAAAAAAAAAAAAAAAAAAAAAAAAAAAAAAAAAAAAAAAAAAAAAAAAAAAAAAAAAAAAAAAAAAAAAAAAAAAAAAAAAAAAAAAAAAAAAAAAAAAAAAAAAAAAAAAAAAAAAAAAAAAAAAAAAAAAAAAAAAAAAAAAAAAAAAAAAAAAAAAAAAAAAAAAAAAAAAAAAAAAAAAAAAAAAAAAAAAAAAAAAAAAAAAAAAAAAAAAAAAAAAAAAAAAAAAAAAAAAAAAAAAAAAAAAAAAAAAAAAAAAAAAAAAAAAAAAAAAAAAAAAAAAAAAAAAAAAAAAAAAAAAAAAAAAAAAAAAAAAAAAAAAAAAAAACtejcD0K1z+F61G4HoXbPxSuR+F6FN4/mpmZmZmZ4T+F61G4HoXjP7gehetRuOY/pHA9Ctej6D/NzMzMzMzsP2ZmZmZmZu4/uB6F61G47j8fhetRuB7xP+xRuB6F6/E/CtejcD0K8z/D9Shcj8L1P+F6FK5H4fY/XI/C9Shc9z9cj8L1KFz3P/YoXI/C9fg/w/UoXI/C+T8UrkfhehT6Pz0K16NwPfo/CtejcD0K+z8AAAAAAAD8P2ZmZmZmZv4/CtejcD0K/z8zMzMzMzP/PxSuR+F6FABAH4XrUbgeAUBSuB6F61ECQBSuR+F6FARAPQrXo3A9BEBmZmZmZmYEQI/C9ShcjwRAhetRuB6FBUDsUbgehesFQI/C9ShcjwhAAAAAAAAADEAfhetRuB4SQHE9CtejcBJAw/UoXI/CEkCF61G4HoUTQOxRuB6F6xRAUrgehetRFUDD9Shcj8IVQIXrUbgehRlAUrgehetRG0DXo3A9CtcbQClcj8L1KBxAw/UoXI/CHEAzMzMzMzMdQJqZmZmZmR1AexSuR+F6IEAfhetRuJ4gQFyPwvUoXCFA7FG4HoVrIUBSuB6F69EiQIXrUbgeBSRACtejcD0KJEBcj8L1KNwlQB+F61G4HiZAexSuR+F6JkCkcD0K16MmQI/C9ShcDydAMzMzMzMzKECamZmZmRkqQGZmZmZmZitAexSuR+H6K0CkcD0K1yMtQGZmZmZm5i5AMzMzMzMzMUB7FK5H4TozQClcj8L1aDdAexSuR+E6OEAAAAAAAAA6QOF6FK5HITpAmpmZmZlZO0ApXI/C9ag8QClcj8L1qDxAexSuR+F6PUBSuB6F61E+QLgehetRuD9AXI/C9SjcP0ApXI/C9QhAQHE9Ctej8EFAzczMzMxsQkDD9Shcj4JCQHsUrkfh2kJAZmZmZmZGSECPwvUoXK9IQGZmZmZmJk1AZmZmZmYGUEAzMzMzM9NRQI/C9ShcH1ZA7FG4HoXLV0ApXI/C9dhZQArXo3A9alpAXI/C9ShcY0CPwvUoXI9oQK5H4XoUHmlAXI/C9SicakCPwvUoXAuRQAAAAAAAAAAAAAAAAAAAAAAAAAAAAAAAAMP1KFyPQiRAAAAAAAAAAAD2KFyPwvUGQFK4HoXrUeg/CtejcD0Ktz8AAAAAAADoPwAAAAAAAAAAw/UoXI/CA0DD9Shcj8LlP7gehetRuM4/4XoUrkfhyj9SuB6F61H4P65H4XoUriRAAAAAAAAAAAAK16NwPQogQMP1KFyPwuU/AAAAAAAAAAAUrkfhehT2PzMzMzMzsyFAZmZmZmZmCkAAAAAAAAARQPYoXI/C9fg/KVyPwvUoGkBI4XoUrkfpP8P1KFyPwsU/AAAAAAAAAAAAAAAAAAAAAJqZmZmZmRFApHA9Ctej4D8K16NwPYoiQLgehetRuAhA9ihcj8L1IUDhehSuR2EmQIXrUbgehRVAmpmZmZnZMUD2KFyPwnUlQEjhehSuBzZACtejcD2KI0AK16NwPYoiQIXrUbgexThAAAAAAAAAAACamZmZmZnxPz0K16NwPThAAAAAAAAAAAAAAAAAAAAAAAAAAAAAAAAAAAAAAAAAAAAAAAAAAAAAAAAAAAAAAAAAAAAAAAAAIEAfhetRuB4FQM3MzMzMnFVASOF6FK5HGkAAAAAAAAAAAM3MzMzMzOw/AAAAAAAAAAAAAAAAAAAAAAAAAAAAAAAAAAAAAAAAAAApXI/C9SgMQAAAAAAAAAAAAAAAAAAAAAAAAAAAAAAAAAAAAAAAAAAAPQrXo3A92j+4HoXrUbgUQAAAAAAAAAAAAAAAAAAAAAAAAAAAAAAAABSuR+F6lCxAAAAAAAAAAAAAAAAAAAAAAEjhehSuR/k/AAAAAAAAAAAAAAAAAAAAAD0K16NwPQ5AAAAAAAAAAACkcD0K16MRQK5H4XoULkFA16NwPQrXHEApXI/C9SjwP3E9CtejcAFArkfhehSuEUAAAAAAAAAAAAAAAAAAAAAAAAAAAAAAAAAAAAAAAAAAAKRwPQrXowpAUrgehetRGkBI4XoUrkcvQHE9CtejcCZACtejcD0KAUAAAAAAAAAAAAAAAAAAAAAAAAAAAAAAAACF61G4HgVMQOxRuB6F6x1AhetRuB6F9z9xPQrXo3APQAAAAAAAAAAAAAAAAAAAAABxPQrXo3ABQGZmZmZmZhhAUrgehetRF0BxPQrXozA8QAAAAAAAAAAAAAAAAAAAAAA9CtejcD36P65H4XoUrg1APQrXo3A9HUA9CtejcD0AQIXrUbgehfs/4XoUrkfhF0AfhetRuB4qQClcj8L1KPQ/AAAAAAAAAAAAAAAAAAAAAD0K16NwPSBAcT0K16Nw8T+F61G4HoUPQKRwPQrXo+A/cT0K16NwB0CamZmZmZkWQEjhehSuBzRAAAAAAAAA/D8AAAAAAAAAAEjhehSuRylAAAAAAAAAAAAfhetRuB4mQAAAAAAAAAAAAAAAAAAAAAAAAAAAAAAAAM3MzMzMTDJAzczMzMysQ0AAAAAAAAAAAFyPwvUo1GVAAAAAAAAAAAAAAAAAAAAAAOxRuB6F6x5AFK5H4XpUMEBxPQrXo3AXQI/C9Shcb0VAXI/C9ShcKEAAAAAAAAAwQNejcD0KlzhAAAAAAAAAAAA9CtejcL08QAAAAAAAAAAA7FG4HoXrI0CuR+F6FC4+QHE9CtejsFFAAAAAAAAAAAAAAAAAAAAAAKRwPQrX40lAH4XrUbgeDUAK16NwPQoNQAAAAAAAAAAAAAAAAAAAAABSuB6F61EgQM3MzMzMzBNAAAAAAAAAAAAAAAAAAAAAAClcj8L1KBhAAAAAAAAAAACamZmZmZkPQAAAAAAAAAAAMzMzMzMzH0AAAAAAAAAAAAAAAAAAAAAAexSuR+F6EkAUrkfhehT6PwAAAAAAAAAAAAAAAAAAAAAK16NwPVKHQBSuR+F6FBxAAAAAAAAAAACF61G4HoUDQGZmZmZmZghAuB6F61E4Z0AAAAAAAAAAADMzMzMzMxlACtejcD0K5z/Xo3A9CtcTQAAAAAAAAAAAAAAAAAAAAADNzMzMzMwCQAAAAAAAAAAAmpmZmZmZCUAAAAAAAAAAAHE9CtejcBlAAAAAAAAAAACuR+F6FK4uQAAAAAAAAAAAAAAAAAAAAABI4XoUrkfhPwAAAAAAAAAAuB6F61G4GUAfhetRuB7VPwAAAAAAAAAArkfhehSu8z/NzMzMzMwKQAAAAAAAAAAA7FG4HoXrI0AAAAAAAAAAAAAAAAAAAAAAAAAAAAAAAAAAAAAAAAAAAAAAAAAAAAAAuB6F61G4GUDsUbgehWsjQAAAAAAAAAAAAAAAAAAAAAAAAAAAAAAAAAAAAAAAAAAAAAAAAAAAAAAAAAAAALBUQI/C9ShcjwpACtejcD0K/z8AAAAAAAAAAAAAAAAAAAAArkfhehSuDUCPwvUoXI8VQB+F61G4HgFAXI/C9ShcG0BxPQrXo3AJQDMzMzMzMxZAcT0K16NwGkBxPQrXo5BOQAAAAAAAAAAAPQrXo3A9Q0AK16NwPQr/PxSuR+F6lFFAKVyPwvUoJECF61G4HoUJQClcj8L1KPw/cT0K16NwHUCuR+F6FK4BQBSuR+F6aHFAAAAAAAAABkAAAAAAAAAAAKRwPQrXo/Q/AAAAAAAAAACuR+F6FG46QI/C9ShcjwBAAAAAAAAAAEBmZmZmZmYwQJqZmZmZWUdAAAAAAAAAAAAAAAAAAAAAAAAAAAAAAAAAAAAAAAAAAAApXI/C9ahFQK5H4XoULiFAAAAAAAAAAAApXI/C9SgGQFyPwvUoXC1AhetRuB5FRECkcD0K16MlQAAAAAAAAAAAAAAAAAAAAAAAAAAAAAAAADMzMzMzM/8/7FG4HoXLSEAzMzMzMzMXQAAAAAAAAAAAAAAAAAAAAAAAAAAAAAAAAFyPwvUoXAFAhetRuB6F2z8AAAAAAAAAAMP1KFyPwhlAhetRuB4lS0BSuB6F61EmQAAAAAAAAAAAAAAAAAAAAAA=",
           "dtype": "f8"
          },
          "coloraxis": "coloraxis",
          "size": {
           "bdata": "AAAAAAAAAAAAAAAAAAAAAAAAAAAAAAAAAAAAAAAAAAAAAAAAAAAAAAAAAAAAAAAAAAAAAAAAAAAAAAAAAAAAAAAAAAAAAAAAAAAAAAAAAAAAAAAAAAAAAAAAAAAAAAAAAAAAAAAAAAAAAAAAAAAAAAAAAAAAAAAAAAAAAAAAAAAAAAAAAAAAAAAAAAAAAAAAAAAAAAAAAAAAAAAAAAAAAAAAAAAAAAAAAAAAAAAAAAAAAAAAAAAAAAAAAAAAAAAAAAAAAAAAAAAAAAAAAAAAAAAAAAAAAAAAAAAAAAAAAAAAAAAAAAAAAAAAAAAAAAAAAAAAAAAAAAAAAAAAAAAAAAAAAAAAAAAAAAAAAAAAAAAAAAAAAAAAAAAAAAAAAAAAAAAAAAAAAAAAAAAAAAAAAAAAAAAAAAAAAAAAAAAAAAAAAAAAAAAAAAAAAAAAAAAAAAAAAAAAAAAAAAAAAAAAAAAAAAAAAAAAAAAAAAAAAAAAAAAAAAAAAAAAAAAAAAAAAAAAAAAAAAAAAAAAAAAAAAAAAAAAAAAAAAAAAAAAAAAAAAAAAAAAAAAAAAAAAAAAAAAAAAAAAAAAAAAAAAAAAAAAAAAAAAAAAAAAAAAAAAAAAAAAAAAAAAAAAAAAAAAAAAAAAAAAAAAAAAAAAAAAAAAAAAAAAAAAAAAAAAAAAAAAAAAAAAAAAAAAAAAAAAAAAAAAAAAAAAAAAAAAAAAAAAAAAAAAAAAAAAAAAAAAAAAAAAAAAAAAAAAAAAAAAAAAAAAAAAAAAAAAAAAAAAAAAAAAAAAAAAAAAAAAAAAAAAAAAAAAAAAAAAAAAAAAAAAAAAAAAAAAAAAAAAAAAAAAAAAAAAAAAAAAAAAAAAAAAAAAAAAAAAAAAAAAAAAAAAAAAAAAAAAAAAAAAAAAAAAAAAAAAAAAAAAAAAAAAAAAAAAAAAAAAAAAAAAAAAAAAAAAAAAAAAAAAAAAAAAAAAAAAAAAAAAAAAAAAAAAAAAAAAAAAAAAAAAAAAAAAAAAAAAAAAAAAAAAAAAAAAAAAAAAAAAAAAAAAAAAAAAAAAAAAAAAAAAAAAAAAAAAAAAAAAAAAAAAAAAAAAAAAAAAAAAAAAAAAAAAAAAAAAAAAAAAAAAAAAAAAAAAAAAAAAAAAAAAAAAAAAAAAAAAAAAAAAAAAAAAAAAAAAAAAAAAAAAAAAAAAAAAAAAAAAAAAAAAAAAAAAAAAAAAAAAAAAAAAAAAAAAAAAAAAAAAAAAAAAAAAAAAAAAAAAAAAAAAAAAAAAAAAAAAAAAAAAAAAAAAAAAAAAAAAAAAAAAAAAAAAAAAAAAAAAAAAAAAAAAAAAAAAAAAAAAAAAAAAAAAAAAAAAAAAAAAAAAAAAAAAAAAAAAAAAAAAAAAAAAAAAAAAAAAAAAAAAAAAAAAAAAAAAAAAAAAAAAAAAAAAAAAAAAAAAAAAAAAAAAAAAAAAAAAAAAAAAAACtejcD0K1z+F61G4HoXbPxSuR+F6FN4/mpmZmZmZ4T+F61G4HoXjP7gehetRuOY/pHA9Ctej6D/NzMzMzMzsP2ZmZmZmZu4/uB6F61G47j8fhetRuB7xP+xRuB6F6/E/CtejcD0K8z/D9Shcj8L1P+F6FK5H4fY/XI/C9Shc9z9cj8L1KFz3P/YoXI/C9fg/w/UoXI/C+T8UrkfhehT6Pz0K16NwPfo/CtejcD0K+z8AAAAAAAD8P2ZmZmZmZv4/CtejcD0K/z8zMzMzMzP/PxSuR+F6FABAH4XrUbgeAUBSuB6F61ECQBSuR+F6FARAPQrXo3A9BEBmZmZmZmYEQI/C9ShcjwRAhetRuB6FBUDsUbgehesFQI/C9ShcjwhAAAAAAAAADEAfhetRuB4SQHE9CtejcBJAw/UoXI/CEkCF61G4HoUTQOxRuB6F6xRAUrgehetRFUDD9Shcj8IVQIXrUbgehRlAUrgehetRG0DXo3A9CtcbQClcj8L1KBxAw/UoXI/CHEAzMzMzMzMdQJqZmZmZmR1AexSuR+F6IEAfhetRuJ4gQFyPwvUoXCFA7FG4HoVrIUBSuB6F69EiQIXrUbgeBSRACtejcD0KJEBcj8L1KNwlQB+F61G4HiZAexSuR+F6JkCkcD0K16MmQI/C9ShcDydAMzMzMzMzKECamZmZmRkqQGZmZmZmZitAexSuR+H6K0CkcD0K1yMtQGZmZmZm5i5AMzMzMzMzMUB7FK5H4TozQClcj8L1aDdAexSuR+E6OEAAAAAAAAA6QOF6FK5HITpAmpmZmZlZO0ApXI/C9ag8QClcj8L1qDxAexSuR+F6PUBSuB6F61E+QLgehetRuD9AXI/C9SjcP0ApXI/C9QhAQHE9Ctej8EFAzczMzMxsQkDD9Shcj4JCQHsUrkfh2kJAZmZmZmZGSECPwvUoXK9IQGZmZmZmJk1AZmZmZmYGUEAzMzMzM9NRQI/C9ShcH1ZA7FG4HoXLV0ApXI/C9dhZQArXo3A9alpAXI/C9ShcY0CPwvUoXI9oQK5H4XoUHmlAXI/C9SicakCPwvUoXAuRQAAAAAAAAAAAAAAAAAAAAAAAAAAAAAAAAMP1KFyPQiRAAAAAAAAAAAD2KFyPwvUGQFK4HoXrUeg/CtejcD0Ktz8AAAAAAADoPwAAAAAAAAAAw/UoXI/CA0DD9Shcj8LlP7gehetRuM4/4XoUrkfhyj9SuB6F61H4P65H4XoUriRAAAAAAAAAAAAK16NwPQogQMP1KFyPwuU/AAAAAAAAAAAUrkfhehT2PzMzMzMzsyFAZmZmZmZmCkAAAAAAAAARQPYoXI/C9fg/KVyPwvUoGkBI4XoUrkfpP8P1KFyPwsU/AAAAAAAAAAAAAAAAAAAAAJqZmZmZmRFApHA9Ctej4D8K16NwPYoiQLgehetRuAhA9ihcj8L1IUDhehSuR2EmQIXrUbgehRVAmpmZmZnZMUD2KFyPwnUlQEjhehSuBzZACtejcD2KI0AK16NwPYoiQIXrUbgexThAAAAAAAAAAACamZmZmZnxPz0K16NwPThAAAAAAAAAAAAAAAAAAAAAAAAAAAAAAAAAAAAAAAAAAAAAAAAAAAAAAAAAAAAAAAAAAAAAAAAAIEAfhetRuB4FQM3MzMzMnFVASOF6FK5HGkAAAAAAAAAAAM3MzMzMzOw/AAAAAAAAAAAAAAAAAAAAAAAAAAAAAAAAAAAAAAAAAAApXI/C9SgMQAAAAAAAAAAAAAAAAAAAAAAAAAAAAAAAAAAAAAAAAAAAPQrXo3A92j+4HoXrUbgUQAAAAAAAAAAAAAAAAAAAAAAAAAAAAAAAABSuR+F6lCxAAAAAAAAAAAAAAAAAAAAAAEjhehSuR/k/AAAAAAAAAAAAAAAAAAAAAD0K16NwPQ5AAAAAAAAAAACkcD0K16MRQK5H4XoULkFA16NwPQrXHEApXI/C9SjwP3E9CtejcAFArkfhehSuEUAAAAAAAAAAAAAAAAAAAAAAAAAAAAAAAAAAAAAAAAAAAKRwPQrXowpAUrgehetRGkBI4XoUrkcvQHE9CtejcCZACtejcD0KAUAAAAAAAAAAAAAAAAAAAAAAAAAAAAAAAACF61G4HgVMQOxRuB6F6x1AhetRuB6F9z9xPQrXo3APQAAAAAAAAAAAAAAAAAAAAABxPQrXo3ABQGZmZmZmZhhAUrgehetRF0BxPQrXozA8QAAAAAAAAAAAAAAAAAAAAAA9CtejcD36P65H4XoUrg1APQrXo3A9HUA9CtejcD0AQIXrUbgehfs/4XoUrkfhF0AfhetRuB4qQClcj8L1KPQ/AAAAAAAAAAAAAAAAAAAAAD0K16NwPSBAcT0K16Nw8T+F61G4HoUPQKRwPQrXo+A/cT0K16NwB0CamZmZmZkWQEjhehSuBzRAAAAAAAAA/D8AAAAAAAAAAEjhehSuRylAAAAAAAAAAAAfhetRuB4mQAAAAAAAAAAAAAAAAAAAAAAAAAAAAAAAAM3MzMzMTDJAzczMzMysQ0AAAAAAAAAAAFyPwvUo1GVAAAAAAAAAAAAAAAAAAAAAAOxRuB6F6x5AFK5H4XpUMEBxPQrXo3AXQI/C9Shcb0VAXI/C9ShcKEAAAAAAAAAwQNejcD0KlzhAAAAAAAAAAAA9CtejcL08QAAAAAAAAAAA7FG4HoXrI0CuR+F6FC4+QHE9CtejsFFAAAAAAAAAAAAAAAAAAAAAAKRwPQrX40lAH4XrUbgeDUAK16NwPQoNQAAAAAAAAAAAAAAAAAAAAABSuB6F61EgQM3MzMzMzBNAAAAAAAAAAAAAAAAAAAAAAClcj8L1KBhAAAAAAAAAAACamZmZmZkPQAAAAAAAAAAAMzMzMzMzH0AAAAAAAAAAAAAAAAAAAAAAexSuR+F6EkAUrkfhehT6PwAAAAAAAAAAAAAAAAAAAAAK16NwPVKHQBSuR+F6FBxAAAAAAAAAAACF61G4HoUDQGZmZmZmZghAuB6F61E4Z0AAAAAAAAAAADMzMzMzMxlACtejcD0K5z/Xo3A9CtcTQAAAAAAAAAAAAAAAAAAAAADNzMzMzMwCQAAAAAAAAAAAmpmZmZmZCUAAAAAAAAAAAHE9CtejcBlAAAAAAAAAAACuR+F6FK4uQAAAAAAAAAAAAAAAAAAAAABI4XoUrkfhPwAAAAAAAAAAuB6F61G4GUAfhetRuB7VPwAAAAAAAAAArkfhehSu8z/NzMzMzMwKQAAAAAAAAAAA7FG4HoXrI0AAAAAAAAAAAAAAAAAAAAAAAAAAAAAAAAAAAAAAAAAAAAAAAAAAAAAAuB6F61G4GUDsUbgehWsjQAAAAAAAAAAAAAAAAAAAAAAAAAAAAAAAAAAAAAAAAAAAAAAAAAAAAAAAAAAAALBUQI/C9ShcjwpACtejcD0K/z8AAAAAAAAAAAAAAAAAAAAArkfhehSuDUCPwvUoXI8VQB+F61G4HgFAXI/C9ShcG0BxPQrXo3AJQDMzMzMzMxZAcT0K16NwGkBxPQrXo5BOQAAAAAAAAAAAPQrXo3A9Q0AK16NwPQr/PxSuR+F6lFFAKVyPwvUoJECF61G4HoUJQClcj8L1KPw/cT0K16NwHUCuR+F6FK4BQBSuR+F6aHFAAAAAAAAABkAAAAAAAAAAAKRwPQrXo/Q/AAAAAAAAAACuR+F6FG46QI/C9ShcjwBAAAAAAAAAAEBmZmZmZmYwQJqZmZmZWUdAAAAAAAAAAAAAAAAAAAAAAAAAAAAAAAAAAAAAAAAAAAApXI/C9ahFQK5H4XoULiFAAAAAAAAAAAApXI/C9SgGQFyPwvUoXC1AhetRuB5FRECkcD0K16MlQAAAAAAAAAAAAAAAAAAAAAAAAAAAAAAAADMzMzMzM/8/7FG4HoXLSEAzMzMzMzMXQAAAAAAAAAAAAAAAAAAAAAAAAAAAAAAAAFyPwvUoXAFAhetRuB6F2z8AAAAAAAAAAMP1KFyPwhlAhetRuB4lS0BSuB6F61EmQAAAAAAAAAAAAAAAAAAAAAA=",
           "dtype": "f8"
          },
          "sizemode": "area",
          "sizeref": 4.848177777777777,
          "symbol": "circle"
         },
         "mode": "markers",
         "name": "",
         "orientation": "v",
         "showlegend": false,
         "type": "scatter",
         "x": {
          "bdata": "BwcHCAgICAgIBwcHBgYGBgUIBgYGBQcHBwcHBwYGBgYGBgYGBgcHBAQEBAQEBQUGBAQEBAQEBAQEBAICAgICAgICAgICBAQEBQUFCQkBAQEBAQEBAQEBAQEGBggICAgEAwMDAwMDAgICBAQEBAQEAwMDAwMDAwMDAwMDAwMDAwMDAgQEBAQDAwMDCQECAQgBAgYFCAIIBgkDBQEHAgICBwcGBggIBgYGBggFCAcEAQEGAgIIAQgFBwgCCAEGBwYCAgQCAgYEAwIBBgcIBQQCBwYIBAcHBwQEBAEEBggDBAIHBAcIBAgEAQYJBAgCAQYHBgQCBwIDBQIIAwgIBgcGAggEAwcCAwIGBAQGAgMEAggCBAgEBAMEBAQGBgMFAgcHBwcCCQQHCAcGCAgGBgYDAwYBBwMCAgcGAgYEAwQEBgUGAQYDBgEFBgYEAwcEAQIEBwYIAgIIBggGAgEFAwUFBAcHBwQEBgYBBgQHBAYGBAQGBAcDBAUGBggCBgQFCAgJCAIDBQYHBwgBAgYEBAUBCQkDCQgCAgYEBAEGBwkHBQgGBgICCAIIAQgCCAIBAwcBCAIBAggIAgEFCAYBAgUGAwcHBAEHBAMDAgEIBwIIAQYGAgYDBgYFBAgJBAIEBAcHCQQDCAICBQUEBAQEAQEGBgQDBgcIBwQCBAEBAgEFBggEAgcBBg==",
          "dtype": "i1"
         },
         "xaxis": "x",
         "y": {
          "bdata": "BQQEBgYGBgYGBQUFBQUFBQUFBAQEBAQEBAQEBAMDAwMDAwMDAwQDBAQEBAQEBgYGBAQEAwMDAwMDAwICAgICAgICAgICBQUFBAQECQkDAgICAgICAgICAgIFBQYGBgYEBAQEBAQEBAQEBQUFBQUEBAQEBAUEBAQEBAQEBAQEBQUFBQYGBgYFBQYGCQQFAgYCBQUEAwIGBQkEBAUEBAIEBAQEAwYFBQUFBQYEBgQEBAQFBQUGAwYEBAYFBgUEBAUFAgUCBQUFBAQFBQQGBgUCBQUDBAQEAwQEBAMFBQYEAwIEBAUGBgYEBQQEBQYCAgUFAwQEBAQEBAQGBAUFBQQDBQYDBAQEBAQDBAQFAgQEAgYFBgYGBAQEBAYFAwQEBQYEBAQFBAUGBgUEBgYFBQUGBgUEBAQEBAQDBAUEBAUEBQQDBAUFBQQEBQUDAwQEBAMDBAMGBAUGAwYDAgQEBAQEBAQEBAQEAwMEBQMEAwUFBQUFBQQEBQQFBQYCBQUEBgYGBAQEBQQEBAYDBAUFAwYCBQUECQYEAgUFAwQDBAQFBAYDBQQFCAQGAwYCBgQDBAQDBgQEBQYGBQMEBgUCBQUFBAQEBQQEBQQEBAQGBAUGBAUEAgUEBQMEAwMEAwUDAwQECQMEBgUEBAQEBAQEAwMGBgUEBQUGBQQEAwICBAIEBQYDBAQEAw==",
          "dtype": "i1"
         },
         "yaxis": "y"
        }
       ],
       "layout": {
        "coloraxis": {
         "colorbar": {
          "title": {
           "text": "Burned Area (ha)"
          }
         },
         "colorscale": [
          [
           0,
           "#0d0887"
          ],
          [
           0.1111111111111111,
           "#46039f"
          ],
          [
           0.2222222222222222,
           "#7201a8"
          ],
          [
           0.3333333333333333,
           "#9c179e"
          ],
          [
           0.4444444444444444,
           "#bd3786"
          ],
          [
           0.5555555555555556,
           "#d8576b"
          ],
          [
           0.6666666666666666,
           "#ed7953"
          ],
          [
           0.7777777777777778,
           "#fb9f3a"
          ],
          [
           0.8888888888888888,
           "#fdca26"
          ],
          [
           1,
           "#f0f921"
          ]
         ]
        },
        "legend": {
         "itemsizing": "constant",
         "tracegroupgap": 0
        },
        "template": {
         "data": {
          "bar": [
           {
            "error_x": {
             "color": "#2a3f5f"
            },
            "error_y": {
             "color": "#2a3f5f"
            },
            "marker": {
             "line": {
              "color": "#E5ECF6",
              "width": 0.5
             },
             "pattern": {
              "fillmode": "overlay",
              "size": 10,
              "solidity": 0.2
             }
            },
            "type": "bar"
           }
          ],
          "barpolar": [
           {
            "marker": {
             "line": {
              "color": "#E5ECF6",
              "width": 0.5
             },
             "pattern": {
              "fillmode": "overlay",
              "size": 10,
              "solidity": 0.2
             }
            },
            "type": "barpolar"
           }
          ],
          "carpet": [
           {
            "aaxis": {
             "endlinecolor": "#2a3f5f",
             "gridcolor": "white",
             "linecolor": "white",
             "minorgridcolor": "white",
             "startlinecolor": "#2a3f5f"
            },
            "baxis": {
             "endlinecolor": "#2a3f5f",
             "gridcolor": "white",
             "linecolor": "white",
             "minorgridcolor": "white",
             "startlinecolor": "#2a3f5f"
            },
            "type": "carpet"
           }
          ],
          "choropleth": [
           {
            "colorbar": {
             "outlinewidth": 0,
             "ticks": ""
            },
            "type": "choropleth"
           }
          ],
          "contour": [
           {
            "colorbar": {
             "outlinewidth": 0,
             "ticks": ""
            },
            "colorscale": [
             [
              0,
              "#0d0887"
             ],
             [
              0.1111111111111111,
              "#46039f"
             ],
             [
              0.2222222222222222,
              "#7201a8"
             ],
             [
              0.3333333333333333,
              "#9c179e"
             ],
             [
              0.4444444444444444,
              "#bd3786"
             ],
             [
              0.5555555555555556,
              "#d8576b"
             ],
             [
              0.6666666666666666,
              "#ed7953"
             ],
             [
              0.7777777777777778,
              "#fb9f3a"
             ],
             [
              0.8888888888888888,
              "#fdca26"
             ],
             [
              1,
              "#f0f921"
             ]
            ],
            "type": "contour"
           }
          ],
          "contourcarpet": [
           {
            "colorbar": {
             "outlinewidth": 0,
             "ticks": ""
            },
            "type": "contourcarpet"
           }
          ],
          "heatmap": [
           {
            "colorbar": {
             "outlinewidth": 0,
             "ticks": ""
            },
            "colorscale": [
             [
              0,
              "#0d0887"
             ],
             [
              0.1111111111111111,
              "#46039f"
             ],
             [
              0.2222222222222222,
              "#7201a8"
             ],
             [
              0.3333333333333333,
              "#9c179e"
             ],
             [
              0.4444444444444444,
              "#bd3786"
             ],
             [
              0.5555555555555556,
              "#d8576b"
             ],
             [
              0.6666666666666666,
              "#ed7953"
             ],
             [
              0.7777777777777778,
              "#fb9f3a"
             ],
             [
              0.8888888888888888,
              "#fdca26"
             ],
             [
              1,
              "#f0f921"
             ]
            ],
            "type": "heatmap"
           }
          ],
          "histogram": [
           {
            "marker": {
             "pattern": {
              "fillmode": "overlay",
              "size": 10,
              "solidity": 0.2
             }
            },
            "type": "histogram"
           }
          ],
          "histogram2d": [
           {
            "colorbar": {
             "outlinewidth": 0,
             "ticks": ""
            },
            "colorscale": [
             [
              0,
              "#0d0887"
             ],
             [
              0.1111111111111111,
              "#46039f"
             ],
             [
              0.2222222222222222,
              "#7201a8"
             ],
             [
              0.3333333333333333,
              "#9c179e"
             ],
             [
              0.4444444444444444,
              "#bd3786"
             ],
             [
              0.5555555555555556,
              "#d8576b"
             ],
             [
              0.6666666666666666,
              "#ed7953"
             ],
             [
              0.7777777777777778,
              "#fb9f3a"
             ],
             [
              0.8888888888888888,
              "#fdca26"
             ],
             [
              1,
              "#f0f921"
             ]
            ],
            "type": "histogram2d"
           }
          ],
          "histogram2dcontour": [
           {
            "colorbar": {
             "outlinewidth": 0,
             "ticks": ""
            },
            "colorscale": [
             [
              0,
              "#0d0887"
             ],
             [
              0.1111111111111111,
              "#46039f"
             ],
             [
              0.2222222222222222,
              "#7201a8"
             ],
             [
              0.3333333333333333,
              "#9c179e"
             ],
             [
              0.4444444444444444,
              "#bd3786"
             ],
             [
              0.5555555555555556,
              "#d8576b"
             ],
             [
              0.6666666666666666,
              "#ed7953"
             ],
             [
              0.7777777777777778,
              "#fb9f3a"
             ],
             [
              0.8888888888888888,
              "#fdca26"
             ],
             [
              1,
              "#f0f921"
             ]
            ],
            "type": "histogram2dcontour"
           }
          ],
          "mesh3d": [
           {
            "colorbar": {
             "outlinewidth": 0,
             "ticks": ""
            },
            "type": "mesh3d"
           }
          ],
          "parcoords": [
           {
            "line": {
             "colorbar": {
              "outlinewidth": 0,
              "ticks": ""
             }
            },
            "type": "parcoords"
           }
          ],
          "pie": [
           {
            "automargin": true,
            "type": "pie"
           }
          ],
          "scatter": [
           {
            "fillpattern": {
             "fillmode": "overlay",
             "size": 10,
             "solidity": 0.2
            },
            "type": "scatter"
           }
          ],
          "scatter3d": [
           {
            "line": {
             "colorbar": {
              "outlinewidth": 0,
              "ticks": ""
             }
            },
            "marker": {
             "colorbar": {
              "outlinewidth": 0,
              "ticks": ""
             }
            },
            "type": "scatter3d"
           }
          ],
          "scattercarpet": [
           {
            "marker": {
             "colorbar": {
              "outlinewidth": 0,
              "ticks": ""
             }
            },
            "type": "scattercarpet"
           }
          ],
          "scattergeo": [
           {
            "marker": {
             "colorbar": {
              "outlinewidth": 0,
              "ticks": ""
             }
            },
            "type": "scattergeo"
           }
          ],
          "scattergl": [
           {
            "marker": {
             "colorbar": {
              "outlinewidth": 0,
              "ticks": ""
             }
            },
            "type": "scattergl"
           }
          ],
          "scattermap": [
           {
            "marker": {
             "colorbar": {
              "outlinewidth": 0,
              "ticks": ""
             }
            },
            "type": "scattermap"
           }
          ],
          "scattermapbox": [
           {
            "marker": {
             "colorbar": {
              "outlinewidth": 0,
              "ticks": ""
             }
            },
            "type": "scattermapbox"
           }
          ],
          "scatterpolar": [
           {
            "marker": {
             "colorbar": {
              "outlinewidth": 0,
              "ticks": ""
             }
            },
            "type": "scatterpolar"
           }
          ],
          "scatterpolargl": [
           {
            "marker": {
             "colorbar": {
              "outlinewidth": 0,
              "ticks": ""
             }
            },
            "type": "scatterpolargl"
           }
          ],
          "scatterternary": [
           {
            "marker": {
             "colorbar": {
              "outlinewidth": 0,
              "ticks": ""
             }
            },
            "type": "scatterternary"
           }
          ],
          "surface": [
           {
            "colorbar": {
             "outlinewidth": 0,
             "ticks": ""
            },
            "colorscale": [
             [
              0,
              "#0d0887"
             ],
             [
              0.1111111111111111,
              "#46039f"
             ],
             [
              0.2222222222222222,
              "#7201a8"
             ],
             [
              0.3333333333333333,
              "#9c179e"
             ],
             [
              0.4444444444444444,
              "#bd3786"
             ],
             [
              0.5555555555555556,
              "#d8576b"
             ],
             [
              0.6666666666666666,
              "#ed7953"
             ],
             [
              0.7777777777777778,
              "#fb9f3a"
             ],
             [
              0.8888888888888888,
              "#fdca26"
             ],
             [
              1,
              "#f0f921"
             ]
            ],
            "type": "surface"
           }
          ],
          "table": [
           {
            "cells": {
             "fill": {
              "color": "#EBF0F8"
             },
             "line": {
              "color": "white"
             }
            },
            "header": {
             "fill": {
              "color": "#C8D4E3"
             },
             "line": {
              "color": "white"
             }
            },
            "type": "table"
           }
          ]
         },
         "layout": {
          "annotationdefaults": {
           "arrowcolor": "#2a3f5f",
           "arrowhead": 0,
           "arrowwidth": 1
          },
          "autotypenumbers": "strict",
          "coloraxis": {
           "colorbar": {
            "outlinewidth": 0,
            "ticks": ""
           }
          },
          "colorscale": {
           "diverging": [
            [
             0,
             "#8e0152"
            ],
            [
             0.1,
             "#c51b7d"
            ],
            [
             0.2,
             "#de77ae"
            ],
            [
             0.3,
             "#f1b6da"
            ],
            [
             0.4,
             "#fde0ef"
            ],
            [
             0.5,
             "#f7f7f7"
            ],
            [
             0.6,
             "#e6f5d0"
            ],
            [
             0.7,
             "#b8e186"
            ],
            [
             0.8,
             "#7fbc41"
            ],
            [
             0.9,
             "#4d9221"
            ],
            [
             1,
             "#276419"
            ]
           ],
           "sequential": [
            [
             0,
             "#0d0887"
            ],
            [
             0.1111111111111111,
             "#46039f"
            ],
            [
             0.2222222222222222,
             "#7201a8"
            ],
            [
             0.3333333333333333,
             "#9c179e"
            ],
            [
             0.4444444444444444,
             "#bd3786"
            ],
            [
             0.5555555555555556,
             "#d8576b"
            ],
            [
             0.6666666666666666,
             "#ed7953"
            ],
            [
             0.7777777777777778,
             "#fb9f3a"
            ],
            [
             0.8888888888888888,
             "#fdca26"
            ],
            [
             1,
             "#f0f921"
            ]
           ],
           "sequentialminus": [
            [
             0,
             "#0d0887"
            ],
            [
             0.1111111111111111,
             "#46039f"
            ],
            [
             0.2222222222222222,
             "#7201a8"
            ],
            [
             0.3333333333333333,
             "#9c179e"
            ],
            [
             0.4444444444444444,
             "#bd3786"
            ],
            [
             0.5555555555555556,
             "#d8576b"
            ],
            [
             0.6666666666666666,
             "#ed7953"
            ],
            [
             0.7777777777777778,
             "#fb9f3a"
            ],
            [
             0.8888888888888888,
             "#fdca26"
            ],
            [
             1,
             "#f0f921"
            ]
           ]
          },
          "colorway": [
           "#636efa",
           "#EF553B",
           "#00cc96",
           "#ab63fa",
           "#FFA15A",
           "#19d3f3",
           "#FF6692",
           "#B6E880",
           "#FF97FF",
           "#FECB52"
          ],
          "font": {
           "color": "#2a3f5f"
          },
          "geo": {
           "bgcolor": "white",
           "lakecolor": "white",
           "landcolor": "#E5ECF6",
           "showlakes": true,
           "showland": true,
           "subunitcolor": "white"
          },
          "hoverlabel": {
           "align": "left"
          },
          "hovermode": "closest",
          "mapbox": {
           "style": "light"
          },
          "paper_bgcolor": "white",
          "plot_bgcolor": "#E5ECF6",
          "polar": {
           "angularaxis": {
            "gridcolor": "white",
            "linecolor": "white",
            "ticks": ""
           },
           "bgcolor": "#E5ECF6",
           "radialaxis": {
            "gridcolor": "white",
            "linecolor": "white",
            "ticks": ""
           }
          },
          "scene": {
           "xaxis": {
            "backgroundcolor": "#E5ECF6",
            "gridcolor": "white",
            "gridwidth": 2,
            "linecolor": "white",
            "showbackground": true,
            "ticks": "",
            "zerolinecolor": "white"
           },
           "yaxis": {
            "backgroundcolor": "#E5ECF6",
            "gridcolor": "white",
            "gridwidth": 2,
            "linecolor": "white",
            "showbackground": true,
            "ticks": "",
            "zerolinecolor": "white"
           },
           "zaxis": {
            "backgroundcolor": "#E5ECF6",
            "gridcolor": "white",
            "gridwidth": 2,
            "linecolor": "white",
            "showbackground": true,
            "ticks": "",
            "zerolinecolor": "white"
           }
          },
          "shapedefaults": {
           "line": {
            "color": "#2a3f5f"
           }
          },
          "ternary": {
           "aaxis": {
            "gridcolor": "white",
            "linecolor": "white",
            "ticks": ""
           },
           "baxis": {
            "gridcolor": "white",
            "linecolor": "white",
            "ticks": ""
           },
           "bgcolor": "#E5ECF6",
           "caxis": {
            "gridcolor": "white",
            "linecolor": "white",
            "ticks": ""
           }
          },
          "title": {
           "x": 0.05
          },
          "xaxis": {
           "automargin": true,
           "gridcolor": "white",
           "linecolor": "white",
           "ticks": "",
           "title": {
            "standoff": 15
           },
           "zerolinecolor": "white",
           "zerolinewidth": 2
          },
          "yaxis": {
           "automargin": true,
           "gridcolor": "white",
           "linecolor": "white",
           "ticks": "",
           "title": {
            "standoff": 15
           },
           "zerolinecolor": "white",
           "zerolinewidth": 2
          }
         }
        },
        "title": {
         "text": "Spatial Distribution of Burned Area"
        },
        "xaxis": {
         "anchor": "y",
         "domain": [
          0,
          1
         ],
         "title": {
          "text": "X Coordinate"
         }
        },
        "yaxis": {
         "anchor": "x",
         "domain": [
          0,
          1
         ],
         "title": {
          "text": "Y Coordinate"
         }
        }
       }
      }
     },
     "metadata": {},
     "output_type": "display_data"
    }
   ],
   "source": [
    "fig = px.scatter(df, x='X', y='Y', size='area', color='area', title='Spatial Distribution of Burned Area',\n",
    "                  labels={'X': 'X Coordinate', 'Y': 'Y Coordinate', 'area': 'Burned Area (ha)'}, size_max=15)\n",
    "fig.show()\n"
   ]
  },
  {
   "cell_type": "code",
   "execution_count": 521,
   "id": "86ca0003",
   "metadata": {},
   "outputs": [
    {
     "data": {
      "text/html": [
       "<div>\n",
       "<style scoped>\n",
       "    .dataframe tbody tr th:only-of-type {\n",
       "        vertical-align: middle;\n",
       "    }\n",
       "\n",
       "    .dataframe tbody tr th {\n",
       "        vertical-align: top;\n",
       "    }\n",
       "\n",
       "    .dataframe thead th {\n",
       "        text-align: right;\n",
       "    }\n",
       "</style>\n",
       "<table border=\"1\" class=\"dataframe\">\n",
       "  <thead>\n",
       "    <tr style=\"text-align: right;\">\n",
       "      <th></th>\n",
       "      <th>X</th>\n",
       "      <th>Y</th>\n",
       "      <th>FFMC</th>\n",
       "      <th>DMC</th>\n",
       "      <th>DC</th>\n",
       "      <th>ISI</th>\n",
       "      <th>temp</th>\n",
       "      <th>RH</th>\n",
       "      <th>wind</th>\n",
       "      <th>rain</th>\n",
       "      <th>...</th>\n",
       "      <th>month_nov</th>\n",
       "      <th>month_oct</th>\n",
       "      <th>month_sep</th>\n",
       "      <th>day_fri</th>\n",
       "      <th>day_mon</th>\n",
       "      <th>day_sat</th>\n",
       "      <th>day_sun</th>\n",
       "      <th>day_thu</th>\n",
       "      <th>day_tue</th>\n",
       "      <th>day_wed</th>\n",
       "    </tr>\n",
       "  </thead>\n",
       "  <tbody>\n",
       "    <tr>\n",
       "      <th>0</th>\n",
       "      <td>7</td>\n",
       "      <td>5</td>\n",
       "      <td>86.2</td>\n",
       "      <td>26.2</td>\n",
       "      <td>94.3</td>\n",
       "      <td>5.1</td>\n",
       "      <td>8.2</td>\n",
       "      <td>51</td>\n",
       "      <td>6.7</td>\n",
       "      <td>0.0</td>\n",
       "      <td>...</td>\n",
       "      <td>False</td>\n",
       "      <td>False</td>\n",
       "      <td>False</td>\n",
       "      <td>True</td>\n",
       "      <td>False</td>\n",
       "      <td>False</td>\n",
       "      <td>False</td>\n",
       "      <td>False</td>\n",
       "      <td>False</td>\n",
       "      <td>False</td>\n",
       "    </tr>\n",
       "    <tr>\n",
       "      <th>1</th>\n",
       "      <td>7</td>\n",
       "      <td>4</td>\n",
       "      <td>90.6</td>\n",
       "      <td>35.4</td>\n",
       "      <td>669.1</td>\n",
       "      <td>6.7</td>\n",
       "      <td>18.0</td>\n",
       "      <td>33</td>\n",
       "      <td>0.9</td>\n",
       "      <td>0.0</td>\n",
       "      <td>...</td>\n",
       "      <td>False</td>\n",
       "      <td>True</td>\n",
       "      <td>False</td>\n",
       "      <td>False</td>\n",
       "      <td>False</td>\n",
       "      <td>False</td>\n",
       "      <td>False</td>\n",
       "      <td>False</td>\n",
       "      <td>True</td>\n",
       "      <td>False</td>\n",
       "    </tr>\n",
       "    <tr>\n",
       "      <th>2</th>\n",
       "      <td>7</td>\n",
       "      <td>4</td>\n",
       "      <td>90.6</td>\n",
       "      <td>43.7</td>\n",
       "      <td>686.9</td>\n",
       "      <td>6.7</td>\n",
       "      <td>14.6</td>\n",
       "      <td>33</td>\n",
       "      <td>1.3</td>\n",
       "      <td>0.0</td>\n",
       "      <td>...</td>\n",
       "      <td>False</td>\n",
       "      <td>True</td>\n",
       "      <td>False</td>\n",
       "      <td>False</td>\n",
       "      <td>False</td>\n",
       "      <td>True</td>\n",
       "      <td>False</td>\n",
       "      <td>False</td>\n",
       "      <td>False</td>\n",
       "      <td>False</td>\n",
       "    </tr>\n",
       "    <tr>\n",
       "      <th>3</th>\n",
       "      <td>8</td>\n",
       "      <td>6</td>\n",
       "      <td>91.7</td>\n",
       "      <td>33.3</td>\n",
       "      <td>77.5</td>\n",
       "      <td>9.0</td>\n",
       "      <td>8.3</td>\n",
       "      <td>97</td>\n",
       "      <td>4.0</td>\n",
       "      <td>0.2</td>\n",
       "      <td>...</td>\n",
       "      <td>False</td>\n",
       "      <td>False</td>\n",
       "      <td>False</td>\n",
       "      <td>True</td>\n",
       "      <td>False</td>\n",
       "      <td>False</td>\n",
       "      <td>False</td>\n",
       "      <td>False</td>\n",
       "      <td>False</td>\n",
       "      <td>False</td>\n",
       "    </tr>\n",
       "    <tr>\n",
       "      <th>4</th>\n",
       "      <td>8</td>\n",
       "      <td>6</td>\n",
       "      <td>89.3</td>\n",
       "      <td>51.3</td>\n",
       "      <td>102.2</td>\n",
       "      <td>9.6</td>\n",
       "      <td>11.4</td>\n",
       "      <td>99</td>\n",
       "      <td>1.8</td>\n",
       "      <td>0.0</td>\n",
       "      <td>...</td>\n",
       "      <td>False</td>\n",
       "      <td>False</td>\n",
       "      <td>False</td>\n",
       "      <td>False</td>\n",
       "      <td>False</td>\n",
       "      <td>False</td>\n",
       "      <td>True</td>\n",
       "      <td>False</td>\n",
       "      <td>False</td>\n",
       "      <td>False</td>\n",
       "    </tr>\n",
       "    <tr>\n",
       "      <th>...</th>\n",
       "      <td>...</td>\n",
       "      <td>...</td>\n",
       "      <td>...</td>\n",
       "      <td>...</td>\n",
       "      <td>...</td>\n",
       "      <td>...</td>\n",
       "      <td>...</td>\n",
       "      <td>...</td>\n",
       "      <td>...</td>\n",
       "      <td>...</td>\n",
       "      <td>...</td>\n",
       "      <td>...</td>\n",
       "      <td>...</td>\n",
       "      <td>...</td>\n",
       "      <td>...</td>\n",
       "      <td>...</td>\n",
       "      <td>...</td>\n",
       "      <td>...</td>\n",
       "      <td>...</td>\n",
       "      <td>...</td>\n",
       "      <td>...</td>\n",
       "    </tr>\n",
       "    <tr>\n",
       "      <th>512</th>\n",
       "      <td>4</td>\n",
       "      <td>3</td>\n",
       "      <td>81.6</td>\n",
       "      <td>56.7</td>\n",
       "      <td>665.6</td>\n",
       "      <td>1.9</td>\n",
       "      <td>27.8</td>\n",
       "      <td>32</td>\n",
       "      <td>2.7</td>\n",
       "      <td>0.0</td>\n",
       "      <td>...</td>\n",
       "      <td>False</td>\n",
       "      <td>False</td>\n",
       "      <td>False</td>\n",
       "      <td>False</td>\n",
       "      <td>False</td>\n",
       "      <td>False</td>\n",
       "      <td>True</td>\n",
       "      <td>False</td>\n",
       "      <td>False</td>\n",
       "      <td>False</td>\n",
       "    </tr>\n",
       "    <tr>\n",
       "      <th>513</th>\n",
       "      <td>2</td>\n",
       "      <td>4</td>\n",
       "      <td>81.6</td>\n",
       "      <td>56.7</td>\n",
       "      <td>665.6</td>\n",
       "      <td>1.9</td>\n",
       "      <td>21.9</td>\n",
       "      <td>71</td>\n",
       "      <td>5.8</td>\n",
       "      <td>0.0</td>\n",
       "      <td>...</td>\n",
       "      <td>False</td>\n",
       "      <td>False</td>\n",
       "      <td>False</td>\n",
       "      <td>False</td>\n",
       "      <td>False</td>\n",
       "      <td>False</td>\n",
       "      <td>True</td>\n",
       "      <td>False</td>\n",
       "      <td>False</td>\n",
       "      <td>False</td>\n",
       "    </tr>\n",
       "    <tr>\n",
       "      <th>514</th>\n",
       "      <td>7</td>\n",
       "      <td>4</td>\n",
       "      <td>81.6</td>\n",
       "      <td>56.7</td>\n",
       "      <td>665.6</td>\n",
       "      <td>1.9</td>\n",
       "      <td>21.2</td>\n",
       "      <td>70</td>\n",
       "      <td>6.7</td>\n",
       "      <td>0.0</td>\n",
       "      <td>...</td>\n",
       "      <td>False</td>\n",
       "      <td>False</td>\n",
       "      <td>False</td>\n",
       "      <td>False</td>\n",
       "      <td>False</td>\n",
       "      <td>False</td>\n",
       "      <td>True</td>\n",
       "      <td>False</td>\n",
       "      <td>False</td>\n",
       "      <td>False</td>\n",
       "    </tr>\n",
       "    <tr>\n",
       "      <th>515</th>\n",
       "      <td>1</td>\n",
       "      <td>4</td>\n",
       "      <td>94.4</td>\n",
       "      <td>146.0</td>\n",
       "      <td>614.7</td>\n",
       "      <td>11.3</td>\n",
       "      <td>25.6</td>\n",
       "      <td>42</td>\n",
       "      <td>4.0</td>\n",
       "      <td>0.0</td>\n",
       "      <td>...</td>\n",
       "      <td>False</td>\n",
       "      <td>False</td>\n",
       "      <td>False</td>\n",
       "      <td>False</td>\n",
       "      <td>False</td>\n",
       "      <td>True</td>\n",
       "      <td>False</td>\n",
       "      <td>False</td>\n",
       "      <td>False</td>\n",
       "      <td>False</td>\n",
       "    </tr>\n",
       "    <tr>\n",
       "      <th>516</th>\n",
       "      <td>6</td>\n",
       "      <td>3</td>\n",
       "      <td>79.5</td>\n",
       "      <td>3.0</td>\n",
       "      <td>106.7</td>\n",
       "      <td>1.1</td>\n",
       "      <td>11.8</td>\n",
       "      <td>31</td>\n",
       "      <td>4.5</td>\n",
       "      <td>0.0</td>\n",
       "      <td>...</td>\n",
       "      <td>True</td>\n",
       "      <td>False</td>\n",
       "      <td>False</td>\n",
       "      <td>False</td>\n",
       "      <td>False</td>\n",
       "      <td>False</td>\n",
       "      <td>False</td>\n",
       "      <td>False</td>\n",
       "      <td>True</td>\n",
       "      <td>False</td>\n",
       "    </tr>\n",
       "  </tbody>\n",
       "</table>\n",
       "<p>517 rows × 30 columns</p>\n",
       "</div>"
      ],
      "text/plain": [
       "     X  Y  FFMC    DMC     DC   ISI  temp  RH  wind  rain  ...  month_nov  \\\n",
       "0    7  5  86.2   26.2   94.3   5.1   8.2  51   6.7   0.0  ...      False   \n",
       "1    7  4  90.6   35.4  669.1   6.7  18.0  33   0.9   0.0  ...      False   \n",
       "2    7  4  90.6   43.7  686.9   6.7  14.6  33   1.3   0.0  ...      False   \n",
       "3    8  6  91.7   33.3   77.5   9.0   8.3  97   4.0   0.2  ...      False   \n",
       "4    8  6  89.3   51.3  102.2   9.6  11.4  99   1.8   0.0  ...      False   \n",
       "..  .. ..   ...    ...    ...   ...   ...  ..   ...   ...  ...        ...   \n",
       "512  4  3  81.6   56.7  665.6   1.9  27.8  32   2.7   0.0  ...      False   \n",
       "513  2  4  81.6   56.7  665.6   1.9  21.9  71   5.8   0.0  ...      False   \n",
       "514  7  4  81.6   56.7  665.6   1.9  21.2  70   6.7   0.0  ...      False   \n",
       "515  1  4  94.4  146.0  614.7  11.3  25.6  42   4.0   0.0  ...      False   \n",
       "516  6  3  79.5    3.0  106.7   1.1  11.8  31   4.5   0.0  ...       True   \n",
       "\n",
       "     month_oct  month_sep  day_fri  day_mon  day_sat  day_sun  day_thu  \\\n",
       "0        False      False     True    False    False    False    False   \n",
       "1         True      False    False    False    False    False    False   \n",
       "2         True      False    False    False     True    False    False   \n",
       "3        False      False     True    False    False    False    False   \n",
       "4        False      False    False    False    False     True    False   \n",
       "..         ...        ...      ...      ...      ...      ...      ...   \n",
       "512      False      False    False    False    False     True    False   \n",
       "513      False      False    False    False    False     True    False   \n",
       "514      False      False    False    False    False     True    False   \n",
       "515      False      False    False    False     True    False    False   \n",
       "516      False      False    False    False    False    False    False   \n",
       "\n",
       "     day_tue  day_wed  \n",
       "0      False    False  \n",
       "1       True    False  \n",
       "2      False    False  \n",
       "3      False    False  \n",
       "4      False    False  \n",
       "..       ...      ...  \n",
       "512    False    False  \n",
       "513    False    False  \n",
       "514    False    False  \n",
       "515    False    False  \n",
       "516     True    False  \n",
       "\n",
       "[517 rows x 30 columns]"
      ]
     },
     "execution_count": 521,
     "metadata": {},
     "output_type": "execute_result"
    }
   ],
   "source": [
    "df = pd.get_dummies(df, columns=['month', 'day'])\n",
    "df"
   ]
  },
  {
   "cell_type": "code",
   "execution_count": 522,
   "id": "69570432",
   "metadata": {},
   "outputs": [],
   "source": [
    "#df['area'] = np.log(df['area'] + 1)"
   ]
  },
  {
   "cell_type": "code",
   "execution_count": 523,
   "id": "beebd8c7",
   "metadata": {},
   "outputs": [],
   "source": [
    "y = df['area']\n",
    "X = df.drop('area', axis=1)"
   ]
  },
  {
   "cell_type": "code",
   "execution_count": 524,
   "id": "24056757",
   "metadata": {},
   "outputs": [
    {
     "name": "stdout",
     "output_type": "stream",
     "text": [
      "X_train shape: (413, 29)\n",
      "X_test shape: (104, 29)\n",
      "y_train shape: (413,)\n",
      "y_test shape: (104,)\n"
     ]
    }
   ],
   "source": [
    "X_train, X_test, y_train, y_test = train_test_split(X, y, test_size=0.2, shuffle=True)\n",
    "print(f\"X_train shape: {X_train.shape}\")\n",
    "print(f\"X_test shape: {X_test.shape}\")\n",
    "print(f\"y_train shape: {y_train.shape}\")\n",
    "print(f\"y_test shape: {y_test.shape}\")"
   ]
  },
  {
   "cell_type": "code",
   "execution_count": 525,
   "id": "1d8ebe6b",
   "metadata": {},
   "outputs": [
    {
     "name": "stdout",
     "output_type": "stream",
     "text": [
      "Default SGD RMSE (per fold): [34.25890009 39.12824718 85.94383867 27.06885441 31.20437662]\n",
      "Default SGD Average RMSE: 43.52084339325296\n",
      "\n",
      "Default SGD Test Set RMSE: 106.04389321637258\n",
      "Default SGD Test Set R²: 0.018795495178114074\n"
     ]
    }
   ],
   "source": [
    "pipe = make_pipeline(StandardScaler(), SGDRegressor(random_state=62)).fit(X_train, y_train)\n",
    "mse_scores = cross_val_score(pipe, X_train, y_train, scoring='neg_mean_squared_error', cv=5)\n",
    "rmse_scores = np.sqrt(-mse_scores)\n",
    "print(\"Default SGD RMSE (per fold):\", rmse_scores)\n",
    "print(\"Default SGD Average RMSE:\", rmse_scores.mean())\n",
    "\n",
    "y_pred = pipe.predict(X_test)\n",
    "test_rmse = root_mean_squared_error(y_test, y_pred)\n",
    "print(f\"\\nDefault SGD Test Set RMSE: {test_rmse}\")\n",
    "from sklearn.metrics import r2_score\n",
    "\n",
    "r2 = r2_score(y_test, y_pred)\n",
    "print(f\"Default SGD Test Set R²: {r2}\")"
   ]
  }
 ],
 "metadata": {
  "kernelspec": {
   "display_name": "Python 3",
   "language": "python",
   "name": "python3"
  },
  "language_info": {
   "codemirror_mode": {
    "name": "ipython",
    "version": 3
   },
   "file_extension": ".py",
   "mimetype": "text/x-python",
   "name": "python",
   "nbconvert_exporter": "python",
   "pygments_lexer": "ipython3",
   "version": "3.12.3"
  }
 },
 "nbformat": 4,
 "nbformat_minor": 5
}

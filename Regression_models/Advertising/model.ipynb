{
 "cells": [
  {
   "cell_type": "markdown",
   "id": "255fb781",
   "metadata": {},
   "source": [
    "Linear Regression on dataset created by chat gpt"
   ]
  },
  {
   "cell_type": "code",
   "execution_count": 9,
   "id": "53e83f57",
   "metadata": {},
   "outputs": [],
   "source": [
    "import pandas as pd\n",
    "from sklearn.model_selection import train_test_split\n",
    "from sklearn.linear_model import LinearRegression\n",
    "from sklearn.metrics import mean_squared_error\n",
    "import plotly.express as px\n"
   ]
  },
  {
   "cell_type": "code",
   "execution_count": 10,
   "id": "c92ba24c",
   "metadata": {},
   "outputs": [
    {
     "data": {
      "text/html": [
       "<div>\n",
       "<style scoped>\n",
       "    .dataframe tbody tr th:only-of-type {\n",
       "        vertical-align: middle;\n",
       "    }\n",
       "\n",
       "    .dataframe tbody tr th {\n",
       "        vertical-align: top;\n",
       "    }\n",
       "\n",
       "    .dataframe thead th {\n",
       "        text-align: right;\n",
       "    }\n",
       "</style>\n",
       "<table border=\"1\" class=\"dataframe\">\n",
       "  <thead>\n",
       "    <tr style=\"text-align: right;\">\n",
       "      <th></th>\n",
       "      <th>TV</th>\n",
       "      <th>Radio</th>\n",
       "      <th>Newspaper</th>\n",
       "      <th>Sales</th>\n",
       "    </tr>\n",
       "  </thead>\n",
       "  <tbody>\n",
       "    <tr>\n",
       "      <th>0</th>\n",
       "      <td>164.64</td>\n",
       "      <td>15.59</td>\n",
       "      <td>20.06</td>\n",
       "      <td>12.65</td>\n",
       "    </tr>\n",
       "    <tr>\n",
       "      <th>1</th>\n",
       "      <td>214.56</td>\n",
       "      <td>34.82</td>\n",
       "      <td>46.46</td>\n",
       "      <td>18.49</td>\n",
       "    </tr>\n",
       "    <tr>\n",
       "      <th>2</th>\n",
       "      <td>180.83</td>\n",
       "      <td>18.89</td>\n",
       "      <td>4.98</td>\n",
       "      <td>13.86</td>\n",
       "    </tr>\n",
       "    <tr>\n",
       "      <th>3</th>\n",
       "      <td>163.46</td>\n",
       "      <td>8.98</td>\n",
       "      <td>47.27</td>\n",
       "      <td>12.45</td>\n",
       "    </tr>\n",
       "    <tr>\n",
       "      <th>4</th>\n",
       "      <td>127.10</td>\n",
       "      <td>1.23</td>\n",
       "      <td>43.47</td>\n",
       "      <td>8.60</td>\n",
       "    </tr>\n",
       "  </tbody>\n",
       "</table>\n",
       "</div>"
      ],
      "text/plain": [
       "       TV  Radio  Newspaper  Sales\n",
       "0  164.64  15.59      20.06  12.65\n",
       "1  214.56  34.82      46.46  18.49\n",
       "2  180.83  18.89       4.98  13.86\n",
       "3  163.46   8.98      47.27  12.45\n",
       "4  127.10   1.23      43.47   8.60"
      ]
     },
     "execution_count": 10,
     "metadata": {},
     "output_type": "execute_result"
    }
   ],
   "source": [
    "df = pd.read_csv('advertising_synthetic.csv')\n",
    "df.head()"
   ]
  },
  {
   "cell_type": "code",
   "execution_count": 11,
   "id": "d501a260",
   "metadata": {},
   "outputs": [
    {
     "data": {
      "application/vnd.plotly.v1+json": {
       "config": {
        "plotlyServerURL": "https://plot.ly"
       },
       "data": [
        {
         "hovertemplate": "TV=%{x}<br>Sales=%{y}<br>Newspaper=%{marker.size}<br>Radio=%{marker.color}<extra></extra>",
         "legendgroup": "",
         "marker": {
          "color": {
           "bdata": "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",
           "dtype": "f8"
          },
          "coloraxis": "coloraxis",
          "size": {
           "bdata": "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",
           "dtype": "f8"
          },
          "sizemode": "area",
          "sizeref": 0.12475,
          "symbol": "circle"
         },
         "mode": "markers",
         "name": "",
         "orientation": "v",
         "showlegend": false,
         "type": "scatter",
         "x": {
          "bdata": "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",
          "dtype": "f8"
         },
         "xaxis": "x",
         "y": {
          "bdata": "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",
          "dtype": "f8"
         },
         "yaxis": "y"
        }
       ],
       "layout": {
        "coloraxis": {
         "colorbar": {
          "title": {
           "text": "Radio"
          }
         },
         "colorscale": [
          [
           0,
           "#0d0887"
          ],
          [
           0.1111111111111111,
           "#46039f"
          ],
          [
           0.2222222222222222,
           "#7201a8"
          ],
          [
           0.3333333333333333,
           "#9c179e"
          ],
          [
           0.4444444444444444,
           "#bd3786"
          ],
          [
           0.5555555555555556,
           "#d8576b"
          ],
          [
           0.6666666666666666,
           "#ed7953"
          ],
          [
           0.7777777777777778,
           "#fb9f3a"
          ],
          [
           0.8888888888888888,
           "#fdca26"
          ],
          [
           1,
           "#f0f921"
          ]
         ]
        },
        "legend": {
         "itemsizing": "constant",
         "tracegroupgap": 0
        },
        "template": {
         "data": {
          "bar": [
           {
            "error_x": {
             "color": "#2a3f5f"
            },
            "error_y": {
             "color": "#2a3f5f"
            },
            "marker": {
             "line": {
              "color": "#E5ECF6",
              "width": 0.5
             },
             "pattern": {
              "fillmode": "overlay",
              "size": 10,
              "solidity": 0.2
             }
            },
            "type": "bar"
           }
          ],
          "barpolar": [
           {
            "marker": {
             "line": {
              "color": "#E5ECF6",
              "width": 0.5
             },
             "pattern": {
              "fillmode": "overlay",
              "size": 10,
              "solidity": 0.2
             }
            },
            "type": "barpolar"
           }
          ],
          "carpet": [
           {
            "aaxis": {
             "endlinecolor": "#2a3f5f",
             "gridcolor": "white",
             "linecolor": "white",
             "minorgridcolor": "white",
             "startlinecolor": "#2a3f5f"
            },
            "baxis": {
             "endlinecolor": "#2a3f5f",
             "gridcolor": "white",
             "linecolor": "white",
             "minorgridcolor": "white",
             "startlinecolor": "#2a3f5f"
            },
            "type": "carpet"
           }
          ],
          "choropleth": [
           {
            "colorbar": {
             "outlinewidth": 0,
             "ticks": ""
            },
            "type": "choropleth"
           }
          ],
          "contour": [
           {
            "colorbar": {
             "outlinewidth": 0,
             "ticks": ""
            },
            "colorscale": [
             [
              0,
              "#0d0887"
             ],
             [
              0.1111111111111111,
              "#46039f"
             ],
             [
              0.2222222222222222,
              "#7201a8"
             ],
             [
              0.3333333333333333,
              "#9c179e"
             ],
             [
              0.4444444444444444,
              "#bd3786"
             ],
             [
              0.5555555555555556,
              "#d8576b"
             ],
             [
              0.6666666666666666,
              "#ed7953"
             ],
             [
              0.7777777777777778,
              "#fb9f3a"
             ],
             [
              0.8888888888888888,
              "#fdca26"
             ],
             [
              1,
              "#f0f921"
             ]
            ],
            "type": "contour"
           }
          ],
          "contourcarpet": [
           {
            "colorbar": {
             "outlinewidth": 0,
             "ticks": ""
            },
            "type": "contourcarpet"
           }
          ],
          "heatmap": [
           {
            "colorbar": {
             "outlinewidth": 0,
             "ticks": ""
            },
            "colorscale": [
             [
              0,
              "#0d0887"
             ],
             [
              0.1111111111111111,
              "#46039f"
             ],
             [
              0.2222222222222222,
              "#7201a8"
             ],
             [
              0.3333333333333333,
              "#9c179e"
             ],
             [
              0.4444444444444444,
              "#bd3786"
             ],
             [
              0.5555555555555556,
              "#d8576b"
             ],
             [
              0.6666666666666666,
              "#ed7953"
             ],
             [
              0.7777777777777778,
              "#fb9f3a"
             ],
             [
              0.8888888888888888,
              "#fdca26"
             ],
             [
              1,
              "#f0f921"
             ]
            ],
            "type": "heatmap"
           }
          ],
          "histogram": [
           {
            "marker": {
             "pattern": {
              "fillmode": "overlay",
              "size": 10,
              "solidity": 0.2
             }
            },
            "type": "histogram"
           }
          ],
          "histogram2d": [
           {
            "colorbar": {
             "outlinewidth": 0,
             "ticks": ""
            },
            "colorscale": [
             [
              0,
              "#0d0887"
             ],
             [
              0.1111111111111111,
              "#46039f"
             ],
             [
              0.2222222222222222,
              "#7201a8"
             ],
             [
              0.3333333333333333,
              "#9c179e"
             ],
             [
              0.4444444444444444,
              "#bd3786"
             ],
             [
              0.5555555555555556,
              "#d8576b"
             ],
             [
              0.6666666666666666,
              "#ed7953"
             ],
             [
              0.7777777777777778,
              "#fb9f3a"
             ],
             [
              0.8888888888888888,
              "#fdca26"
             ],
             [
              1,
              "#f0f921"
             ]
            ],
            "type": "histogram2d"
           }
          ],
          "histogram2dcontour": [
           {
            "colorbar": {
             "outlinewidth": 0,
             "ticks": ""
            },
            "colorscale": [
             [
              0,
              "#0d0887"
             ],
             [
              0.1111111111111111,
              "#46039f"
             ],
             [
              0.2222222222222222,
              "#7201a8"
             ],
             [
              0.3333333333333333,
              "#9c179e"
             ],
             [
              0.4444444444444444,
              "#bd3786"
             ],
             [
              0.5555555555555556,
              "#d8576b"
             ],
             [
              0.6666666666666666,
              "#ed7953"
             ],
             [
              0.7777777777777778,
              "#fb9f3a"
             ],
             [
              0.8888888888888888,
              "#fdca26"
             ],
             [
              1,
              "#f0f921"
             ]
            ],
            "type": "histogram2dcontour"
           }
          ],
          "mesh3d": [
           {
            "colorbar": {
             "outlinewidth": 0,
             "ticks": ""
            },
            "type": "mesh3d"
           }
          ],
          "parcoords": [
           {
            "line": {
             "colorbar": {
              "outlinewidth": 0,
              "ticks": ""
             }
            },
            "type": "parcoords"
           }
          ],
          "pie": [
           {
            "automargin": true,
            "type": "pie"
           }
          ],
          "scatter": [
           {
            "fillpattern": {
             "fillmode": "overlay",
             "size": 10,
             "solidity": 0.2
            },
            "type": "scatter"
           }
          ],
          "scatter3d": [
           {
            "line": {
             "colorbar": {
              "outlinewidth": 0,
              "ticks": ""
             }
            },
            "marker": {
             "colorbar": {
              "outlinewidth": 0,
              "ticks": ""
             }
            },
            "type": "scatter3d"
           }
          ],
          "scattercarpet": [
           {
            "marker": {
             "colorbar": {
              "outlinewidth": 0,
              "ticks": ""
             }
            },
            "type": "scattercarpet"
           }
          ],
          "scattergeo": [
           {
            "marker": {
             "colorbar": {
              "outlinewidth": 0,
              "ticks": ""
             }
            },
            "type": "scattergeo"
           }
          ],
          "scattergl": [
           {
            "marker": {
             "colorbar": {
              "outlinewidth": 0,
              "ticks": ""
             }
            },
            "type": "scattergl"
           }
          ],
          "scattermap": [
           {
            "marker": {
             "colorbar": {
              "outlinewidth": 0,
              "ticks": ""
             }
            },
            "type": "scattermap"
           }
          ],
          "scattermapbox": [
           {
            "marker": {
             "colorbar": {
              "outlinewidth": 0,
              "ticks": ""
             }
            },
            "type": "scattermapbox"
           }
          ],
          "scatterpolar": [
           {
            "marker": {
             "colorbar": {
              "outlinewidth": 0,
              "ticks": ""
             }
            },
            "type": "scatterpolar"
           }
          ],
          "scatterpolargl": [
           {
            "marker": {
             "colorbar": {
              "outlinewidth": 0,
              "ticks": ""
             }
            },
            "type": "scatterpolargl"
           }
          ],
          "scatterternary": [
           {
            "marker": {
             "colorbar": {
              "outlinewidth": 0,
              "ticks": ""
             }
            },
            "type": "scatterternary"
           }
          ],
          "surface": [
           {
            "colorbar": {
             "outlinewidth": 0,
             "ticks": ""
            },
            "colorscale": [
             [
              0,
              "#0d0887"
             ],
             [
              0.1111111111111111,
              "#46039f"
             ],
             [
              0.2222222222222222,
              "#7201a8"
             ],
             [
              0.3333333333333333,
              "#9c179e"
             ],
             [
              0.4444444444444444,
              "#bd3786"
             ],
             [
              0.5555555555555556,
              "#d8576b"
             ],
             [
              0.6666666666666666,
              "#ed7953"
             ],
             [
              0.7777777777777778,
              "#fb9f3a"
             ],
             [
              0.8888888888888888,
              "#fdca26"
             ],
             [
              1,
              "#f0f921"
             ]
            ],
            "type": "surface"
           }
          ],
          "table": [
           {
            "cells": {
             "fill": {
              "color": "#EBF0F8"
             },
             "line": {
              "color": "white"
             }
            },
            "header": {
             "fill": {
              "color": "#C8D4E3"
             },
             "line": {
              "color": "white"
             }
            },
            "type": "table"
           }
          ]
         },
         "layout": {
          "annotationdefaults": {
           "arrowcolor": "#2a3f5f",
           "arrowhead": 0,
           "arrowwidth": 1
          },
          "autotypenumbers": "strict",
          "coloraxis": {
           "colorbar": {
            "outlinewidth": 0,
            "ticks": ""
           }
          },
          "colorscale": {
           "diverging": [
            [
             0,
             "#8e0152"
            ],
            [
             0.1,
             "#c51b7d"
            ],
            [
             0.2,
             "#de77ae"
            ],
            [
             0.3,
             "#f1b6da"
            ],
            [
             0.4,
             "#fde0ef"
            ],
            [
             0.5,
             "#f7f7f7"
            ],
            [
             0.6,
             "#e6f5d0"
            ],
            [
             0.7,
             "#b8e186"
            ],
            [
             0.8,
             "#7fbc41"
            ],
            [
             0.9,
             "#4d9221"
            ],
            [
             1,
             "#276419"
            ]
           ],
           "sequential": [
            [
             0,
             "#0d0887"
            ],
            [
             0.1111111111111111,
             "#46039f"
            ],
            [
             0.2222222222222222,
             "#7201a8"
            ],
            [
             0.3333333333333333,
             "#9c179e"
            ],
            [
             0.4444444444444444,
             "#bd3786"
            ],
            [
             0.5555555555555556,
             "#d8576b"
            ],
            [
             0.6666666666666666,
             "#ed7953"
            ],
            [
             0.7777777777777778,
             "#fb9f3a"
            ],
            [
             0.8888888888888888,
             "#fdca26"
            ],
            [
             1,
             "#f0f921"
            ]
           ],
           "sequentialminus": [
            [
             0,
             "#0d0887"
            ],
            [
             0.1111111111111111,
             "#46039f"
            ],
            [
             0.2222222222222222,
             "#7201a8"
            ],
            [
             0.3333333333333333,
             "#9c179e"
            ],
            [
             0.4444444444444444,
             "#bd3786"
            ],
            [
             0.5555555555555556,
             "#d8576b"
            ],
            [
             0.6666666666666666,
             "#ed7953"
            ],
            [
             0.7777777777777778,
             "#fb9f3a"
            ],
            [
             0.8888888888888888,
             "#fdca26"
            ],
            [
             1,
             "#f0f921"
            ]
           ]
          },
          "colorway": [
           "#636efa",
           "#EF553B",
           "#00cc96",
           "#ab63fa",
           "#FFA15A",
           "#19d3f3",
           "#FF6692",
           "#B6E880",
           "#FF97FF",
           "#FECB52"
          ],
          "font": {
           "color": "#2a3f5f"
          },
          "geo": {
           "bgcolor": "white",
           "lakecolor": "white",
           "landcolor": "#E5ECF6",
           "showlakes": true,
           "showland": true,
           "subunitcolor": "white"
          },
          "hoverlabel": {
           "align": "left"
          },
          "hovermode": "closest",
          "mapbox": {
           "style": "light"
          },
          "paper_bgcolor": "white",
          "plot_bgcolor": "#E5ECF6",
          "polar": {
           "angularaxis": {
            "gridcolor": "white",
            "linecolor": "white",
            "ticks": ""
           },
           "bgcolor": "#E5ECF6",
           "radialaxis": {
            "gridcolor": "white",
            "linecolor": "white",
            "ticks": ""
           }
          },
          "scene": {
           "xaxis": {
            "backgroundcolor": "#E5ECF6",
            "gridcolor": "white",
            "gridwidth": 2,
            "linecolor": "white",
            "showbackground": true,
            "ticks": "",
            "zerolinecolor": "white"
           },
           "yaxis": {
            "backgroundcolor": "#E5ECF6",
            "gridcolor": "white",
            "gridwidth": 2,
            "linecolor": "white",
            "showbackground": true,
            "ticks": "",
            "zerolinecolor": "white"
           },
           "zaxis": {
            "backgroundcolor": "#E5ECF6",
            "gridcolor": "white",
            "gridwidth": 2,
            "linecolor": "white",
            "showbackground": true,
            "ticks": "",
            "zerolinecolor": "white"
           }
          },
          "shapedefaults": {
           "line": {
            "color": "#2a3f5f"
           }
          },
          "ternary": {
           "aaxis": {
            "gridcolor": "white",
            "linecolor": "white",
            "ticks": ""
           },
           "baxis": {
            "gridcolor": "white",
            "linecolor": "white",
            "ticks": ""
           },
           "bgcolor": "#E5ECF6",
           "caxis": {
            "gridcolor": "white",
            "linecolor": "white",
            "ticks": ""
           }
          },
          "title": {
           "x": 0.05
          },
          "xaxis": {
           "automargin": true,
           "gridcolor": "white",
           "linecolor": "white",
           "ticks": "",
           "title": {
            "standoff": 15
           },
           "zerolinecolor": "white",
           "zerolinewidth": 2
          },
          "yaxis": {
           "automargin": true,
           "gridcolor": "white",
           "linecolor": "white",
           "ticks": "",
           "title": {
            "standoff": 15
           },
           "zerolinecolor": "white",
           "zerolinewidth": 2
          }
         }
        },
        "title": {
         "text": "Sales vs TV (Colored by Radio, Sized by Newspaper)"
        },
        "xaxis": {
         "anchor": "y",
         "domain": [
          0,
          1
         ],
         "title": {
          "text": "TV"
         }
        },
        "yaxis": {
         "anchor": "x",
         "domain": [
          0,
          1
         ],
         "title": {
          "text": "Sales"
         }
        }
       }
      }
     },
     "metadata": {},
     "output_type": "display_data"
    }
   ],
   "source": [
    "fig = px.scatter(df, x='TV', y='Sales', color='Radio', size='Newspaper',\n",
    "                 title='Sales vs TV (Colored by Radio, Sized by Newspaper)')\n",
    "fig.show()"
   ]
  },
  {
   "cell_type": "code",
   "execution_count": null,
   "id": "e02014de",
   "metadata": {},
   "outputs": [
    {
     "data": {
      "text/html": [
       "<div>\n",
       "<style scoped>\n",
       "    .dataframe tbody tr th:only-of-type {\n",
       "        vertical-align: middle;\n",
       "    }\n",
       "\n",
       "    .dataframe tbody tr th {\n",
       "        vertical-align: top;\n",
       "    }\n",
       "\n",
       "    .dataframe thead th {\n",
       "        text-align: right;\n",
       "    }\n",
       "</style>\n",
       "<table border=\"1\" class=\"dataframe\">\n",
       "  <thead>\n",
       "    <tr style=\"text-align: right;\">\n",
       "      <th></th>\n",
       "      <th>TV</th>\n",
       "      <th>Radio</th>\n",
       "      <th>Newspaper</th>\n",
       "    </tr>\n",
       "  </thead>\n",
       "  <tbody>\n",
       "    <tr>\n",
       "      <th>0</th>\n",
       "      <td>164.64</td>\n",
       "      <td>15.59</td>\n",
       "      <td>20.06</td>\n",
       "    </tr>\n",
       "    <tr>\n",
       "      <th>1</th>\n",
       "      <td>214.56</td>\n",
       "      <td>34.82</td>\n",
       "      <td>46.46</td>\n",
       "    </tr>\n",
       "    <tr>\n",
       "      <th>2</th>\n",
       "      <td>180.83</td>\n",
       "      <td>18.89</td>\n",
       "      <td>4.98</td>\n",
       "    </tr>\n",
       "    <tr>\n",
       "      <th>3</th>\n",
       "      <td>163.46</td>\n",
       "      <td>8.98</td>\n",
       "      <td>47.27</td>\n",
       "    </tr>\n",
       "    <tr>\n",
       "      <th>4</th>\n",
       "      <td>127.10</td>\n",
       "      <td>1.23</td>\n",
       "      <td>43.47</td>\n",
       "    </tr>\n",
       "    <tr>\n",
       "      <th>...</th>\n",
       "      <td>...</td>\n",
       "      <td>...</td>\n",
       "      <td>...</td>\n",
       "    </tr>\n",
       "    <tr>\n",
       "      <th>195</th>\n",
       "      <td>147.14</td>\n",
       "      <td>47.95</td>\n",
       "      <td>49.90</td>\n",
       "    </tr>\n",
       "    <tr>\n",
       "      <th>196</th>\n",
       "      <td>68.22</td>\n",
       "      <td>17.77</td>\n",
       "      <td>18.11</td>\n",
       "    </tr>\n",
       "    <tr>\n",
       "      <th>197</th>\n",
       "      <td>76.31</td>\n",
       "      <td>17.84</td>\n",
       "      <td>23.53</td>\n",
       "    </tr>\n",
       "    <tr>\n",
       "      <th>198</th>\n",
       "      <td>17.41</td>\n",
       "      <td>0.82</td>\n",
       "      <td>18.91</td>\n",
       "    </tr>\n",
       "    <tr>\n",
       "      <th>199</th>\n",
       "      <td>130.32</td>\n",
       "      <td>9.26</td>\n",
       "      <td>48.98</td>\n",
       "    </tr>\n",
       "  </tbody>\n",
       "</table>\n",
       "<p>200 rows × 3 columns</p>\n",
       "</div>"
      ],
      "text/plain": [
       "         TV  Radio  Newspaper\n",
       "0    164.64  15.59      20.06\n",
       "1    214.56  34.82      46.46\n",
       "2    180.83  18.89       4.98\n",
       "3    163.46   8.98      47.27\n",
       "4    127.10   1.23      43.47\n",
       "..      ...    ...        ...\n",
       "195  147.14  47.95      49.90\n",
       "196   68.22  17.77      18.11\n",
       "197   76.31  17.84      23.53\n",
       "198   17.41   0.82      18.91\n",
       "199  130.32   9.26      48.98\n",
       "\n",
       "[200 rows x 3 columns]"
      ]
     },
     "execution_count": 13,
     "metadata": {},
     "output_type": "execute_result"
    }
   ],
   "source": [
    "y = df['Sales']\n",
    "X = df.drop('Sales', axis=1)\n",
    "X"
   ]
  },
  {
   "cell_type": "code",
   "execution_count": 15,
   "id": "8fa1eb6e",
   "metadata": {},
   "outputs": [
    {
     "name": "stdout",
     "output_type": "stream",
     "text": [
      "X_train shape: (160, 3)\n",
      "X_test shape: (40, 3)\n",
      "y_train shape: (160,)\n",
      "y_test shape: (40,)\n"
     ]
    }
   ],
   "source": [
    "X_train, X_test, y_train, y_test = train_test_split(X, y, test_size=0.2, random_state=62)\n",
    "print(f\"X_train shape: {X_train.shape}\")\n",
    "print(f\"X_test shape: {X_test.shape}\")\n",
    "print(f\"y_train shape: {y_train.shape}\")\n",
    "print(f\"y_test shape: {y_test.shape}\")"
   ]
  },
  {
   "cell_type": "code",
   "execution_count": 17,
   "id": "b203b4da",
   "metadata": {},
   "outputs": [
    {
     "data": {
      "text/html": [
       "<style>#sk-container-id-1 {\n",
       "  /* Definition of color scheme common for light and dark mode */\n",
       "  --sklearn-color-text: black;\n",
       "  --sklearn-color-line: gray;\n",
       "  /* Definition of color scheme for unfitted estimators */\n",
       "  --sklearn-color-unfitted-level-0: #fff5e6;\n",
       "  --sklearn-color-unfitted-level-1: #f6e4d2;\n",
       "  --sklearn-color-unfitted-level-2: #ffe0b3;\n",
       "  --sklearn-color-unfitted-level-3: chocolate;\n",
       "  /* Definition of color scheme for fitted estimators */\n",
       "  --sklearn-color-fitted-level-0: #f0f8ff;\n",
       "  --sklearn-color-fitted-level-1: #d4ebff;\n",
       "  --sklearn-color-fitted-level-2: #b3dbfd;\n",
       "  --sklearn-color-fitted-level-3: cornflowerblue;\n",
       "\n",
       "  /* Specific color for light theme */\n",
       "  --sklearn-color-text-on-default-background: var(--sg-text-color, var(--theme-code-foreground, var(--jp-content-font-color1, black)));\n",
       "  --sklearn-color-background: var(--sg-background-color, var(--theme-background, var(--jp-layout-color0, white)));\n",
       "  --sklearn-color-border-box: var(--sg-text-color, var(--theme-code-foreground, var(--jp-content-font-color1, black)));\n",
       "  --sklearn-color-icon: #696969;\n",
       "\n",
       "  @media (prefers-color-scheme: dark) {\n",
       "    /* Redefinition of color scheme for dark theme */\n",
       "    --sklearn-color-text-on-default-background: var(--sg-text-color, var(--theme-code-foreground, var(--jp-content-font-color1, white)));\n",
       "    --sklearn-color-background: var(--sg-background-color, var(--theme-background, var(--jp-layout-color0, #111)));\n",
       "    --sklearn-color-border-box: var(--sg-text-color, var(--theme-code-foreground, var(--jp-content-font-color1, white)));\n",
       "    --sklearn-color-icon: #878787;\n",
       "  }\n",
       "}\n",
       "\n",
       "#sk-container-id-1 {\n",
       "  color: var(--sklearn-color-text);\n",
       "}\n",
       "\n",
       "#sk-container-id-1 pre {\n",
       "  padding: 0;\n",
       "}\n",
       "\n",
       "#sk-container-id-1 input.sk-hidden--visually {\n",
       "  border: 0;\n",
       "  clip: rect(1px 1px 1px 1px);\n",
       "  clip: rect(1px, 1px, 1px, 1px);\n",
       "  height: 1px;\n",
       "  margin: -1px;\n",
       "  overflow: hidden;\n",
       "  padding: 0;\n",
       "  position: absolute;\n",
       "  width: 1px;\n",
       "}\n",
       "\n",
       "#sk-container-id-1 div.sk-dashed-wrapped {\n",
       "  border: 1px dashed var(--sklearn-color-line);\n",
       "  margin: 0 0.4em 0.5em 0.4em;\n",
       "  box-sizing: border-box;\n",
       "  padding-bottom: 0.4em;\n",
       "  background-color: var(--sklearn-color-background);\n",
       "}\n",
       "\n",
       "#sk-container-id-1 div.sk-container {\n",
       "  /* jupyter's `normalize.less` sets `[hidden] { display: none; }`\n",
       "     but bootstrap.min.css set `[hidden] { display: none !important; }`\n",
       "     so we also need the `!important` here to be able to override the\n",
       "     default hidden behavior on the sphinx rendered scikit-learn.org.\n",
       "     See: https://github.com/scikit-learn/scikit-learn/issues/21755 */\n",
       "  display: inline-block !important;\n",
       "  position: relative;\n",
       "}\n",
       "\n",
       "#sk-container-id-1 div.sk-text-repr-fallback {\n",
       "  display: none;\n",
       "}\n",
       "\n",
       "div.sk-parallel-item,\n",
       "div.sk-serial,\n",
       "div.sk-item {\n",
       "  /* draw centered vertical line to link estimators */\n",
       "  background-image: linear-gradient(var(--sklearn-color-text-on-default-background), var(--sklearn-color-text-on-default-background));\n",
       "  background-size: 2px 100%;\n",
       "  background-repeat: no-repeat;\n",
       "  background-position: center center;\n",
       "}\n",
       "\n",
       "/* Parallel-specific style estimator block */\n",
       "\n",
       "#sk-container-id-1 div.sk-parallel-item::after {\n",
       "  content: \"\";\n",
       "  width: 100%;\n",
       "  border-bottom: 2px solid var(--sklearn-color-text-on-default-background);\n",
       "  flex-grow: 1;\n",
       "}\n",
       "\n",
       "#sk-container-id-1 div.sk-parallel {\n",
       "  display: flex;\n",
       "  align-items: stretch;\n",
       "  justify-content: center;\n",
       "  background-color: var(--sklearn-color-background);\n",
       "  position: relative;\n",
       "}\n",
       "\n",
       "#sk-container-id-1 div.sk-parallel-item {\n",
       "  display: flex;\n",
       "  flex-direction: column;\n",
       "}\n",
       "\n",
       "#sk-container-id-1 div.sk-parallel-item:first-child::after {\n",
       "  align-self: flex-end;\n",
       "  width: 50%;\n",
       "}\n",
       "\n",
       "#sk-container-id-1 div.sk-parallel-item:last-child::after {\n",
       "  align-self: flex-start;\n",
       "  width: 50%;\n",
       "}\n",
       "\n",
       "#sk-container-id-1 div.sk-parallel-item:only-child::after {\n",
       "  width: 0;\n",
       "}\n",
       "\n",
       "/* Serial-specific style estimator block */\n",
       "\n",
       "#sk-container-id-1 div.sk-serial {\n",
       "  display: flex;\n",
       "  flex-direction: column;\n",
       "  align-items: center;\n",
       "  background-color: var(--sklearn-color-background);\n",
       "  padding-right: 1em;\n",
       "  padding-left: 1em;\n",
       "}\n",
       "\n",
       "\n",
       "/* Toggleable style: style used for estimator/Pipeline/ColumnTransformer box that is\n",
       "clickable and can be expanded/collapsed.\n",
       "- Pipeline and ColumnTransformer use this feature and define the default style\n",
       "- Estimators will overwrite some part of the style using the `sk-estimator` class\n",
       "*/\n",
       "\n",
       "/* Pipeline and ColumnTransformer style (default) */\n",
       "\n",
       "#sk-container-id-1 div.sk-toggleable {\n",
       "  /* Default theme specific background. It is overwritten whether we have a\n",
       "  specific estimator or a Pipeline/ColumnTransformer */\n",
       "  background-color: var(--sklearn-color-background);\n",
       "}\n",
       "\n",
       "/* Toggleable label */\n",
       "#sk-container-id-1 label.sk-toggleable__label {\n",
       "  cursor: pointer;\n",
       "  display: block;\n",
       "  width: 100%;\n",
       "  margin-bottom: 0;\n",
       "  padding: 0.5em;\n",
       "  box-sizing: border-box;\n",
       "  text-align: center;\n",
       "}\n",
       "\n",
       "#sk-container-id-1 label.sk-toggleable__label-arrow:before {\n",
       "  /* Arrow on the left of the label */\n",
       "  content: \"▸\";\n",
       "  float: left;\n",
       "  margin-right: 0.25em;\n",
       "  color: var(--sklearn-color-icon);\n",
       "}\n",
       "\n",
       "#sk-container-id-1 label.sk-toggleable__label-arrow:hover:before {\n",
       "  color: var(--sklearn-color-text);\n",
       "}\n",
       "\n",
       "/* Toggleable content - dropdown */\n",
       "\n",
       "#sk-container-id-1 div.sk-toggleable__content {\n",
       "  max-height: 0;\n",
       "  max-width: 0;\n",
       "  overflow: hidden;\n",
       "  text-align: left;\n",
       "  /* unfitted */\n",
       "  background-color: var(--sklearn-color-unfitted-level-0);\n",
       "}\n",
       "\n",
       "#sk-container-id-1 div.sk-toggleable__content.fitted {\n",
       "  /* fitted */\n",
       "  background-color: var(--sklearn-color-fitted-level-0);\n",
       "}\n",
       "\n",
       "#sk-container-id-1 div.sk-toggleable__content pre {\n",
       "  margin: 0.2em;\n",
       "  border-radius: 0.25em;\n",
       "  color: var(--sklearn-color-text);\n",
       "  /* unfitted */\n",
       "  background-color: var(--sklearn-color-unfitted-level-0);\n",
       "}\n",
       "\n",
       "#sk-container-id-1 div.sk-toggleable__content.fitted pre {\n",
       "  /* unfitted */\n",
       "  background-color: var(--sklearn-color-fitted-level-0);\n",
       "}\n",
       "\n",
       "#sk-container-id-1 input.sk-toggleable__control:checked~div.sk-toggleable__content {\n",
       "  /* Expand drop-down */\n",
       "  max-height: 200px;\n",
       "  max-width: 100%;\n",
       "  overflow: auto;\n",
       "}\n",
       "\n",
       "#sk-container-id-1 input.sk-toggleable__control:checked~label.sk-toggleable__label-arrow:before {\n",
       "  content: \"▾\";\n",
       "}\n",
       "\n",
       "/* Pipeline/ColumnTransformer-specific style */\n",
       "\n",
       "#sk-container-id-1 div.sk-label input.sk-toggleable__control:checked~label.sk-toggleable__label {\n",
       "  color: var(--sklearn-color-text);\n",
       "  background-color: var(--sklearn-color-unfitted-level-2);\n",
       "}\n",
       "\n",
       "#sk-container-id-1 div.sk-label.fitted input.sk-toggleable__control:checked~label.sk-toggleable__label {\n",
       "  background-color: var(--sklearn-color-fitted-level-2);\n",
       "}\n",
       "\n",
       "/* Estimator-specific style */\n",
       "\n",
       "/* Colorize estimator box */\n",
       "#sk-container-id-1 div.sk-estimator input.sk-toggleable__control:checked~label.sk-toggleable__label {\n",
       "  /* unfitted */\n",
       "  background-color: var(--sklearn-color-unfitted-level-2);\n",
       "}\n",
       "\n",
       "#sk-container-id-1 div.sk-estimator.fitted input.sk-toggleable__control:checked~label.sk-toggleable__label {\n",
       "  /* fitted */\n",
       "  background-color: var(--sklearn-color-fitted-level-2);\n",
       "}\n",
       "\n",
       "#sk-container-id-1 div.sk-label label.sk-toggleable__label,\n",
       "#sk-container-id-1 div.sk-label label {\n",
       "  /* The background is the default theme color */\n",
       "  color: var(--sklearn-color-text-on-default-background);\n",
       "}\n",
       "\n",
       "/* On hover, darken the color of the background */\n",
       "#sk-container-id-1 div.sk-label:hover label.sk-toggleable__label {\n",
       "  color: var(--sklearn-color-text);\n",
       "  background-color: var(--sklearn-color-unfitted-level-2);\n",
       "}\n",
       "\n",
       "/* Label box, darken color on hover, fitted */\n",
       "#sk-container-id-1 div.sk-label.fitted:hover label.sk-toggleable__label.fitted {\n",
       "  color: var(--sklearn-color-text);\n",
       "  background-color: var(--sklearn-color-fitted-level-2);\n",
       "}\n",
       "\n",
       "/* Estimator label */\n",
       "\n",
       "#sk-container-id-1 div.sk-label label {\n",
       "  font-family: monospace;\n",
       "  font-weight: bold;\n",
       "  display: inline-block;\n",
       "  line-height: 1.2em;\n",
       "}\n",
       "\n",
       "#sk-container-id-1 div.sk-label-container {\n",
       "  text-align: center;\n",
       "}\n",
       "\n",
       "/* Estimator-specific */\n",
       "#sk-container-id-1 div.sk-estimator {\n",
       "  font-family: monospace;\n",
       "  border: 1px dotted var(--sklearn-color-border-box);\n",
       "  border-radius: 0.25em;\n",
       "  box-sizing: border-box;\n",
       "  margin-bottom: 0.5em;\n",
       "  /* unfitted */\n",
       "  background-color: var(--sklearn-color-unfitted-level-0);\n",
       "}\n",
       "\n",
       "#sk-container-id-1 div.sk-estimator.fitted {\n",
       "  /* fitted */\n",
       "  background-color: var(--sklearn-color-fitted-level-0);\n",
       "}\n",
       "\n",
       "/* on hover */\n",
       "#sk-container-id-1 div.sk-estimator:hover {\n",
       "  /* unfitted */\n",
       "  background-color: var(--sklearn-color-unfitted-level-2);\n",
       "}\n",
       "\n",
       "#sk-container-id-1 div.sk-estimator.fitted:hover {\n",
       "  /* fitted */\n",
       "  background-color: var(--sklearn-color-fitted-level-2);\n",
       "}\n",
       "\n",
       "/* Specification for estimator info (e.g. \"i\" and \"?\") */\n",
       "\n",
       "/* Common style for \"i\" and \"?\" */\n",
       "\n",
       ".sk-estimator-doc-link,\n",
       "a:link.sk-estimator-doc-link,\n",
       "a:visited.sk-estimator-doc-link {\n",
       "  float: right;\n",
       "  font-size: smaller;\n",
       "  line-height: 1em;\n",
       "  font-family: monospace;\n",
       "  background-color: var(--sklearn-color-background);\n",
       "  border-radius: 1em;\n",
       "  height: 1em;\n",
       "  width: 1em;\n",
       "  text-decoration: none !important;\n",
       "  margin-left: 1ex;\n",
       "  /* unfitted */\n",
       "  border: var(--sklearn-color-unfitted-level-1) 1pt solid;\n",
       "  color: var(--sklearn-color-unfitted-level-1);\n",
       "}\n",
       "\n",
       ".sk-estimator-doc-link.fitted,\n",
       "a:link.sk-estimator-doc-link.fitted,\n",
       "a:visited.sk-estimator-doc-link.fitted {\n",
       "  /* fitted */\n",
       "  border: var(--sklearn-color-fitted-level-1) 1pt solid;\n",
       "  color: var(--sklearn-color-fitted-level-1);\n",
       "}\n",
       "\n",
       "/* On hover */\n",
       "div.sk-estimator:hover .sk-estimator-doc-link:hover,\n",
       ".sk-estimator-doc-link:hover,\n",
       "div.sk-label-container:hover .sk-estimator-doc-link:hover,\n",
       ".sk-estimator-doc-link:hover {\n",
       "  /* unfitted */\n",
       "  background-color: var(--sklearn-color-unfitted-level-3);\n",
       "  color: var(--sklearn-color-background);\n",
       "  text-decoration: none;\n",
       "}\n",
       "\n",
       "div.sk-estimator.fitted:hover .sk-estimator-doc-link.fitted:hover,\n",
       ".sk-estimator-doc-link.fitted:hover,\n",
       "div.sk-label-container:hover .sk-estimator-doc-link.fitted:hover,\n",
       ".sk-estimator-doc-link.fitted:hover {\n",
       "  /* fitted */\n",
       "  background-color: var(--sklearn-color-fitted-level-3);\n",
       "  color: var(--sklearn-color-background);\n",
       "  text-decoration: none;\n",
       "}\n",
       "\n",
       "/* Span, style for the box shown on hovering the info icon */\n",
       ".sk-estimator-doc-link span {\n",
       "  display: none;\n",
       "  z-index: 9999;\n",
       "  position: relative;\n",
       "  font-weight: normal;\n",
       "  right: .2ex;\n",
       "  padding: .5ex;\n",
       "  margin: .5ex;\n",
       "  width: min-content;\n",
       "  min-width: 20ex;\n",
       "  max-width: 50ex;\n",
       "  color: var(--sklearn-color-text);\n",
       "  box-shadow: 2pt 2pt 4pt #999;\n",
       "  /* unfitted */\n",
       "  background: var(--sklearn-color-unfitted-level-0);\n",
       "  border: .5pt solid var(--sklearn-color-unfitted-level-3);\n",
       "}\n",
       "\n",
       ".sk-estimator-doc-link.fitted span {\n",
       "  /* fitted */\n",
       "  background: var(--sklearn-color-fitted-level-0);\n",
       "  border: var(--sklearn-color-fitted-level-3);\n",
       "}\n",
       "\n",
       ".sk-estimator-doc-link:hover span {\n",
       "  display: block;\n",
       "}\n",
       "\n",
       "/* \"?\"-specific style due to the `<a>` HTML tag */\n",
       "\n",
       "#sk-container-id-1 a.estimator_doc_link {\n",
       "  float: right;\n",
       "  font-size: 1rem;\n",
       "  line-height: 1em;\n",
       "  font-family: monospace;\n",
       "  background-color: var(--sklearn-color-background);\n",
       "  border-radius: 1rem;\n",
       "  height: 1rem;\n",
       "  width: 1rem;\n",
       "  text-decoration: none;\n",
       "  /* unfitted */\n",
       "  color: var(--sklearn-color-unfitted-level-1);\n",
       "  border: var(--sklearn-color-unfitted-level-1) 1pt solid;\n",
       "}\n",
       "\n",
       "#sk-container-id-1 a.estimator_doc_link.fitted {\n",
       "  /* fitted */\n",
       "  border: var(--sklearn-color-fitted-level-1) 1pt solid;\n",
       "  color: var(--sklearn-color-fitted-level-1);\n",
       "}\n",
       "\n",
       "/* On hover */\n",
       "#sk-container-id-1 a.estimator_doc_link:hover {\n",
       "  /* unfitted */\n",
       "  background-color: var(--sklearn-color-unfitted-level-3);\n",
       "  color: var(--sklearn-color-background);\n",
       "  text-decoration: none;\n",
       "}\n",
       "\n",
       "#sk-container-id-1 a.estimator_doc_link.fitted:hover {\n",
       "  /* fitted */\n",
       "  background-color: var(--sklearn-color-fitted-level-3);\n",
       "}\n",
       "</style><div id=\"sk-container-id-1\" class=\"sk-top-container\"><div class=\"sk-text-repr-fallback\"><pre>LinearRegression()</pre><b>In a Jupyter environment, please rerun this cell to show the HTML representation or trust the notebook. <br />On GitHub, the HTML representation is unable to render, please try loading this page with nbviewer.org.</b></div><div class=\"sk-container\" hidden><div class=\"sk-item\"><div class=\"sk-estimator fitted sk-toggleable\"><input class=\"sk-toggleable__control sk-hidden--visually\" id=\"sk-estimator-id-1\" type=\"checkbox\" checked><label for=\"sk-estimator-id-1\" class=\"sk-toggleable__label fitted sk-toggleable__label-arrow fitted\">&nbsp;&nbsp;LinearRegression<a class=\"sk-estimator-doc-link fitted\" rel=\"noreferrer\" target=\"_blank\" href=\"https://scikit-learn.org/1.5/modules/generated/sklearn.linear_model.LinearRegression.html\">?<span>Documentation for LinearRegression</span></a><span class=\"sk-estimator-doc-link fitted\">i<span>Fitted</span></span></label><div class=\"sk-toggleable__content fitted\"><pre>LinearRegression()</pre></div> </div></div></div></div>"
      ],
      "text/plain": [
       "LinearRegression()"
      ]
     },
     "execution_count": 17,
     "metadata": {},
     "output_type": "execute_result"
    }
   ],
   "source": [
    "LR = LinearRegression().fit(X_train, y_train)\n",
    "LR"
   ]
  },
  {
   "cell_type": "code",
   "execution_count": 18,
   "id": "05f6e651",
   "metadata": {},
   "outputs": [
    {
     "data": {
      "text/plain": [
       "1.4514306666769472"
      ]
     },
     "execution_count": 18,
     "metadata": {},
     "output_type": "execute_result"
    }
   ],
   "source": [
    "y_pred = LR.predict(X_test)\n",
    "mean_squared_error(y_test, y_pred)"
   ]
  },
  {
   "cell_type": "code",
   "execution_count": 20,
   "id": "f22471e3",
   "metadata": {},
   "outputs": [
    {
     "data": {
      "application/vnd.plotly.v1+json": {
       "config": {
        "plotlyServerURL": "https://plot.ly"
       },
       "data": [
        {
         "hovertemplate": "Actual Sales=%{x}<br>Predicted Sales=%{y}<extra></extra>",
         "legendgroup": "",
         "marker": {
          "color": "#636efa",
          "symbol": "circle"
         },
         "mode": "markers",
         "name": "",
         "orientation": "v",
         "showlegend": false,
         "type": "scatter",
         "x": {
          "bdata": "pHA9CtejKkApXI/C9agtQOF6FK5HYSJACtejcD0KGUDD9Shcj4I1QFK4HoXr0SNA9ihcj8L1JUA9CtejcD0RQLgehetRuBlArkfhehTuMUAK16NwPQovQLgehetROC1A9ihcj8I1MEA9CtejcL0tQHE9Ctej8DBAmpmZmZmZFEDD9Shcj0IkQFyPwvUo3C1AKVyPwvUoLEAzMzMzMzMhQGZmZmZm5jFA4XoUrkdhI0CamZmZmRkyQI/C9ShcDzlAuB6F61G4HkAzMzMzM7M0QHE9CtejcCpApHA9CtdjMUAUrkfhepQqQAAAAAAAgCtAw/UoXI9CKkBmZmZmZuYnQAAAAAAAgCpApHA9CtfjNEC4HoXrUTghQGZmZmZm5jFAuB6F61G4HkBcj8L1KNwrQGZmZmZm5iZAAAAAAAAAI0A=",
          "dtype": "f8"
         },
         "xaxis": "x",
         "y": {
          "bdata": "0UZ9uRIZLkDtKRZ4ziEuQALjnCn1GiNAP967wyicGUDMuaLAUGA1QI7YprtOFCZA4Hk/KF39IkActnqjCZEVQPjr3cSRpyJAgcyRHnIUMkBfmoMYyLIvQL2aTdNYDShApKt8ivBpL0AXDH5KTSYrQDkKzRRDuC9AW644MW54HEC7jTfRCVIkQKyYl4TkVi5AigDxnnorLUBYcyAIEooiQMQDZuQvSDRAsotEs1QTJ0BYRmtrM20xQCqIV6OkfjhAtdAGWbJFHUBuyNc+QGkzQPx+IDatDShAXQ50o6QaMkCXbf9GgVMqQGpLxsdObi5As7ZOTLV2KECjk15JcmsnQPOhRqFCdylAKmMrPaPvM0A4YfoNNHEdQNWP6juRyDBA3HuvzJ9AIkDUeykoClItQDxfB/czkidAsHm+ftH1JkA=",
          "dtype": "f8"
         },
         "yaxis": "y"
        },
        {
         "hovertemplate": "<b>OLS trendline</b><br>Predicted = 0.896038 * Actual + 1.53215<br>R<sup>2</sup>=0.937378<br><br>Actual Sales=%{x}<br>Predicted Sales=%{y} <b>(trend)</b><extra></extra>",
         "legendgroup": "",
         "marker": {
          "color": "#636efa",
          "symbol": "circle"
         },
         "mode": "lines",
         "name": "",
         "showlegend": false,
         "type": "scatter",
         "x": {
          "bdata": "PQrXo3A9EUCamZmZmZkUQArXo3A9ChlAuB6F61G4GUC4HoXrUbgeQLgehetRuB5AMzMzMzMzIUC4HoXrUTghQOF6FK5HYSJAAAAAAAAAI0DhehSuR2EjQFK4HoXr0SNAw/UoXI9CJED2KFyPwvUlQGZmZmZm5iZAZmZmZmbmJ0DD9Shcj0IqQHE9CtejcCpAAAAAAACAKkAUrkfhepQqQKRwPQrXoypAAAAAAACAK0Bcj8L1KNwrQClcj8L1KCxAuB6F61E4LUApXI/C9agtQD0K16NwvS1AXI/C9SjcLUAK16NwPQovQPYoXI/CNTBAcT0K16PwMECkcD0K12MxQGZmZmZm5jFAZmZmZmbmMUCuR+F6FO4xQJqZmZmZGTJAMzMzMzOzNECkcD0K1+M0QMP1KFyPgjVAj8L1KFwPOUA=",
          "dtype": "f8"
         },
         "xaxis": "x",
         "y": {
          "bdata": "Tb9RP4eTFUDp/G3EQ5YYQL4pCuK8kBxA7aOAXrgsHUCEbXse09MgQIRtex7T0yBAiiHaBeV5IkAwNHR6e34iQAhuXOWRiCNAQrAEBMoWJECmEnSr9G0kQAKtsbDi0iRAXEfvtdA3JUDQeBdtxb0mQHrlYNVklSdAGIp4m8d6KEAWI31aIZgqQPTK53NrwSpA6gK20S7PKkCETR6kiOEqQHqF7AFM7ypAiKfNl5G0K0BG96LKJQcsQBAPqp/2SyxApOuPwxw/LUD+hc3ICqQtQJrQNZtkti1AhEDSVuvRLUACjVQ2mOAuQATK7dGSDjBA1HLlcQa2MECCFnCxPx0xQCTyyE48kjFAJPLITjySMUAfDrD9HZkxQKuszdwcwDFAeyULE4QUNECu1sJmGUA0QOgYa4VRzjRAtQc/XqP8N0A=",
          "dtype": "f8"
         },
         "yaxis": "y"
        }
       ],
       "layout": {
        "legend": {
         "tracegroupgap": 0
        },
        "showlegend": false,
        "template": {
         "data": {
          "bar": [
           {
            "error_x": {
             "color": "#2a3f5f"
            },
            "error_y": {
             "color": "#2a3f5f"
            },
            "marker": {
             "line": {
              "color": "#E5ECF6",
              "width": 0.5
             },
             "pattern": {
              "fillmode": "overlay",
              "size": 10,
              "solidity": 0.2
             }
            },
            "type": "bar"
           }
          ],
          "barpolar": [
           {
            "marker": {
             "line": {
              "color": "#E5ECF6",
              "width": 0.5
             },
             "pattern": {
              "fillmode": "overlay",
              "size": 10,
              "solidity": 0.2
             }
            },
            "type": "barpolar"
           }
          ],
          "carpet": [
           {
            "aaxis": {
             "endlinecolor": "#2a3f5f",
             "gridcolor": "white",
             "linecolor": "white",
             "minorgridcolor": "white",
             "startlinecolor": "#2a3f5f"
            },
            "baxis": {
             "endlinecolor": "#2a3f5f",
             "gridcolor": "white",
             "linecolor": "white",
             "minorgridcolor": "white",
             "startlinecolor": "#2a3f5f"
            },
            "type": "carpet"
           }
          ],
          "choropleth": [
           {
            "colorbar": {
             "outlinewidth": 0,
             "ticks": ""
            },
            "type": "choropleth"
           }
          ],
          "contour": [
           {
            "colorbar": {
             "outlinewidth": 0,
             "ticks": ""
            },
            "colorscale": [
             [
              0,
              "#0d0887"
             ],
             [
              0.1111111111111111,
              "#46039f"
             ],
             [
              0.2222222222222222,
              "#7201a8"
             ],
             [
              0.3333333333333333,
              "#9c179e"
             ],
             [
              0.4444444444444444,
              "#bd3786"
             ],
             [
              0.5555555555555556,
              "#d8576b"
             ],
             [
              0.6666666666666666,
              "#ed7953"
             ],
             [
              0.7777777777777778,
              "#fb9f3a"
             ],
             [
              0.8888888888888888,
              "#fdca26"
             ],
             [
              1,
              "#f0f921"
             ]
            ],
            "type": "contour"
           }
          ],
          "contourcarpet": [
           {
            "colorbar": {
             "outlinewidth": 0,
             "ticks": ""
            },
            "type": "contourcarpet"
           }
          ],
          "heatmap": [
           {
            "colorbar": {
             "outlinewidth": 0,
             "ticks": ""
            },
            "colorscale": [
             [
              0,
              "#0d0887"
             ],
             [
              0.1111111111111111,
              "#46039f"
             ],
             [
              0.2222222222222222,
              "#7201a8"
             ],
             [
              0.3333333333333333,
              "#9c179e"
             ],
             [
              0.4444444444444444,
              "#bd3786"
             ],
             [
              0.5555555555555556,
              "#d8576b"
             ],
             [
              0.6666666666666666,
              "#ed7953"
             ],
             [
              0.7777777777777778,
              "#fb9f3a"
             ],
             [
              0.8888888888888888,
              "#fdca26"
             ],
             [
              1,
              "#f0f921"
             ]
            ],
            "type": "heatmap"
           }
          ],
          "histogram": [
           {
            "marker": {
             "pattern": {
              "fillmode": "overlay",
              "size": 10,
              "solidity": 0.2
             }
            },
            "type": "histogram"
           }
          ],
          "histogram2d": [
           {
            "colorbar": {
             "outlinewidth": 0,
             "ticks": ""
            },
            "colorscale": [
             [
              0,
              "#0d0887"
             ],
             [
              0.1111111111111111,
              "#46039f"
             ],
             [
              0.2222222222222222,
              "#7201a8"
             ],
             [
              0.3333333333333333,
              "#9c179e"
             ],
             [
              0.4444444444444444,
              "#bd3786"
             ],
             [
              0.5555555555555556,
              "#d8576b"
             ],
             [
              0.6666666666666666,
              "#ed7953"
             ],
             [
              0.7777777777777778,
              "#fb9f3a"
             ],
             [
              0.8888888888888888,
              "#fdca26"
             ],
             [
              1,
              "#f0f921"
             ]
            ],
            "type": "histogram2d"
           }
          ],
          "histogram2dcontour": [
           {
            "colorbar": {
             "outlinewidth": 0,
             "ticks": ""
            },
            "colorscale": [
             [
              0,
              "#0d0887"
             ],
             [
              0.1111111111111111,
              "#46039f"
             ],
             [
              0.2222222222222222,
              "#7201a8"
             ],
             [
              0.3333333333333333,
              "#9c179e"
             ],
             [
              0.4444444444444444,
              "#bd3786"
             ],
             [
              0.5555555555555556,
              "#d8576b"
             ],
             [
              0.6666666666666666,
              "#ed7953"
             ],
             [
              0.7777777777777778,
              "#fb9f3a"
             ],
             [
              0.8888888888888888,
              "#fdca26"
             ],
             [
              1,
              "#f0f921"
             ]
            ],
            "type": "histogram2dcontour"
           }
          ],
          "mesh3d": [
           {
            "colorbar": {
             "outlinewidth": 0,
             "ticks": ""
            },
            "type": "mesh3d"
           }
          ],
          "parcoords": [
           {
            "line": {
             "colorbar": {
              "outlinewidth": 0,
              "ticks": ""
             }
            },
            "type": "parcoords"
           }
          ],
          "pie": [
           {
            "automargin": true,
            "type": "pie"
           }
          ],
          "scatter": [
           {
            "fillpattern": {
             "fillmode": "overlay",
             "size": 10,
             "solidity": 0.2
            },
            "type": "scatter"
           }
          ],
          "scatter3d": [
           {
            "line": {
             "colorbar": {
              "outlinewidth": 0,
              "ticks": ""
             }
            },
            "marker": {
             "colorbar": {
              "outlinewidth": 0,
              "ticks": ""
             }
            },
            "type": "scatter3d"
           }
          ],
          "scattercarpet": [
           {
            "marker": {
             "colorbar": {
              "outlinewidth": 0,
              "ticks": ""
             }
            },
            "type": "scattercarpet"
           }
          ],
          "scattergeo": [
           {
            "marker": {
             "colorbar": {
              "outlinewidth": 0,
              "ticks": ""
             }
            },
            "type": "scattergeo"
           }
          ],
          "scattergl": [
           {
            "marker": {
             "colorbar": {
              "outlinewidth": 0,
              "ticks": ""
             }
            },
            "type": "scattergl"
           }
          ],
          "scattermap": [
           {
            "marker": {
             "colorbar": {
              "outlinewidth": 0,
              "ticks": ""
             }
            },
            "type": "scattermap"
           }
          ],
          "scattermapbox": [
           {
            "marker": {
             "colorbar": {
              "outlinewidth": 0,
              "ticks": ""
             }
            },
            "type": "scattermapbox"
           }
          ],
          "scatterpolar": [
           {
            "marker": {
             "colorbar": {
              "outlinewidth": 0,
              "ticks": ""
             }
            },
            "type": "scatterpolar"
           }
          ],
          "scatterpolargl": [
           {
            "marker": {
             "colorbar": {
              "outlinewidth": 0,
              "ticks": ""
             }
            },
            "type": "scatterpolargl"
           }
          ],
          "scatterternary": [
           {
            "marker": {
             "colorbar": {
              "outlinewidth": 0,
              "ticks": ""
             }
            },
            "type": "scatterternary"
           }
          ],
          "surface": [
           {
            "colorbar": {
             "outlinewidth": 0,
             "ticks": ""
            },
            "colorscale": [
             [
              0,
              "#0d0887"
             ],
             [
              0.1111111111111111,
              "#46039f"
             ],
             [
              0.2222222222222222,
              "#7201a8"
             ],
             [
              0.3333333333333333,
              "#9c179e"
             ],
             [
              0.4444444444444444,
              "#bd3786"
             ],
             [
              0.5555555555555556,
              "#d8576b"
             ],
             [
              0.6666666666666666,
              "#ed7953"
             ],
             [
              0.7777777777777778,
              "#fb9f3a"
             ],
             [
              0.8888888888888888,
              "#fdca26"
             ],
             [
              1,
              "#f0f921"
             ]
            ],
            "type": "surface"
           }
          ],
          "table": [
           {
            "cells": {
             "fill": {
              "color": "#EBF0F8"
             },
             "line": {
              "color": "white"
             }
            },
            "header": {
             "fill": {
              "color": "#C8D4E3"
             },
             "line": {
              "color": "white"
             }
            },
            "type": "table"
           }
          ]
         },
         "layout": {
          "annotationdefaults": {
           "arrowcolor": "#2a3f5f",
           "arrowhead": 0,
           "arrowwidth": 1
          },
          "autotypenumbers": "strict",
          "coloraxis": {
           "colorbar": {
            "outlinewidth": 0,
            "ticks": ""
           }
          },
          "colorscale": {
           "diverging": [
            [
             0,
             "#8e0152"
            ],
            [
             0.1,
             "#c51b7d"
            ],
            [
             0.2,
             "#de77ae"
            ],
            [
             0.3,
             "#f1b6da"
            ],
            [
             0.4,
             "#fde0ef"
            ],
            [
             0.5,
             "#f7f7f7"
            ],
            [
             0.6,
             "#e6f5d0"
            ],
            [
             0.7,
             "#b8e186"
            ],
            [
             0.8,
             "#7fbc41"
            ],
            [
             0.9,
             "#4d9221"
            ],
            [
             1,
             "#276419"
            ]
           ],
           "sequential": [
            [
             0,
             "#0d0887"
            ],
            [
             0.1111111111111111,
             "#46039f"
            ],
            [
             0.2222222222222222,
             "#7201a8"
            ],
            [
             0.3333333333333333,
             "#9c179e"
            ],
            [
             0.4444444444444444,
             "#bd3786"
            ],
            [
             0.5555555555555556,
             "#d8576b"
            ],
            [
             0.6666666666666666,
             "#ed7953"
            ],
            [
             0.7777777777777778,
             "#fb9f3a"
            ],
            [
             0.8888888888888888,
             "#fdca26"
            ],
            [
             1,
             "#f0f921"
            ]
           ],
           "sequentialminus": [
            [
             0,
             "#0d0887"
            ],
            [
             0.1111111111111111,
             "#46039f"
            ],
            [
             0.2222222222222222,
             "#7201a8"
            ],
            [
             0.3333333333333333,
             "#9c179e"
            ],
            [
             0.4444444444444444,
             "#bd3786"
            ],
            [
             0.5555555555555556,
             "#d8576b"
            ],
            [
             0.6666666666666666,
             "#ed7953"
            ],
            [
             0.7777777777777778,
             "#fb9f3a"
            ],
            [
             0.8888888888888888,
             "#fdca26"
            ],
            [
             1,
             "#f0f921"
            ]
           ]
          },
          "colorway": [
           "#636efa",
           "#EF553B",
           "#00cc96",
           "#ab63fa",
           "#FFA15A",
           "#19d3f3",
           "#FF6692",
           "#B6E880",
           "#FF97FF",
           "#FECB52"
          ],
          "font": {
           "color": "#2a3f5f"
          },
          "geo": {
           "bgcolor": "white",
           "lakecolor": "white",
           "landcolor": "#E5ECF6",
           "showlakes": true,
           "showland": true,
           "subunitcolor": "white"
          },
          "hoverlabel": {
           "align": "left"
          },
          "hovermode": "closest",
          "mapbox": {
           "style": "light"
          },
          "paper_bgcolor": "white",
          "plot_bgcolor": "#E5ECF6",
          "polar": {
           "angularaxis": {
            "gridcolor": "white",
            "linecolor": "white",
            "ticks": ""
           },
           "bgcolor": "#E5ECF6",
           "radialaxis": {
            "gridcolor": "white",
            "linecolor": "white",
            "ticks": ""
           }
          },
          "scene": {
           "xaxis": {
            "backgroundcolor": "#E5ECF6",
            "gridcolor": "white",
            "gridwidth": 2,
            "linecolor": "white",
            "showbackground": true,
            "ticks": "",
            "zerolinecolor": "white"
           },
           "yaxis": {
            "backgroundcolor": "#E5ECF6",
            "gridcolor": "white",
            "gridwidth": 2,
            "linecolor": "white",
            "showbackground": true,
            "ticks": "",
            "zerolinecolor": "white"
           },
           "zaxis": {
            "backgroundcolor": "#E5ECF6",
            "gridcolor": "white",
            "gridwidth": 2,
            "linecolor": "white",
            "showbackground": true,
            "ticks": "",
            "zerolinecolor": "white"
           }
          },
          "shapedefaults": {
           "line": {
            "color": "#2a3f5f"
           }
          },
          "ternary": {
           "aaxis": {
            "gridcolor": "white",
            "linecolor": "white",
            "ticks": ""
           },
           "baxis": {
            "gridcolor": "white",
            "linecolor": "white",
            "ticks": ""
           },
           "bgcolor": "#E5ECF6",
           "caxis": {
            "gridcolor": "white",
            "linecolor": "white",
            "ticks": ""
           }
          },
          "title": {
           "x": 0.05
          },
          "xaxis": {
           "automargin": true,
           "gridcolor": "white",
           "linecolor": "white",
           "ticks": "",
           "title": {
            "standoff": 15
           },
           "zerolinecolor": "white",
           "zerolinewidth": 2
          },
          "yaxis": {
           "automargin": true,
           "gridcolor": "white",
           "linecolor": "white",
           "ticks": "",
           "title": {
            "standoff": 15
           },
           "zerolinecolor": "white",
           "zerolinewidth": 2
          }
         }
        },
        "title": {
         "text": "Actual vs Predicted Sales"
        },
        "xaxis": {
         "anchor": "y",
         "domain": [
          0,
          1
         ],
         "title": {
          "text": "Actual Sales"
         }
        },
        "yaxis": {
         "anchor": "x",
         "domain": [
          0,
          1
         ],
         "title": {
          "text": "Predicted Sales"
         }
        }
       }
      }
     },
     "metadata": {},
     "output_type": "display_data"
    }
   ],
   "source": [
    "import plotly.express as px\n",
    "import plotly.graph_objects as go\n",
    "\n",
    "df_plot = pd.DataFrame({\n",
    "    \"Actual\": y_test,\n",
    "    \"Predicted\": y_pred\n",
    "})\n",
    "\n",
    "fig1 = px.scatter(df_plot, x=\"Actual\", y=\"Predicted\",\n",
    "                  title=\"Actual vs Predicted Sales\",\n",
    "                  labels={\"Actual\": \"Actual Sales\", \"Predicted\": \"Predicted Sales\"},\n",
    "                  trendline=\"ols\")\n",
    "fig1.update_layout(showlegend=False)\n",
    "fig1.show()\n"
   ]
  },
  {
   "cell_type": "code",
   "execution_count": null,
   "id": "3ffae94b",
   "metadata": {},
   "outputs": [],
   "source": []
  },
  {
   "cell_type": "markdown",
   "id": "0fea533a",
   "metadata": {},
   "source": [
    "Mean Squared Error was 1.45143"
   ]
  }
 ],
 "metadata": {
  "kernelspec": {
   "display_name": "Python 3",
   "language": "python",
   "name": "python3"
  },
  "language_info": {
   "codemirror_mode": {
    "name": "ipython",
    "version": 3
   },
   "file_extension": ".py",
   "mimetype": "text/x-python",
   "name": "python",
   "nbconvert_exporter": "python",
   "pygments_lexer": "ipython3",
   "version": "3.12.3"
  }
 },
 "nbformat": 4,
 "nbformat_minor": 5
}

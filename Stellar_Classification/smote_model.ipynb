{
 "cells": [
  {
   "cell_type": "markdown",
   "id": "e57e680a",
   "metadata": {},
   "source": [
    "This is everything from model.ipynb but with SMOTE applied. Refer to model.ipynb for explanations."
   ]
  },
  {
   "cell_type": "code",
   "execution_count": 1,
   "id": "517e82ad",
   "metadata": {},
   "outputs": [
    {
     "name": "stdout",
     "output_type": "stream",
     "text": [
      "X_train shape: (142612, 30)\n",
      "X_test shape: (35654, 30)\n",
      "y_train shape: (142612,)\n",
      "y_test shape: (35654,)\n"
     ]
    }
   ],
   "source": [
    "import pandas as pd\n",
    "import numpy as np\n",
    "from sklearn.model_selection import train_test_split\n",
    "from sklearn.pipeline import make_pipeline\n",
    "from sklearn.preprocessing import StandardScaler\n",
    "from sklearn.model_selection import cross_val_score\n",
    "from sklearn.metrics import accuracy_score\n",
    "from sklearn.metrics import confusion_matrix\n",
    "import plotly.express as px\n",
    "import plotly.figure_factory as ff\n",
    "import plotly.graph_objects as go\n",
    "from IPython.display import Image\n",
    "from xgboost import XGBClassifier\n",
    "from lightgbm import LGBMClassifier\n",
    "from catboost import CatBoostClassifier\n",
    "import optuna\n",
    "from scipy.stats import kurtosis\n",
    "from scipy.stats import entropy\n",
    "from imblearn.over_sampling import SMOTE\n",
    "\n",
    "df = pd.read_csv('star_classification.csv')\n",
    "df = df.drop(['obj_ID','alpha','delta','run_ID','rerun_ID','cam_col','field_ID','fiber_ID','spec_obj_ID', 'plate', 'MJD'], axis=1)\n",
    "df['class'] = df['class'].map({'GALAXY':0, 'STAR':1, 'QSO': 2})\n",
    "df = df[df['u'] > -4000]\n",
    "df = df[df['r'] < 26]\n",
    "df = df[df['i'] < 26]\n",
    "df = df[df['g'] < 27.5]\n",
    "df = df[df['z'] < 24.5]\n",
    "df = df[df['u'] > 13]\n",
    "df = df[df['g'] > 12]\n",
    "df = df[df['z'] > 11]\n",
    "\n",
    "# Color indices — common in astronomy, indicate object temperature/type\n",
    "df['u_g'] = df['u'] - df['g']  # Ultraviolet to green difference\n",
    "df['g_r'] = df['g'] - df['r']  # Green to red difference\n",
    "df['r_i'] = df['r'] - df['i']  # Red to near-infrared difference\n",
    "df['i_z'] = df['i'] - df['z']  # Near-IR to IR difference\n",
    "\n",
    "# Composite color indices — capture broader color range\n",
    "df['u_r'] = df['u'] - df['r']  # UV to red\n",
    "df['g_z'] = df['g'] - df['z']  # Green to IR\n",
    "\n",
    "# Mean flux — average brightness across all bands, can reflect luminosity\n",
    "df['mean_flux'] = df[['u', 'g', 'r', 'i', 'z']].mean(axis=1)\n",
    "\n",
    "# Brightest and faintest filter — useful for contrast information\n",
    "df['max_flux'] = df[['u', 'g', 'r', 'i', 'z']].max(axis=1)  # Brightest band\n",
    "df['min_flux'] = df[['u', 'g', 'r', 'i', 'z']].min(axis=1)  # Faintest band\n",
    "\n",
    "# Flux range — dynamic range of object's brightness\n",
    "df['flux_range'] = df['max_flux'] - df['min_flux']\n",
    "\n",
    "# Slope from UV to IR — indicates how brightness changes across spectrum\n",
    "df['slope_u_z'] = (df['u'] - df['z']) / (df['u'] + df['z'] + 1e-5)\n",
    "\n",
    "# Photometric curvature — measure of color curvature (nonlinearity)\n",
    "df['photometric_curvature'] = df['g'] - 2 * df['r'] + df['i']\n",
    "\n",
    "# Red/blue light ratio — can distinguish redder (older) vs bluer (younger) objects\n",
    "df['red_blue_ratio'] = (df['i'] + df['z']) / (df['u'] + df['g'] + 1e-5)\n",
    "\n",
    "# Standard deviation of magnitudes — measures variability across bands\n",
    "df['color_std'] = df[['u', 'g', 'r', 'i', 'z']].std(axis=1)\n",
    "\n",
    "# r-band centered — how r differs from average of g and i\n",
    "df['r_band_centered'] = df['r'] - (df['g'] + df['i']) / 2\n",
    "\n",
    "# Fractional fluxes — percent contribution of each band to total flux\n",
    "total_flux = df[['u', 'g', 'r', 'i', 'z']].sum(axis=1) + 1e-5\n",
    "df['u_frac'] = df['u'] / total_flux  # UV percent\n",
    "df['g_frac'] = df['g'] / total_flux  # Green percent\n",
    "df['r_frac'] = df['r'] / total_flux  # Red percent\n",
    "df['i_frac'] = df['i'] / total_flux  # Near-IR percent\n",
    "df['z_frac'] = df['z'] / total_flux  # IR percent\n",
    "\n",
    "# Kurtosis of flux — measures 'peakedness' of flux distribution across bands\n",
    "df['flux_kurtosis'] = df[['u', 'g', 'r', 'i', 'z']].kurtosis(axis=1)\n",
    "\n",
    "# Color curvature — cumulative second derivative of color gradients\n",
    "df['color_curvature'] = (df['u'] - 2 * df['g'] + df['r']) + \\\n",
    "                        (df['g'] - 2 * df['r'] + df['i']) + \\\n",
    "                        (df['r'] - 2 * df['i'] + df['z'])\n",
    "\n",
    "#Tilt — overall shift from blue (u, g) to red (i, z) side\n",
    "df['tilt'] = (df['i'] + df['z']) - (df['u'] + df['g'])\n",
    "\n",
    "# Entropy of flux distribution — how evenly light is spread across bands\n",
    "fluxes = df[['u', 'g', 'r', 'i', 'z']].values\n",
    "fluxes = fluxes / (fluxes.sum(axis=1, keepdims=True) + 1e-8)\n",
    "df['flux_entropy'] = entropy(fluxes.T)\n",
    "\n",
    "y = df['class']\n",
    "X = df.drop('class', axis=1)\n",
    "\n",
    "sm = SMOTE(random_state=62)\n",
    "X_res, y_res = sm.fit_resample(X, y)\n",
    "\n",
    "X_train, X_test, y_train, y_test = train_test_split(X_res, y_res, test_size=0.2, random_state=62)\n",
    "print(f\"X_train shape: {X_train.shape}\")\n",
    "print(f\"X_test shape: {X_test.shape}\")\n",
    "print(f\"y_train shape: {y_train.shape}\")\n",
    "print(f\"y_test shape: {y_test.shape}\")"
   ]
  },
  {
   "cell_type": "markdown",
   "id": "2f9d33c9",
   "metadata": {},
   "source": [
    "LGBM Classifier with SMOTE. Parameters found in model.ipynb using optuna."
   ]
  },
  {
   "cell_type": "code",
   "execution_count": 2,
   "id": "bd8f9a95",
   "metadata": {},
   "outputs": [
    {
     "name": "stdout",
     "output_type": "stream",
     "text": [
      "Train Accuracy: [0.9819444  0.98208463 0.9817334  0.98124255 0.98166328]\n",
      "Test Accuracy: 0.983732540528412\n"
     ]
    }
   ],
   "source": [
    "lg = LGBMClassifier(n_estimators= 506,\n",
    "                    max_depth= 10,\n",
    "                    learning_rate= 0.10775347157171246,\n",
    "                    subsample= 0.9999465294210166,\n",
    "                    colsample_bytree= 0.5960237817125218,\n",
    "                    reg_alpha= 4.831241641356589,\n",
    "                    reg_lambda= 2.6641968551150597,\n",
    "                    min_child_samples= 13, \n",
    "                    random_state=62,\n",
    "                    verbose=-1,\n",
    "                    boosting_type='gbdt',\n",
    "                    num_threads=-1,\n",
    "                    device_type='cpu').fit(X_train, y_train)\n",
    "y_pred = lg.predict(X_test)\n",
    "print(f\"Train Accuracy: {cross_val_score(lg, X_train, y_train)}\")\n",
    "print(f\"Test Accuracy: {accuracy_score(y_test, y_pred)}\")"
   ]
  },
  {
   "cell_type": "markdown",
   "id": "43dd87bf",
   "metadata": {},
   "source": [
    "Train accuracy: 0.9817"
   ]
  },
  {
   "cell_type": "markdown",
   "id": "7aeed621",
   "metadata": {},
   "source": [
    "XGB Classifier with SMOTE. Parameters found in model.ipynb using optuna."
   ]
  },
  {
   "cell_type": "code",
   "execution_count": 3,
   "id": "283f4810",
   "metadata": {},
   "outputs": [
    {
     "name": "stdout",
     "output_type": "stream",
     "text": [
      "Train Accuracy: [0.97942012 0.97920976 0.97850782 0.97773648 0.97815721]\n",
      "Test Accuracy: 0.9802266225388456\n"
     ]
    }
   ],
   "source": [
    "xgb = XGBClassifier(n_estimators= 608,\n",
    "                    max_depth= 12, \n",
    "                    learning_rate= 0.16907078997907377, \n",
    "                    subsample= 0.7064213244955417, \n",
    "                    colsample_bytree= 0.5513661838203805, \n",
    "                    reg_alpha= 3.4094709113646964, \n",
    "                    reg_lambda= 4.010194573368155, \n",
    "                    gamma= 1.2626609855347377, \n",
    "                    min_child_weight= 14,\n",
    "                    random_state=62,\n",
    "                    tree_method='hist',\n",
    "                    n_jobs=-1).fit(X_train, y_train)\n",
    "y_pred = xgb.predict(X_test)\n",
    "print(f\"Train Accuracy: {cross_val_score(xgb, X_train, y_train)}\")\n",
    "print(f\"Test Accuracy: {accuracy_score(y_test, y_pred)}\")"
   ]
  },
  {
   "cell_type": "markdown",
   "id": "78963e16",
   "metadata": {},
   "source": [
    "Train accuracy: 0.9786"
   ]
  },
  {
   "cell_type": "code",
   "execution_count": null,
   "id": "ffc5842f",
   "metadata": {},
   "outputs": [],
   "source": [
    "import optuna\n",
    "from catboost import CatBoostClassifier, Pool\n",
    "from sklearn.metrics import accuracy_score\n",
    "from sklearn.model_selection import StratifiedKFold\n",
    "import numpy as np\n",
    "\n",
    "train_pool = Pool(X_train, y_train)\n",
    "test_pool = Pool(X_test, y_test)\n",
    "\n",
    "def objective(trial):\n",
    "    params = {\n",
    "        \"iterations\": trial.suggest_int(\"iterations\", 200, 1000),\n",
    "        \"learning_rate\": trial.suggest_float(\"learning_rate\", 0.01, 0.3, log=True),\n",
    "        \"depth\": trial.suggest_int(\"depth\", 4, 10),\n",
    "        \"l2_leaf_reg\": trial.suggest_float(\"l2_leaf_reg\", 1, 10),\n",
    "        \"border_count\": trial.suggest_int(\"border_count\", 32, 255),\n",
    "        \"random_strength\": trial.suggest_float(\"random_strength\", 1e-3, 10, log=True),\n",
    "        \"bagging_temperature\": trial.suggest_float(\"bagging_temperature\", 0, 1),\n",
    "        \"od_type\": \"Iter\",\n",
    "        \"od_wait\": 50,\n",
    "        \"task_type\": \"CPU\",\n",
    "        \"verbose\": 0,\n",
    "        \"random_state\": 62,\n",
    "    }\n",
    "\n",
    "    cv = StratifiedKFold(n_splits=3, shuffle=True, random_state=42)\n",
    "    accuracies = []\n",
    "\n",
    "    for train_idx, val_idx in cv.split(X_train, y_train):\n",
    "        X_tr, X_val = X_train.iloc[train_idx], X_train.iloc[val_idx]\n",
    "        y_tr, y_val = y_train.iloc[train_idx], y_train.iloc[val_idx]\n",
    "\n",
    "        model = CatBoostClassifier(**params)\n",
    "        model.fit(X_tr, y_tr)\n",
    "        preds = model.predict(X_val)\n",
    "        accuracies.append(accuracy_score(y_val, preds))\n",
    "\n",
    "    return np.mean(accuracies)\n",
    "\n",
    "study = optuna.create_study(direction=\"maximize\")\n",
    "study.optimize(objective, n_trials=50, show_progress_bar=True)\n",
    "\n",
    "print(\"Best parameters:\", study.best_params)\n",
    "\n",
    "best_model = CatBoostClassifier(**study.best_params, random_state=62, verbose=0)\n",
    "best_model.fit(X_train, y_train)\n",
    "\n",
    "y_pred = best_model.predict(X_test)\n",
    "print(\"Test Accuracy:\", accuracy_score(y_test, y_pred))\n"
   ]
  },
  {
   "cell_type": "markdown",
   "id": "4f5d3f81",
   "metadata": {},
   "source": [
    "Best Score: 0.9827433791945758 and parameters: {'iterations': 996, 'learning_rate': 0.29936701106349517, 'depth': 10, 'l2_leaf_reg': 1.1585276709003958, 'border_count': 205, 'random_strength': 9.845839240524949, 'bagging_temperature': 0.44028243154808044}"
   ]
  },
  {
   "cell_type": "code",
   "execution_count": 7,
   "id": "307bd139",
   "metadata": {},
   "outputs": [
    {
     "name": "stdout",
     "output_type": "stream",
     "text": [
      "Test Accuracy: 0.9856117125708196\n"
     ]
    }
   ],
   "source": [
    "cb = CatBoostClassifier(iterations= 996,\n",
    "                        learning_rate= 0.29936701106349517, \n",
    "                        depth= 10, \n",
    "                        l2_leaf_reg= 1.1585276709003958, \n",
    "                        border_count= 205, \n",
    "                        random_strength= 9.845839240524949, \n",
    "                        bagging_temperature= 0.44028243154808044,\n",
    "                        random_state=62,\n",
    "                        verbose=0).fit(X_train, y_train)\n",
    "y_pred = cb.predict(X_test)\n",
    "print(f\"Test Accuracy: {accuracy_score(y_test, y_pred)}\")"
   ]
  }
 ],
 "metadata": {
  "kernelspec": {
   "display_name": "Python 3",
   "language": "python",
   "name": "python3"
  },
  "language_info": {
   "codemirror_mode": {
    "name": "ipython",
    "version": 3
   },
   "file_extension": ".py",
   "mimetype": "text/x-python",
   "name": "python",
   "nbconvert_exporter": "python",
   "pygments_lexer": "ipython3",
   "version": "3.12.3"
  }
 },
 "nbformat": 4,
 "nbformat_minor": 5
}

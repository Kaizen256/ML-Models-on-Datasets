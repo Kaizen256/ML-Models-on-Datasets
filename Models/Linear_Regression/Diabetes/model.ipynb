{
 "cells": [
  {
   "cell_type": "markdown",
   "id": "4e32dca1",
   "metadata": {},
   "source": [
    "Linear Regression on Sklearn's diabetes dataset"
   ]
  },
  {
   "cell_type": "code",
   "execution_count": 25,
   "id": "fd1a0457",
   "metadata": {},
   "outputs": [],
   "source": [
    "import pandas as pd\n",
    "from sklearn.model_selection import train_test_split\n",
    "from sklearn.datasets import load_diabetes\n",
    "from sklearn.linear_model import LinearRegression\n",
    "from sklearn.metrics import mean_squared_error"
   ]
  },
  {
   "cell_type": "code",
   "execution_count": 26,
   "id": "ffcfa4ad",
   "metadata": {},
   "outputs": [],
   "source": [
    "X, y = load_diabetes(return_X_y=True)\n",
    "X_train, X_test, y_train, y_test = train_test_split(X, y, test_size=0.2, random_state=62)"
   ]
  },
  {
   "cell_type": "code",
   "execution_count": 27,
   "id": "ef424533",
   "metadata": {},
   "outputs": [],
   "source": [
    "LR = LinearRegression().fit(X_train, y_train)"
   ]
  },
  {
   "cell_type": "code",
   "execution_count": 28,
   "id": "b9924314",
   "metadata": {},
   "outputs": [
    {
     "data": {
      "text/plain": [
       "3058.0895073711563"
      ]
     },
     "execution_count": 28,
     "metadata": {},
     "output_type": "execute_result"
    }
   ],
   "source": [
    "y_pred = LR.predict(X_test)\n",
    "mean_squared_error(y_test, y_pred)"
   ]
  },
  {
   "cell_type": "markdown",
   "id": "2420472a",
   "metadata": {},
   "source": [
    "Mean Squared Error Score: 3058.0895"
   ]
  }
 ],
 "metadata": {
  "kernelspec": {
   "display_name": "Python 3",
   "language": "python",
   "name": "python3"
  },
  "language_info": {
   "codemirror_mode": {
    "name": "ipython",
    "version": 3
   },
   "file_extension": ".py",
   "mimetype": "text/x-python",
   "name": "python",
   "nbconvert_exporter": "python",
   "pygments_lexer": "ipython3",
   "version": "3.12.3"
  }
 },
 "nbformat": 4,
 "nbformat_minor": 5
}

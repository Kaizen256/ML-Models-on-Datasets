{
 "cells": [
  {
   "cell_type": "code",
   "execution_count": 2,
   "id": "afd5be30",
   "metadata": {},
   "outputs": [
    {
     "data": {
      "text/plain": [
       "Run\n",
       "146511    27.416247\n",
       "146644    26.905214\n",
       "146944    26.854100\n",
       "147114    27.603997\n",
       "147115    27.342520\n",
       "147754    27.489736\n",
       "147926    28.818305\n",
       "147929    28.384235\n",
       "148029    28.388067\n",
       "148031    27.800508\n",
       "149011    35.054882\n",
       "149181    35.681925\n",
       "149182    34.739547\n",
       "Name: M, dtype: float64"
      ]
     },
     "execution_count": 2,
     "metadata": {},
     "output_type": "execute_result"
    }
   ],
   "source": [
    "import pandas as pd\n",
    "\n",
    "df = pd.read_csv('dielectron.csv')\n",
    "df.groupby('Run')['M'].mean()"
   ]
  }
 ],
 "metadata": {
  "kernelspec": {
   "display_name": "Python 3",
   "language": "python",
   "name": "python3"
  },
  "language_info": {
   "codemirror_mode": {
    "name": "ipython",
    "version": 3
   },
   "file_extension": ".py",
   "mimetype": "text/x-python",
   "name": "python",
   "nbconvert_exporter": "python",
   "pygments_lexer": "ipython3",
   "version": "3.12.3"
  }
 },
 "nbformat": 4,
 "nbformat_minor": 5
}

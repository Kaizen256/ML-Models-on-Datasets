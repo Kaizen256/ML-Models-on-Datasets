{
 "cells": [
  {
   "cell_type": "markdown",
   "id": "7e53ad2c",
   "metadata": {},
   "source": [
    "This is just practice for building a Network in Network (NiN). I am using the FashionMNIST dataset. The point of this project is not to create a strong model, it is to get experience with building a NiN."
   ]
  },
  {
   "cell_type": "code",
   "execution_count": null,
   "id": "13321c58",
   "metadata": {},
   "outputs": [],
   "source": [
    "import torch\n",
    "from torchvision import datasets, transforms\n",
    "from torch.utils.data import DataLoader, TensorDataset\n",
    "\n",
    "batch_size = 128\n",
    "\n",
    "transform = transforms.Compose([\n",
    "    transforms.ToTensor(),\n",
    "    transforms.Normalize(mean=[0.2860], std=[0.3530])\n",
    "])\n",
    "\n",
    "\n",
    "train_dataset = datasets.FashionMNIST(\n",
    "    root='./data',\n",
    "    train=True,\n",
    "    download=True,\n",
    "    transform=transform\n",
    ")\n",
    "\n",
    "test_dataset = datasets.FashionMNIST(\n",
    "    root='./data',\n",
    "    train=False,\n",
    "    download=True,\n",
    "    transform=transform\n",
    ")\n",
    "train_loader = DataLoader(train_dataset, batch_size=batch_size, shuffle=True, num_workers=4, pin_memory=True)\n",
    "test_loader = DataLoader(test_dataset, batch_size=batch_size, shuffle=False, num_workers=4, pin_memory=True)\n",
    "\n",
    "for X, y in train_loader:\n",
    "    print(\"Batch X shape:\", X.shape)\n",
    "    print(\"Batch y shape:\", y.shape)\n",
    "    break\n"
   ]
  },
  {
   "cell_type": "code",
   "execution_count": null,
   "id": "6e30b4b5",
   "metadata": {},
   "outputs": [],
   "source": [
    "from torch import nn, optim\n",
    "\n",
    "def NiN_block(out_channels, kernel_size, stride, padding):\n",
    "    return nn.Sequential(\n",
    "        nn.LazyConv2d(out_channels, kernel_size, stride=stride, padding=padding),\n",
    "        nn.ReLU(),\n",
    "        nn.LazyConv2d(out_channels, kernel_size=1),\n",
    "        nn.ReLU(),\n",
    "        nn.LazyConv2d(out_channels, kernel_size=1),\n",
    "        nn.ReLU()\n",
    "    )\n",
    "\n",
    "class NiN(nn.Module):\n",
    "    def __init__(self):\n",
    "        super().__init__()\n",
    "        self.net = nn.Sequential(\n",
    "            NiN_block(32, kernel_size=5, stride=1, padding=2),\n",
    "            nn.MaxPool2d(2, 2),\n",
    "            NiN_block(64, kernel_size=3, stride=1, padding=1),\n",
    "            nn.MaxPool2d(2, 2),\n",
    "            NiN_block(128, kernel_size=3, stride=1, padding=1),\n",
    "            nn.MaxPool2d(2, 2),\n",
    "            NiN_block(10, kernel_size=3, stride=1, padding=1),\n",
    "            nn.AdaptiveAvgPool2d((1, 1)),\n",
    "            nn.Flatten()\n",
    "        )\n",
    "        \n",
    "    def forward(self, x):\n",
    "        return self.net(x)\n"
   ]
  },
  {
   "cell_type": "markdown",
   "id": "bef27d9a",
   "metadata": {},
   "source": [
    "Running through this would take a long time on my laptop. Instead I am going to train it on Kaggles GPU T4 x2."
   ]
  },
  {
   "cell_type": "code",
   "execution_count": null,
   "id": "5fabfb96",
   "metadata": {},
   "outputs": [],
   "source": [
    "device = torch.device(\"cuda\" if torch.cuda.is_available() else \"cpu\")\n",
    "\n",
    "model = NiN()\n",
    "\n",
    "# Pass a dummy input through to initialize Lazy layers\n",
    "dummy_input = torch.randn(1, 1, 28, 28).to(device)\n",
    "model.to(device)\n",
    "model(dummy_input)\n",
    "\n",
    "model = nn.DataParallel(model)\n",
    "\n",
    "loss_fn = nn.CrossEntropyLoss()\n",
    "optimizer = optim.Adam(model.parameters(), lr=0.003)\n",
    "\n",
    "epochs = 40\n",
    "\n",
    "for epoch in range(epochs):\n",
    "    model.train()\n",
    "    total_loss = 0.0\n",
    "    correct = 0\n",
    "    total = 0\n",
    "    \n",
    "    for xb, yb in train_loader:\n",
    "        xb, yb = xb.to(device), yb.to(device)\n",
    "        \n",
    "        optimizer.zero_grad()\n",
    "        yhat = model(xb)\n",
    "        loss = loss_fn(yhat, yb)\n",
    "        loss.backward()\n",
    "        optimizer.step()\n",
    "\n",
    "        total_loss += loss.item() * xb.size(0)\n",
    "        preds = torch.argmax(yhat, dim=1)\n",
    "        correct += (preds == yb).sum().item()\n",
    "        total += xb.size(0)\n",
    "\n",
    "    avg_loss = total_loss / total\n",
    "    accuracy = correct / total\n",
    "\n",
    "    model.eval()\n",
    "    val_loss = 0.0\n",
    "    val_correct = 0\n",
    "    val_total = 0\n",
    "    with torch.no_grad():\n",
    "        for xb, yb in test_loader:\n",
    "            xb, yb = xb.to(device), yb.to(device)\n",
    "            yhat = model(xb)\n",
    "            loss = loss_fn(yhat, yb)\n",
    "            val_loss += loss.item() * xb.size(0)\n",
    "            preds = torch.argmax(yhat, dim=1)\n",
    "            val_correct += (preds == yb).sum().item()\n",
    "            val_total += xb.size(0)\n",
    "    \n",
    "    avg_val_loss = val_loss / val_total\n",
    "    val_accuracy = val_correct / val_total\n",
    "\n",
    "    print(f\"Epoch {epoch+1}: \"\n",
    "          f\"Train Loss: {avg_loss:.4f}, Train Acc: {accuracy:.4f}, \"\n",
    "          f\"Val Loss: {avg_val_loss:.4f}, Val Acc: {val_accuracy:.4f}\")"
   ]
  },
  {
   "cell_type": "markdown",
   "id": "66b80095",
   "metadata": {},
   "source": [
    "![Results](results.png)"
   ]
  },
  {
   "cell_type": "markdown",
   "id": "0b9489f9",
   "metadata": {},
   "source": [
    "A NiN is definitely overkill for Fashion MNIST. Originally I had upscaled the images to 224x224, which is what MNIST architecture expects, but I did not get great results. So I just adjusted the hyperparameters in each layer so it wouldn't downscale the 28x28 image so fast."
   ]
  }
 ],
 "metadata": {
  "kernelspec": {
   "display_name": "Python 3",
   "language": "python",
   "name": "python3"
  },
  "language_info": {
   "codemirror_mode": {
    "name": "ipython",
    "version": 3
   },
   "file_extension": ".py",
   "mimetype": "text/x-python",
   "name": "python",
   "nbconvert_exporter": "python",
   "pygments_lexer": "ipython3",
   "version": "3.12.3"
  }
 },
 "nbformat": 4,
 "nbformat_minor": 5
}

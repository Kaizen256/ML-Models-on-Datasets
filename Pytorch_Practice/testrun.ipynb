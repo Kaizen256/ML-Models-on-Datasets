{
 "cells": [
  {
   "cell_type": "code",
   "execution_count": 1,
   "id": "f648f54c",
   "metadata": {
    "_cell_guid": "b1076dfc-b9ad-4769-8c92-a6c4dae69d19",
    "_uuid": "8f2839f25d086af736a60e9eeb907d3b93b6e0e5",
    "execution": {
     "iopub.execute_input": "2025-07-08T22:53:28.808162Z",
     "iopub.status.busy": "2025-07-08T22:53:28.807784Z",
     "iopub.status.idle": "2025-07-08T22:54:01.929758Z",
     "shell.execute_reply": "2025-07-08T22:54:01.928586Z"
    },
    "papermill": {
     "duration": 33.127987,
     "end_time": "2025-07-08T22:54:01.932794",
     "exception": false,
     "start_time": "2025-07-08T22:53:28.804807",
     "status": "completed"
    },
    "tags": []
   },
   "outputs": [
    {
     "name": "stdout",
     "output_type": "stream",
     "text": [
      "Using device: cpu\n"
     ]
    },
    {
     "name": "stderr",
     "output_type": "stream",
     "text": [
      "100%|██████████| 9.91M/9.91M [00:00<00:00, 59.8MB/s]\n",
      "100%|██████████| 28.9k/28.9k [00:00<00:00, 1.75MB/s]\n",
      "100%|██████████| 1.65M/1.65M [00:00<00:00, 13.9MB/s]\n",
      "100%|██████████| 4.54k/4.54k [00:00<00:00, 4.91MB/s]\n"
     ]
    },
    {
     "name": "stdout",
     "output_type": "stream",
     "text": [
      "Epoch 1: Loss=0.3443, Accuracy=0.9064\n",
      "Epoch 2: Loss=0.1589, Accuracy=0.9543\n"
     ]
    }
   ],
   "source": [
    "import torch\n",
    "from torch import nn, optim\n",
    "from torchvision import datasets, transforms\n",
    "from torch.utils.data import DataLoader\n",
    "import pandas as pd\n",
    "\n",
    "# Device\n",
    "device = torch.device(\"cuda\" if torch.cuda.is_available() else \"cpu\")\n",
    "print(\"Using device:\", device)\n",
    "\n",
    "# Dummy dataset: MNIST for simplicity\n",
    "transform = transforms.ToTensor()\n",
    "train_data = datasets.MNIST(root='./data', train=True, download=True, transform=transform)\n",
    "train_loader = DataLoader(train_data, batch_size=64, shuffle=True)\n",
    "\n",
    "# Simple model\n",
    "model = nn.Sequential(\n",
    "    nn.Flatten(),\n",
    "    nn.Linear(28*28, 128),\n",
    "    nn.ReLU(),\n",
    "    nn.Linear(128, 10)\n",
    ").to(device)\n",
    "\n",
    "loss_fn = nn.CrossEntropyLoss()\n",
    "optimizer = optim.Adam(model.parameters(), lr=1e-3)\n",
    "\n",
    "# Tiny training loop\n",
    "for epoch in range(2):  # small number of epochs just to test\n",
    "    total_loss, total_correct = 0, 0\n",
    "    for xb, yb in train_loader:\n",
    "        xb, yb = xb.to(device), yb.to(device)\n",
    "        pred = model(xb)\n",
    "        loss = loss_fn(pred, yb)\n",
    "        optimizer.zero_grad()\n",
    "        loss.backward()\n",
    "        optimizer.step()\n",
    "        total_loss += loss.item() * xb.size(0)\n",
    "        total_correct += (pred.argmax(1) == yb).sum().item()\n",
    "    avg_loss = total_loss / len(train_loader.dataset)\n",
    "    acc = total_correct / len(train_loader.dataset)\n",
    "    print(f\"Epoch {epoch+1}: Loss={avg_loss:.4f}, Accuracy={acc:.4f}\")\n",
    "\n",
    "# Save a model checkpoint\n",
    "torch.save(model.state_dict(), \"/kaggle/working/test_model.pth\")\n",
    "\n",
    "# Also save a small CSV file as an example output\n",
    "df = pd.DataFrame({\"Epoch\": [1,2], \"Loss\": [avg_loss, avg_loss], \"Accuracy\": [acc, acc]})\n",
    "df.to_csv(\"/kaggle/working/results.csv\", index=False)\n"
   ]
  },
  {
   "cell_type": "code",
   "execution_count": 2,
   "id": "ae4566d7",
   "metadata": {},
   "outputs": [
    {
     "data": {
      "text/plain": [
       "({'a': 0,\n",
       "  'b': 1,\n",
       "  'c': 2,\n",
       "  'd': 3,\n",
       "  'e': 4,\n",
       "  'f': 5,\n",
       "  'g': 6,\n",
       "  'h': 7,\n",
       "  'i': 8,\n",
       "  'j': 9,\n",
       "  'k': 10,\n",
       "  'l': 11,\n",
       "  'm': 12,\n",
       "  'n': 13,\n",
       "  'o': 14,\n",
       "  'p': 15,\n",
       "  'q': 16,\n",
       "  'r': 17,\n",
       "  's': 18,\n",
       "  't': 19,\n",
       "  'u': 20,\n",
       "  'v': 21,\n",
       "  'w': 22,\n",
       "  'x': 23,\n",
       "  'y': 24,\n",
       "  'z': 25,\n",
       "  ' ': 26},\n",
       " {0: 'a',\n",
       "  1: 'b',\n",
       "  2: 'c',\n",
       "  3: 'd',\n",
       "  4: 'e',\n",
       "  5: 'f',\n",
       "  6: 'g',\n",
       "  7: 'h',\n",
       "  8: 'i',\n",
       "  9: 'j',\n",
       "  10: 'k',\n",
       "  11: 'l',\n",
       "  12: 'm',\n",
       "  13: 'n',\n",
       "  14: 'o',\n",
       "  15: 'p',\n",
       "  16: 'q',\n",
       "  17: 'r',\n",
       "  18: 's',\n",
       "  19: 't',\n",
       "  20: 'u',\n",
       "  21: 'v',\n",
       "  22: 'w',\n",
       "  23: 'x',\n",
       "  24: 'y',\n",
       "  25: 'z',\n",
       "  26: ' '})"
      ]
     },
     "execution_count": 2,
     "metadata": {},
     "output_type": "execute_result"
    }
   ],
   "source": [
    "chars = list(\"abcdefghijklmnopqrstuvwxyz \")\n",
    "char2idx = {ch:i for i,ch in enumerate(chars)}\n",
    "idx2char = {i:ch for ch,i in char2idx.items()}\n",
    "char2idx, idx2char"
   ]
  }
 ],
 "metadata": {
  "kaggle": {
   "accelerator": "none",
   "dataSources": [],
   "isGpuEnabled": false,
   "isInternetEnabled": true,
   "language": "python",
   "sourceType": "notebook"
  },
  "kernelspec": {
   "display_name": "Python 3",
   "language": "python",
   "name": "python3"
  },
  "language_info": {
   "codemirror_mode": {
    "name": "ipython",
    "version": 3
   },
   "file_extension": ".py",
   "mimetype": "text/x-python",
   "name": "python",
   "nbconvert_exporter": "python",
   "pygments_lexer": "ipython3",
   "version": "3.12.3"
  },
  "papermill": {
   "default_parameters": {},
   "duration": 39.989356,
   "end_time": "2025-07-08T22:54:03.858859",
   "environment_variables": {},
   "exception": null,
   "input_path": "__notebook__.ipynb",
   "output_path": "__notebook__.ipynb",
   "parameters": {},
   "start_time": "2025-07-08T22:53:23.869503",
   "version": "2.6.0"
  }
 },
 "nbformat": 4,
 "nbformat_minor": 5
}

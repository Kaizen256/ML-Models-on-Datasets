{
 "cells": [
  {
   "cell_type": "code",
   "execution_count": 82,
   "id": "6d6ab897",
   "metadata": {},
   "outputs": [
    {
     "data": {
      "application/vnd.plotly.v1+json": {
       "config": {
        "plotlyServerURL": "https://plot.ly"
       },
       "data": [
        {
         "hovertemplate": "time=%{x}<br>x=%{y}<extra></extra>",
         "legendgroup": "",
         "marker": {
          "color": "#636efa",
          "symbol": "circle"
         },
         "mode": "markers",
         "name": "",
         "orientation": "v",
         "showlegend": false,
         "type": "scatter",
         "x": {
          "bdata": "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",
          "dtype": "f4"
         },
         "xaxis": "x",
         "y": {
          "bdata": "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",
          "dtype": "f4"
         },
         "yaxis": "y"
        }
       ],
       "layout": {
        "legend": {
         "tracegroupgap": 0
        },
        "template": {
         "data": {
          "bar": [
           {
            "error_x": {
             "color": "#2a3f5f"
            },
            "error_y": {
             "color": "#2a3f5f"
            },
            "marker": {
             "line": {
              "color": "#E5ECF6",
              "width": 0.5
             },
             "pattern": {
              "fillmode": "overlay",
              "size": 10,
              "solidity": 0.2
             }
            },
            "type": "bar"
           }
          ],
          "barpolar": [
           {
            "marker": {
             "line": {
              "color": "#E5ECF6",
              "width": 0.5
             },
             "pattern": {
              "fillmode": "overlay",
              "size": 10,
              "solidity": 0.2
             }
            },
            "type": "barpolar"
           }
          ],
          "carpet": [
           {
            "aaxis": {
             "endlinecolor": "#2a3f5f",
             "gridcolor": "white",
             "linecolor": "white",
             "minorgridcolor": "white",
             "startlinecolor": "#2a3f5f"
            },
            "baxis": {
             "endlinecolor": "#2a3f5f",
             "gridcolor": "white",
             "linecolor": "white",
             "minorgridcolor": "white",
             "startlinecolor": "#2a3f5f"
            },
            "type": "carpet"
           }
          ],
          "choropleth": [
           {
            "colorbar": {
             "outlinewidth": 0,
             "ticks": ""
            },
            "type": "choropleth"
           }
          ],
          "contour": [
           {
            "colorbar": {
             "outlinewidth": 0,
             "ticks": ""
            },
            "colorscale": [
             [
              0,
              "#0d0887"
             ],
             [
              0.1111111111111111,
              "#46039f"
             ],
             [
              0.2222222222222222,
              "#7201a8"
             ],
             [
              0.3333333333333333,
              "#9c179e"
             ],
             [
              0.4444444444444444,
              "#bd3786"
             ],
             [
              0.5555555555555556,
              "#d8576b"
             ],
             [
              0.6666666666666666,
              "#ed7953"
             ],
             [
              0.7777777777777778,
              "#fb9f3a"
             ],
             [
              0.8888888888888888,
              "#fdca26"
             ],
             [
              1,
              "#f0f921"
             ]
            ],
            "type": "contour"
           }
          ],
          "contourcarpet": [
           {
            "colorbar": {
             "outlinewidth": 0,
             "ticks": ""
            },
            "type": "contourcarpet"
           }
          ],
          "heatmap": [
           {
            "colorbar": {
             "outlinewidth": 0,
             "ticks": ""
            },
            "colorscale": [
             [
              0,
              "#0d0887"
             ],
             [
              0.1111111111111111,
              "#46039f"
             ],
             [
              0.2222222222222222,
              "#7201a8"
             ],
             [
              0.3333333333333333,
              "#9c179e"
             ],
             [
              0.4444444444444444,
              "#bd3786"
             ],
             [
              0.5555555555555556,
              "#d8576b"
             ],
             [
              0.6666666666666666,
              "#ed7953"
             ],
             [
              0.7777777777777778,
              "#fb9f3a"
             ],
             [
              0.8888888888888888,
              "#fdca26"
             ],
             [
              1,
              "#f0f921"
             ]
            ],
            "type": "heatmap"
           }
          ],
          "histogram": [
           {
            "marker": {
             "pattern": {
              "fillmode": "overlay",
              "size": 10,
              "solidity": 0.2
             }
            },
            "type": "histogram"
           }
          ],
          "histogram2d": [
           {
            "colorbar": {
             "outlinewidth": 0,
             "ticks": ""
            },
            "colorscale": [
             [
              0,
              "#0d0887"
             ],
             [
              0.1111111111111111,
              "#46039f"
             ],
             [
              0.2222222222222222,
              "#7201a8"
             ],
             [
              0.3333333333333333,
              "#9c179e"
             ],
             [
              0.4444444444444444,
              "#bd3786"
             ],
             [
              0.5555555555555556,
              "#d8576b"
             ],
             [
              0.6666666666666666,
              "#ed7953"
             ],
             [
              0.7777777777777778,
              "#fb9f3a"
             ],
             [
              0.8888888888888888,
              "#fdca26"
             ],
             [
              1,
              "#f0f921"
             ]
            ],
            "type": "histogram2d"
           }
          ],
          "histogram2dcontour": [
           {
            "colorbar": {
             "outlinewidth": 0,
             "ticks": ""
            },
            "colorscale": [
             [
              0,
              "#0d0887"
             ],
             [
              0.1111111111111111,
              "#46039f"
             ],
             [
              0.2222222222222222,
              "#7201a8"
             ],
             [
              0.3333333333333333,
              "#9c179e"
             ],
             [
              0.4444444444444444,
              "#bd3786"
             ],
             [
              0.5555555555555556,
              "#d8576b"
             ],
             [
              0.6666666666666666,
              "#ed7953"
             ],
             [
              0.7777777777777778,
              "#fb9f3a"
             ],
             [
              0.8888888888888888,
              "#fdca26"
             ],
             [
              1,
              "#f0f921"
             ]
            ],
            "type": "histogram2dcontour"
           }
          ],
          "mesh3d": [
           {
            "colorbar": {
             "outlinewidth": 0,
             "ticks": ""
            },
            "type": "mesh3d"
           }
          ],
          "parcoords": [
           {
            "line": {
             "colorbar": {
              "outlinewidth": 0,
              "ticks": ""
             }
            },
            "type": "parcoords"
           }
          ],
          "pie": [
           {
            "automargin": true,
            "type": "pie"
           }
          ],
          "scatter": [
           {
            "fillpattern": {
             "fillmode": "overlay",
             "size": 10,
             "solidity": 0.2
            },
            "type": "scatter"
           }
          ],
          "scatter3d": [
           {
            "line": {
             "colorbar": {
              "outlinewidth": 0,
              "ticks": ""
             }
            },
            "marker": {
             "colorbar": {
              "outlinewidth": 0,
              "ticks": ""
             }
            },
            "type": "scatter3d"
           }
          ],
          "scattercarpet": [
           {
            "marker": {
             "colorbar": {
              "outlinewidth": 0,
              "ticks": ""
             }
            },
            "type": "scattercarpet"
           }
          ],
          "scattergeo": [
           {
            "marker": {
             "colorbar": {
              "outlinewidth": 0,
              "ticks": ""
             }
            },
            "type": "scattergeo"
           }
          ],
          "scattergl": [
           {
            "marker": {
             "colorbar": {
              "outlinewidth": 0,
              "ticks": ""
             }
            },
            "type": "scattergl"
           }
          ],
          "scattermap": [
           {
            "marker": {
             "colorbar": {
              "outlinewidth": 0,
              "ticks": ""
             }
            },
            "type": "scattermap"
           }
          ],
          "scattermapbox": [
           {
            "marker": {
             "colorbar": {
              "outlinewidth": 0,
              "ticks": ""
             }
            },
            "type": "scattermapbox"
           }
          ],
          "scatterpolar": [
           {
            "marker": {
             "colorbar": {
              "outlinewidth": 0,
              "ticks": ""
             }
            },
            "type": "scatterpolar"
           }
          ],
          "scatterpolargl": [
           {
            "marker": {
             "colorbar": {
              "outlinewidth": 0,
              "ticks": ""
             }
            },
            "type": "scatterpolargl"
           }
          ],
          "scatterternary": [
           {
            "marker": {
             "colorbar": {
              "outlinewidth": 0,
              "ticks": ""
             }
            },
            "type": "scatterternary"
           }
          ],
          "surface": [
           {
            "colorbar": {
             "outlinewidth": 0,
             "ticks": ""
            },
            "colorscale": [
             [
              0,
              "#0d0887"
             ],
             [
              0.1111111111111111,
              "#46039f"
             ],
             [
              0.2222222222222222,
              "#7201a8"
             ],
             [
              0.3333333333333333,
              "#9c179e"
             ],
             [
              0.4444444444444444,
              "#bd3786"
             ],
             [
              0.5555555555555556,
              "#d8576b"
             ],
             [
              0.6666666666666666,
              "#ed7953"
             ],
             [
              0.7777777777777778,
              "#fb9f3a"
             ],
             [
              0.8888888888888888,
              "#fdca26"
             ],
             [
              1,
              "#f0f921"
             ]
            ],
            "type": "surface"
           }
          ],
          "table": [
           {
            "cells": {
             "fill": {
              "color": "#EBF0F8"
             },
             "line": {
              "color": "white"
             }
            },
            "header": {
             "fill": {
              "color": "#C8D4E3"
             },
             "line": {
              "color": "white"
             }
            },
            "type": "table"
           }
          ]
         },
         "layout": {
          "annotationdefaults": {
           "arrowcolor": "#2a3f5f",
           "arrowhead": 0,
           "arrowwidth": 1
          },
          "autotypenumbers": "strict",
          "coloraxis": {
           "colorbar": {
            "outlinewidth": 0,
            "ticks": ""
           }
          },
          "colorscale": {
           "diverging": [
            [
             0,
             "#8e0152"
            ],
            [
             0.1,
             "#c51b7d"
            ],
            [
             0.2,
             "#de77ae"
            ],
            [
             0.3,
             "#f1b6da"
            ],
            [
             0.4,
             "#fde0ef"
            ],
            [
             0.5,
             "#f7f7f7"
            ],
            [
             0.6,
             "#e6f5d0"
            ],
            [
             0.7,
             "#b8e186"
            ],
            [
             0.8,
             "#7fbc41"
            ],
            [
             0.9,
             "#4d9221"
            ],
            [
             1,
             "#276419"
            ]
           ],
           "sequential": [
            [
             0,
             "#0d0887"
            ],
            [
             0.1111111111111111,
             "#46039f"
            ],
            [
             0.2222222222222222,
             "#7201a8"
            ],
            [
             0.3333333333333333,
             "#9c179e"
            ],
            [
             0.4444444444444444,
             "#bd3786"
            ],
            [
             0.5555555555555556,
             "#d8576b"
            ],
            [
             0.6666666666666666,
             "#ed7953"
            ],
            [
             0.7777777777777778,
             "#fb9f3a"
            ],
            [
             0.8888888888888888,
             "#fdca26"
            ],
            [
             1,
             "#f0f921"
            ]
           ],
           "sequentialminus": [
            [
             0,
             "#0d0887"
            ],
            [
             0.1111111111111111,
             "#46039f"
            ],
            [
             0.2222222222222222,
             "#7201a8"
            ],
            [
             0.3333333333333333,
             "#9c179e"
            ],
            [
             0.4444444444444444,
             "#bd3786"
            ],
            [
             0.5555555555555556,
             "#d8576b"
            ],
            [
             0.6666666666666666,
             "#ed7953"
            ],
            [
             0.7777777777777778,
             "#fb9f3a"
            ],
            [
             0.8888888888888888,
             "#fdca26"
            ],
            [
             1,
             "#f0f921"
            ]
           ]
          },
          "colorway": [
           "#636efa",
           "#EF553B",
           "#00cc96",
           "#ab63fa",
           "#FFA15A",
           "#19d3f3",
           "#FF6692",
           "#B6E880",
           "#FF97FF",
           "#FECB52"
          ],
          "font": {
           "color": "#2a3f5f"
          },
          "geo": {
           "bgcolor": "white",
           "lakecolor": "white",
           "landcolor": "#E5ECF6",
           "showlakes": true,
           "showland": true,
           "subunitcolor": "white"
          },
          "hoverlabel": {
           "align": "left"
          },
          "hovermode": "closest",
          "mapbox": {
           "style": "light"
          },
          "paper_bgcolor": "white",
          "plot_bgcolor": "#E5ECF6",
          "polar": {
           "angularaxis": {
            "gridcolor": "white",
            "linecolor": "white",
            "ticks": ""
           },
           "bgcolor": "#E5ECF6",
           "radialaxis": {
            "gridcolor": "white",
            "linecolor": "white",
            "ticks": ""
           }
          },
          "scene": {
           "xaxis": {
            "backgroundcolor": "#E5ECF6",
            "gridcolor": "white",
            "gridwidth": 2,
            "linecolor": "white",
            "showbackground": true,
            "ticks": "",
            "zerolinecolor": "white"
           },
           "yaxis": {
            "backgroundcolor": "#E5ECF6",
            "gridcolor": "white",
            "gridwidth": 2,
            "linecolor": "white",
            "showbackground": true,
            "ticks": "",
            "zerolinecolor": "white"
           },
           "zaxis": {
            "backgroundcolor": "#E5ECF6",
            "gridcolor": "white",
            "gridwidth": 2,
            "linecolor": "white",
            "showbackground": true,
            "ticks": "",
            "zerolinecolor": "white"
           }
          },
          "shapedefaults": {
           "line": {
            "color": "#2a3f5f"
           }
          },
          "ternary": {
           "aaxis": {
            "gridcolor": "white",
            "linecolor": "white",
            "ticks": ""
           },
           "baxis": {
            "gridcolor": "white",
            "linecolor": "white",
            "ticks": ""
           },
           "bgcolor": "#E5ECF6",
           "caxis": {
            "gridcolor": "white",
            "linecolor": "white",
            "ticks": ""
           }
          },
          "title": {
           "x": 0.05
          },
          "xaxis": {
           "automargin": true,
           "gridcolor": "white",
           "linecolor": "white",
           "ticks": "",
           "title": {
            "standoff": 15
           },
           "zerolinecolor": "white",
           "zerolinewidth": 2
          },
          "yaxis": {
           "automargin": true,
           "gridcolor": "white",
           "linecolor": "white",
           "ticks": "",
           "title": {
            "standoff": 15
           },
           "zerolinecolor": "white",
           "zerolinewidth": 2
          }
         }
        },
        "title": {
         "text": "Time Series Data"
        },
        "xaxis": {
         "anchor": "y",
         "domain": [
          0,
          1
         ],
         "title": {
          "text": "time"
         }
        },
        "yaxis": {
         "anchor": "x",
         "domain": [
          0,
          1
         ],
         "title": {
          "text": "x"
         }
        }
       }
      }
     },
     "metadata": {},
     "output_type": "display_data"
    }
   ],
   "source": [
    "import torch\n",
    "from torch import nn\n",
    "import numpy as np\n",
    "import pandas as pd\n",
    "import plotly.express as px\n",
    "import plotly.figure_factory as ff\n",
    "import plotly.graph_objects as go\n",
    "\n",
    "class Data():\n",
    "    def __init__(self, batch_size=16, T=1000, num_train=600, tau=4):\n",
    "        self.time = torch.arange(1, T + 1, dtype=torch.float32)\n",
    "        self.x = torch.sin(0.01 * self.time) + torch.randn(T) * 0.2\n",
    "\n",
    "data = Data()\n",
    "\n",
    "df = pd.DataFrame({\n",
    "    'time': data.time.numpy(),\n",
    "    'x': data.x.numpy()\n",
    "})\n",
    "\n",
    "fig = px.scatter(df, x='time', y='x', title='Time Series Data')\n",
    "fig.show()\n"
   ]
  },
  {
   "cell_type": "code",
   "execution_count": 93,
   "id": "280bcba6",
   "metadata": {},
   "outputs": [
    {
     "name": "stdout",
     "output_type": "stream",
     "text": [
      "      lag_4     lag_3     lag_2     lag_1    target\n",
      "4  0.092001 -0.395937  0.116697 -0.005946  0.044240\n",
      "5 -0.395937  0.116697 -0.005946  0.044240  0.190818\n",
      "6  0.116697 -0.005946  0.044240  0.190818  0.305289\n",
      "7 -0.005946  0.044240  0.190818  0.305289  0.082765\n",
      "8  0.044240  0.190818  0.305289  0.082765  0.076811\n"
     ]
    },
    {
     "data": {
      "text/html": [
       "<div>\n",
       "<style scoped>\n",
       "    .dataframe tbody tr th:only-of-type {\n",
       "        vertical-align: middle;\n",
       "    }\n",
       "\n",
       "    .dataframe tbody tr th {\n",
       "        vertical-align: top;\n",
       "    }\n",
       "\n",
       "    .dataframe thead th {\n",
       "        text-align: right;\n",
       "    }\n",
       "</style>\n",
       "<table border=\"1\" class=\"dataframe\">\n",
       "  <thead>\n",
       "    <tr style=\"text-align: right;\">\n",
       "      <th></th>\n",
       "      <th>lag_4</th>\n",
       "      <th>lag_3</th>\n",
       "      <th>lag_2</th>\n",
       "      <th>lag_1</th>\n",
       "      <th>target</th>\n",
       "    </tr>\n",
       "  </thead>\n",
       "  <tbody>\n",
       "    <tr>\n",
       "      <th>4</th>\n",
       "      <td>0.092001</td>\n",
       "      <td>-0.395937</td>\n",
       "      <td>0.116697</td>\n",
       "      <td>-0.005946</td>\n",
       "      <td>0.044240</td>\n",
       "    </tr>\n",
       "    <tr>\n",
       "      <th>5</th>\n",
       "      <td>-0.395937</td>\n",
       "      <td>0.116697</td>\n",
       "      <td>-0.005946</td>\n",
       "      <td>0.044240</td>\n",
       "      <td>0.190818</td>\n",
       "    </tr>\n",
       "    <tr>\n",
       "      <th>6</th>\n",
       "      <td>0.116697</td>\n",
       "      <td>-0.005946</td>\n",
       "      <td>0.044240</td>\n",
       "      <td>0.190818</td>\n",
       "      <td>0.305289</td>\n",
       "    </tr>\n",
       "    <tr>\n",
       "      <th>7</th>\n",
       "      <td>-0.005946</td>\n",
       "      <td>0.044240</td>\n",
       "      <td>0.190818</td>\n",
       "      <td>0.305289</td>\n",
       "      <td>0.082765</td>\n",
       "    </tr>\n",
       "    <tr>\n",
       "      <th>8</th>\n",
       "      <td>0.044240</td>\n",
       "      <td>0.190818</td>\n",
       "      <td>0.305289</td>\n",
       "      <td>0.082765</td>\n",
       "      <td>0.076811</td>\n",
       "    </tr>\n",
       "    <tr>\n",
       "      <th>...</th>\n",
       "      <td>...</td>\n",
       "      <td>...</td>\n",
       "      <td>...</td>\n",
       "      <td>...</td>\n",
       "      <td>...</td>\n",
       "    </tr>\n",
       "    <tr>\n",
       "      <th>995</th>\n",
       "      <td>-0.689619</td>\n",
       "      <td>-0.425821</td>\n",
       "      <td>-0.885960</td>\n",
       "      <td>-0.565409</td>\n",
       "      <td>-0.550056</td>\n",
       "    </tr>\n",
       "    <tr>\n",
       "      <th>996</th>\n",
       "      <td>-0.425821</td>\n",
       "      <td>-0.885960</td>\n",
       "      <td>-0.565409</td>\n",
       "      <td>-0.550056</td>\n",
       "      <td>-0.609467</td>\n",
       "    </tr>\n",
       "    <tr>\n",
       "      <th>997</th>\n",
       "      <td>-0.885960</td>\n",
       "      <td>-0.565409</td>\n",
       "      <td>-0.550056</td>\n",
       "      <td>-0.609467</td>\n",
       "      <td>-0.425373</td>\n",
       "    </tr>\n",
       "    <tr>\n",
       "      <th>998</th>\n",
       "      <td>-0.565409</td>\n",
       "      <td>-0.550056</td>\n",
       "      <td>-0.609467</td>\n",
       "      <td>-0.425373</td>\n",
       "      <td>-0.369112</td>\n",
       "    </tr>\n",
       "    <tr>\n",
       "      <th>999</th>\n",
       "      <td>-0.550056</td>\n",
       "      <td>-0.609467</td>\n",
       "      <td>-0.425373</td>\n",
       "      <td>-0.369112</td>\n",
       "      <td>-0.441305</td>\n",
       "    </tr>\n",
       "  </tbody>\n",
       "</table>\n",
       "<p>996 rows × 5 columns</p>\n",
       "</div>"
      ],
      "text/plain": [
       "        lag_4     lag_3     lag_2     lag_1    target\n",
       "4    0.092001 -0.395937  0.116697 -0.005946  0.044240\n",
       "5   -0.395937  0.116697 -0.005946  0.044240  0.190818\n",
       "6    0.116697 -0.005946  0.044240  0.190818  0.305289\n",
       "7   -0.005946  0.044240  0.190818  0.305289  0.082765\n",
       "8    0.044240  0.190818  0.305289  0.082765  0.076811\n",
       "..        ...       ...       ...       ...       ...\n",
       "995 -0.689619 -0.425821 -0.885960 -0.565409 -0.550056\n",
       "996 -0.425821 -0.885960 -0.565409 -0.550056 -0.609467\n",
       "997 -0.885960 -0.565409 -0.550056 -0.609467 -0.425373\n",
       "998 -0.565409 -0.550056 -0.609467 -0.425373 -0.369112\n",
       "999 -0.550056 -0.609467 -0.425373 -0.369112 -0.441305\n",
       "\n",
       "[996 rows x 5 columns]"
      ]
     },
     "execution_count": 93,
     "metadata": {},
     "output_type": "execute_result"
    }
   ],
   "source": [
    "tau = 4\n",
    "num_samples = 1000\n",
    "\n",
    "# Create lagged dataframe\n",
    "lagged_data = {\n",
    "    f'lag_{i}': df['x'].shift(i) for i in range(tau, 0, -1)\n",
    "}\n",
    "lagged_data['target'] = df['x']\n",
    "\n",
    "lagged_df = pd.DataFrame(lagged_data)\n",
    "\n",
    "# Drop rows with NaN (the first `tau` rows)\n",
    "lagged_df = lagged_df.iloc[tau:num_samples]\n",
    "\n",
    "print(lagged_df.head())\n",
    "lagged_df\n"
   ]
  },
  {
   "cell_type": "code",
   "execution_count": 95,
   "id": "fb1f3094",
   "metadata": {},
   "outputs": [
    {
     "data": {
      "text/plain": [
       "(        lag_4     lag_3     lag_2     lag_1    target\n",
       " 4    0.092001 -0.395937  0.116697 -0.005946  0.044240\n",
       " 5   -0.395937  0.116697 -0.005946  0.044240  0.190818\n",
       " 6    0.116697 -0.005946  0.044240  0.190818  0.305289\n",
       " 7   -0.005946  0.044240  0.190818  0.305289  0.082765\n",
       " 8    0.044240  0.190818  0.305289  0.082765  0.076811\n",
       " ..        ...       ...       ...       ...       ...\n",
       " 599 -0.030949  0.051371 -0.671007 -0.102631 -0.469045\n",
       " 600  0.051371 -0.671007 -0.102631 -0.469045 -0.308310\n",
       " 601 -0.671007 -0.102631 -0.469045 -0.308310 -0.333806\n",
       " 602 -0.102631 -0.469045 -0.308310 -0.333806 -0.410774\n",
       " 603 -0.469045 -0.308310 -0.333806 -0.410774 -0.069495\n",
       " \n",
       " [600 rows x 5 columns],\n",
       "         lag_4     lag_3     lag_2     lag_1    target\n",
       " 604 -0.308310 -0.333806 -0.410774 -0.069495 -0.493646\n",
       " 605 -0.333806 -0.410774 -0.069495 -0.493646 -0.269365\n",
       " 606 -0.410774 -0.069495 -0.493646 -0.269365 -0.250098\n",
       " 607 -0.069495 -0.493646 -0.269365 -0.250098 -0.089664\n",
       " 608 -0.493646 -0.269365 -0.250098 -0.089664 -0.221824\n",
       " ..        ...       ...       ...       ...       ...\n",
       " 995 -0.689619 -0.425821 -0.885960 -0.565409 -0.550056\n",
       " 996 -0.425821 -0.885960 -0.565409 -0.550056 -0.609467\n",
       " 997 -0.885960 -0.565409 -0.550056 -0.609467 -0.425373\n",
       " 998 -0.565409 -0.550056 -0.609467 -0.425373 -0.369112\n",
       " 999 -0.550056 -0.609467 -0.425373 -0.369112 -0.441305\n",
       " \n",
       " [396 rows x 5 columns])"
      ]
     },
     "execution_count": 95,
     "metadata": {},
     "output_type": "execute_result"
    }
   ],
   "source": [
    "df_train = lagged_df[:600]\n",
    "df_test = lagged_df[600:]\n",
    "df_train, df_test"
   ]
  },
  {
   "cell_type": "code",
   "execution_count": null,
   "id": "21b0d3a4",
   "metadata": {},
   "outputs": [],
   "source": [
    "from sklearn.linear_model import LinearRegression\n",
    "from sklearn.model_selection import cross_val_score\n",
    "from sklearn.metrics import mean_squared_error\n",
    "\n",
    "y = df_train['target']\n",
    "X = df_train.drop('target', axis=1)\n",
    "\n",
    "model = LinearRegression().fit(X, y)"
   ]
  },
  {
   "cell_type": "code",
   "execution_count": 96,
   "id": "d51cf8ef",
   "metadata": {},
   "outputs": [],
   "source": [
    "X_test = df_test.drop('target', axis=1)\n",
    "y_test = df_test['target']"
   ]
  },
  {
   "cell_type": "code",
   "execution_count": 97,
   "id": "2ab093f2",
   "metadata": {},
   "outputs": [
    {
     "data": {
      "text/plain": [
       "0.05377797"
      ]
     },
     "execution_count": 97,
     "metadata": {},
     "output_type": "execute_result"
    }
   ],
   "source": [
    "y_hat = model.predict(X_test)\n",
    "mean_squared_error(y_hat, y_test)"
   ]
  },
  {
   "cell_type": "code",
   "execution_count": 104,
   "id": "6efdb9ff",
   "metadata": {},
   "outputs": [
    {
     "data": {
      "application/vnd.plotly.v1+json": {
       "config": {
        "plotlyServerURL": "https://plot.ly"
       },
       "data": [
        {
         "mode": "lines",
         "name": "Original Series",
         "type": "scatter",
         "x": {
          "bdata": "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",
          "dtype": "f4"
         },
         "y": {
          "bdata": "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",
          "dtype": "f4"
         }
        },
        {
         "mode": "lines",
         "name": "Actual Test",
         "type": "scatter",
         "x": {
          "bdata": "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",
          "dtype": "f4"
         },
         "y": {
          "bdata": "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",
          "dtype": "f4"
         }
        },
        {
         "mode": "lines",
         "name": "Predictions",
         "type": "scatter",
         "x": {
          "bdata": "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",
          "dtype": "f4"
         },
         "y": {
          "bdata": "A5iNvjYjqL7LC5W+QlmQvgQJiL5nhFO+rpV1vuoOYL7Qoo2+gd1evpAFZb4wsS2+WC/avSrVDb3XTS8+PXEUPkSNCj4RH6W7eCjJvUe0Tj2kbpc9OYYAPmAlsjzBSyO+0CEmvh7GDr4Hv9K9V6eTvYe897ycrQI9rkhCPq3HOD6kLQQ+4J55PXH5J7u3QeI9hBTyPe2hYz5vihg+aPokPiH7MD7kigE+KVEUPmJ+nz1+gGY+gfYkPv0FVz4lmHc+FGNDPoU+iz60EDg+7sg2PnQXZz493Z4+Pzj+PiuB7T5ZRvk+dSflPh6q4j4eHfQ++JXGPt03sD5mkr8+dQzZPtIr5z6ahPg+YojkPnUBrD6H3rM+z/SRPvy9gz5UC9A+H2PSPuWB5T4p+/U+AwzrPjDS6j7GEvc+h08FPyT9Fz91fyE/T245P//2PD/gGiA/4BwiP7neFj9CXOs+3ecHP6uBDT8/syA/K5sYP3prJj9BxRY/XGEYP0DEJT8NBxE/GrQNP9LKDT8W2Ro/h4YeP25gFT95WAU/bK0EP4RLHT8v8zk/Rn0+P6b/Mj/iYTI/3NQyP1HYXT8PJmY/aFNRP4ahQD9DJSs/gaksPzJLID9RTys/H8EfP3/MRT/ObWA/K6JlP9oYYT93UF8/ggRwP0nwXD+LA3w/yNljP61gQT+wk1U/ZvY2P+eSPz+D8TY/Y+UqP634GT9uMxk/JHAmP0fJJj+2FEc/r/M7P0SOPD+JbFU/Zs5GPy9VYj+fQ3A/t1BnP4Cgaj+YTk8/9ONVP6EWbj+WsHQ/Ip+HP3EMcT8EflE/RkBGP59LTT+GvUg/YT9dP+7aVD8YbkI/ZXtaP6tuTz+k9nA/A3yBPxo7fD+Lc4M/Pip9P0gffD9YEIM/UvB6P99hhj+KCoA/WHZzP9mGeT8JJGQ//SODP4DZgz/RWII/gpWMP43ugz9m7I0/0EqLP9a8cD+eAGU/uf5XP57FVj98Jms/G+p7P6MuiT/LVZQ/aQiTP9AEiz/TxXI//wJaP0PyVz8yS1o/yCxtPwMtdD+daoU/IOWJP3/OiD9S+YI/Pad8P9coaT/rzoA/1QF9P+m6fD/mRmw/uTZYP6yWVT/tFW8/PZ6JP5W7iT9MIIE/m1BeP02ERD/CN1E/8x1dP6Dtdz9XvHk/u+NQP4BeNT8kKTE/hMIjPwINPT+GyjQ/6dMoP+8TOT+Gc14/pq1qP0Aagz8ZTHM/NNhdPxC9Xj9pNVs/EKB8P2cihD8HW4U/LKeAPzrMYD+Hf1Q/Qts5P3O6Nj875iw/gCM7P6nTPT9asj8/qndRP9QdVD9OnlM/sHJpPzZ3aT+Z0GE/SV5eP04WOz+zWTk/EtZFP34iQj9qf1Y/ZC9FP1s6Ij8xQzU/S4QcP14SMj+LRE0/QUhEPwzFZj+K1kU/KYM0P3YcIj8qNxI/g6AgP5guFD/GnyU/hjgXP9o6GT+IHSQ/NBkMPz1ECj9mGBU/fF8VP3KTFj+YZSE/FWAWP6wkCT87JQE/tjD/PvCrAT+xvQs/H3wUPz+CHj/C7R8/OjMVP0ah+T5cMLU+d8KBPkOamj6ufJQ+NHhlPmOLgz76P5o+DkelPml++D6urt0+36vHPq3ioj6vj5I+MAWWPqIGrz79aNQ+n0efPgUosT7eOmQ+xr0lPl8lGT44r2M929YbPkOjkT7YvG8+6vjCPiygsT56VFM+aWhwPr5dlz2rkh+9DAQ3PjmJMD4Jbz4+YxI8PhzNmj0VWWi95h7AO9msNz3hPyA8vXjOPYS6SD1amRy9ay5DvRNns7ybwVM8h88GPXcW7D0dmey8NZJgvTdGB724aYS9GFLFvEtueL0ovsW9qpAlvt4Mwr2cYE++e7P0vSx1Cr7CpJy90E0KveJMqr1/zbS9F5covvOANb6sFF2+IQxbvhrEFb4z+ou9ZGLQvK3GBD3ejSe9L+tbvgV7Xb4AJaa+DDW8vpeoj760bZu+R6Szvp4o2r4LJNm+Xp7hvlHVo77v9nm+kFGovoo2xr7Ra8a+z6a1vqAIsb4816a+hUvevkQ8D7+oLwm/mNQAv+uwAr+Dg+i+bvgXv6IUHr9MLB2/zPAhv8sPB7/mJPi+",
          "dtype": "f4"
         }
        }
       ],
       "layout": {
        "template": {
         "data": {
          "bar": [
           {
            "error_x": {
             "color": "#2a3f5f"
            },
            "error_y": {
             "color": "#2a3f5f"
            },
            "marker": {
             "line": {
              "color": "#E5ECF6",
              "width": 0.5
             },
             "pattern": {
              "fillmode": "overlay",
              "size": 10,
              "solidity": 0.2
             }
            },
            "type": "bar"
           }
          ],
          "barpolar": [
           {
            "marker": {
             "line": {
              "color": "#E5ECF6",
              "width": 0.5
             },
             "pattern": {
              "fillmode": "overlay",
              "size": 10,
              "solidity": 0.2
             }
            },
            "type": "barpolar"
           }
          ],
          "carpet": [
           {
            "aaxis": {
             "endlinecolor": "#2a3f5f",
             "gridcolor": "white",
             "linecolor": "white",
             "minorgridcolor": "white",
             "startlinecolor": "#2a3f5f"
            },
            "baxis": {
             "endlinecolor": "#2a3f5f",
             "gridcolor": "white",
             "linecolor": "white",
             "minorgridcolor": "white",
             "startlinecolor": "#2a3f5f"
            },
            "type": "carpet"
           }
          ],
          "choropleth": [
           {
            "colorbar": {
             "outlinewidth": 0,
             "ticks": ""
            },
            "type": "choropleth"
           }
          ],
          "contour": [
           {
            "colorbar": {
             "outlinewidth": 0,
             "ticks": ""
            },
            "colorscale": [
             [
              0,
              "#0d0887"
             ],
             [
              0.1111111111111111,
              "#46039f"
             ],
             [
              0.2222222222222222,
              "#7201a8"
             ],
             [
              0.3333333333333333,
              "#9c179e"
             ],
             [
              0.4444444444444444,
              "#bd3786"
             ],
             [
              0.5555555555555556,
              "#d8576b"
             ],
             [
              0.6666666666666666,
              "#ed7953"
             ],
             [
              0.7777777777777778,
              "#fb9f3a"
             ],
             [
              0.8888888888888888,
              "#fdca26"
             ],
             [
              1,
              "#f0f921"
             ]
            ],
            "type": "contour"
           }
          ],
          "contourcarpet": [
           {
            "colorbar": {
             "outlinewidth": 0,
             "ticks": ""
            },
            "type": "contourcarpet"
           }
          ],
          "heatmap": [
           {
            "colorbar": {
             "outlinewidth": 0,
             "ticks": ""
            },
            "colorscale": [
             [
              0,
              "#0d0887"
             ],
             [
              0.1111111111111111,
              "#46039f"
             ],
             [
              0.2222222222222222,
              "#7201a8"
             ],
             [
              0.3333333333333333,
              "#9c179e"
             ],
             [
              0.4444444444444444,
              "#bd3786"
             ],
             [
              0.5555555555555556,
              "#d8576b"
             ],
             [
              0.6666666666666666,
              "#ed7953"
             ],
             [
              0.7777777777777778,
              "#fb9f3a"
             ],
             [
              0.8888888888888888,
              "#fdca26"
             ],
             [
              1,
              "#f0f921"
             ]
            ],
            "type": "heatmap"
           }
          ],
          "histogram": [
           {
            "marker": {
             "pattern": {
              "fillmode": "overlay",
              "size": 10,
              "solidity": 0.2
             }
            },
            "type": "histogram"
           }
          ],
          "histogram2d": [
           {
            "colorbar": {
             "outlinewidth": 0,
             "ticks": ""
            },
            "colorscale": [
             [
              0,
              "#0d0887"
             ],
             [
              0.1111111111111111,
              "#46039f"
             ],
             [
              0.2222222222222222,
              "#7201a8"
             ],
             [
              0.3333333333333333,
              "#9c179e"
             ],
             [
              0.4444444444444444,
              "#bd3786"
             ],
             [
              0.5555555555555556,
              "#d8576b"
             ],
             [
              0.6666666666666666,
              "#ed7953"
             ],
             [
              0.7777777777777778,
              "#fb9f3a"
             ],
             [
              0.8888888888888888,
              "#fdca26"
             ],
             [
              1,
              "#f0f921"
             ]
            ],
            "type": "histogram2d"
           }
          ],
          "histogram2dcontour": [
           {
            "colorbar": {
             "outlinewidth": 0,
             "ticks": ""
            },
            "colorscale": [
             [
              0,
              "#0d0887"
             ],
             [
              0.1111111111111111,
              "#46039f"
             ],
             [
              0.2222222222222222,
              "#7201a8"
             ],
             [
              0.3333333333333333,
              "#9c179e"
             ],
             [
              0.4444444444444444,
              "#bd3786"
             ],
             [
              0.5555555555555556,
              "#d8576b"
             ],
             [
              0.6666666666666666,
              "#ed7953"
             ],
             [
              0.7777777777777778,
              "#fb9f3a"
             ],
             [
              0.8888888888888888,
              "#fdca26"
             ],
             [
              1,
              "#f0f921"
             ]
            ],
            "type": "histogram2dcontour"
           }
          ],
          "mesh3d": [
           {
            "colorbar": {
             "outlinewidth": 0,
             "ticks": ""
            },
            "type": "mesh3d"
           }
          ],
          "parcoords": [
           {
            "line": {
             "colorbar": {
              "outlinewidth": 0,
              "ticks": ""
             }
            },
            "type": "parcoords"
           }
          ],
          "pie": [
           {
            "automargin": true,
            "type": "pie"
           }
          ],
          "scatter": [
           {
            "fillpattern": {
             "fillmode": "overlay",
             "size": 10,
             "solidity": 0.2
            },
            "type": "scatter"
           }
          ],
          "scatter3d": [
           {
            "line": {
             "colorbar": {
              "outlinewidth": 0,
              "ticks": ""
             }
            },
            "marker": {
             "colorbar": {
              "outlinewidth": 0,
              "ticks": ""
             }
            },
            "type": "scatter3d"
           }
          ],
          "scattercarpet": [
           {
            "marker": {
             "colorbar": {
              "outlinewidth": 0,
              "ticks": ""
             }
            },
            "type": "scattercarpet"
           }
          ],
          "scattergeo": [
           {
            "marker": {
             "colorbar": {
              "outlinewidth": 0,
              "ticks": ""
             }
            },
            "type": "scattergeo"
           }
          ],
          "scattergl": [
           {
            "marker": {
             "colorbar": {
              "outlinewidth": 0,
              "ticks": ""
             }
            },
            "type": "scattergl"
           }
          ],
          "scattermap": [
           {
            "marker": {
             "colorbar": {
              "outlinewidth": 0,
              "ticks": ""
             }
            },
            "type": "scattermap"
           }
          ],
          "scattermapbox": [
           {
            "marker": {
             "colorbar": {
              "outlinewidth": 0,
              "ticks": ""
             }
            },
            "type": "scattermapbox"
           }
          ],
          "scatterpolar": [
           {
            "marker": {
             "colorbar": {
              "outlinewidth": 0,
              "ticks": ""
             }
            },
            "type": "scatterpolar"
           }
          ],
          "scatterpolargl": [
           {
            "marker": {
             "colorbar": {
              "outlinewidth": 0,
              "ticks": ""
             }
            },
            "type": "scatterpolargl"
           }
          ],
          "scatterternary": [
           {
            "marker": {
             "colorbar": {
              "outlinewidth": 0,
              "ticks": ""
             }
            },
            "type": "scatterternary"
           }
          ],
          "surface": [
           {
            "colorbar": {
             "outlinewidth": 0,
             "ticks": ""
            },
            "colorscale": [
             [
              0,
              "#0d0887"
             ],
             [
              0.1111111111111111,
              "#46039f"
             ],
             [
              0.2222222222222222,
              "#7201a8"
             ],
             [
              0.3333333333333333,
              "#9c179e"
             ],
             [
              0.4444444444444444,
              "#bd3786"
             ],
             [
              0.5555555555555556,
              "#d8576b"
             ],
             [
              0.6666666666666666,
              "#ed7953"
             ],
             [
              0.7777777777777778,
              "#fb9f3a"
             ],
             [
              0.8888888888888888,
              "#fdca26"
             ],
             [
              1,
              "#f0f921"
             ]
            ],
            "type": "surface"
           }
          ],
          "table": [
           {
            "cells": {
             "fill": {
              "color": "#EBF0F8"
             },
             "line": {
              "color": "white"
             }
            },
            "header": {
             "fill": {
              "color": "#C8D4E3"
             },
             "line": {
              "color": "white"
             }
            },
            "type": "table"
           }
          ]
         },
         "layout": {
          "annotationdefaults": {
           "arrowcolor": "#2a3f5f",
           "arrowhead": 0,
           "arrowwidth": 1
          },
          "autotypenumbers": "strict",
          "coloraxis": {
           "colorbar": {
            "outlinewidth": 0,
            "ticks": ""
           }
          },
          "colorscale": {
           "diverging": [
            [
             0,
             "#8e0152"
            ],
            [
             0.1,
             "#c51b7d"
            ],
            [
             0.2,
             "#de77ae"
            ],
            [
             0.3,
             "#f1b6da"
            ],
            [
             0.4,
             "#fde0ef"
            ],
            [
             0.5,
             "#f7f7f7"
            ],
            [
             0.6,
             "#e6f5d0"
            ],
            [
             0.7,
             "#b8e186"
            ],
            [
             0.8,
             "#7fbc41"
            ],
            [
             0.9,
             "#4d9221"
            ],
            [
             1,
             "#276419"
            ]
           ],
           "sequential": [
            [
             0,
             "#0d0887"
            ],
            [
             0.1111111111111111,
             "#46039f"
            ],
            [
             0.2222222222222222,
             "#7201a8"
            ],
            [
             0.3333333333333333,
             "#9c179e"
            ],
            [
             0.4444444444444444,
             "#bd3786"
            ],
            [
             0.5555555555555556,
             "#d8576b"
            ],
            [
             0.6666666666666666,
             "#ed7953"
            ],
            [
             0.7777777777777778,
             "#fb9f3a"
            ],
            [
             0.8888888888888888,
             "#fdca26"
            ],
            [
             1,
             "#f0f921"
            ]
           ],
           "sequentialminus": [
            [
             0,
             "#0d0887"
            ],
            [
             0.1111111111111111,
             "#46039f"
            ],
            [
             0.2222222222222222,
             "#7201a8"
            ],
            [
             0.3333333333333333,
             "#9c179e"
            ],
            [
             0.4444444444444444,
             "#bd3786"
            ],
            [
             0.5555555555555556,
             "#d8576b"
            ],
            [
             0.6666666666666666,
             "#ed7953"
            ],
            [
             0.7777777777777778,
             "#fb9f3a"
            ],
            [
             0.8888888888888888,
             "#fdca26"
            ],
            [
             1,
             "#f0f921"
            ]
           ]
          },
          "colorway": [
           "#636efa",
           "#EF553B",
           "#00cc96",
           "#ab63fa",
           "#FFA15A",
           "#19d3f3",
           "#FF6692",
           "#B6E880",
           "#FF97FF",
           "#FECB52"
          ],
          "font": {
           "color": "#2a3f5f"
          },
          "geo": {
           "bgcolor": "white",
           "lakecolor": "white",
           "landcolor": "#E5ECF6",
           "showlakes": true,
           "showland": true,
           "subunitcolor": "white"
          },
          "hoverlabel": {
           "align": "left"
          },
          "hovermode": "closest",
          "mapbox": {
           "style": "light"
          },
          "paper_bgcolor": "white",
          "plot_bgcolor": "#E5ECF6",
          "polar": {
           "angularaxis": {
            "gridcolor": "white",
            "linecolor": "white",
            "ticks": ""
           },
           "bgcolor": "#E5ECF6",
           "radialaxis": {
            "gridcolor": "white",
            "linecolor": "white",
            "ticks": ""
           }
          },
          "scene": {
           "xaxis": {
            "backgroundcolor": "#E5ECF6",
            "gridcolor": "white",
            "gridwidth": 2,
            "linecolor": "white",
            "showbackground": true,
            "ticks": "",
            "zerolinecolor": "white"
           },
           "yaxis": {
            "backgroundcolor": "#E5ECF6",
            "gridcolor": "white",
            "gridwidth": 2,
            "linecolor": "white",
            "showbackground": true,
            "ticks": "",
            "zerolinecolor": "white"
           },
           "zaxis": {
            "backgroundcolor": "#E5ECF6",
            "gridcolor": "white",
            "gridwidth": 2,
            "linecolor": "white",
            "showbackground": true,
            "ticks": "",
            "zerolinecolor": "white"
           }
          },
          "shapedefaults": {
           "line": {
            "color": "#2a3f5f"
           }
          },
          "ternary": {
           "aaxis": {
            "gridcolor": "white",
            "linecolor": "white",
            "ticks": ""
           },
           "baxis": {
            "gridcolor": "white",
            "linecolor": "white",
            "ticks": ""
           },
           "bgcolor": "#E5ECF6",
           "caxis": {
            "gridcolor": "white",
            "linecolor": "white",
            "ticks": ""
           }
          },
          "title": {
           "x": 0.05
          },
          "xaxis": {
           "automargin": true,
           "gridcolor": "white",
           "linecolor": "white",
           "ticks": "",
           "title": {
            "standoff": 15
           },
           "zerolinecolor": "white",
           "zerolinewidth": 2
          },
          "yaxis": {
           "automargin": true,
           "gridcolor": "white",
           "linecolor": "white",
           "ticks": "",
           "title": {
            "standoff": 15
           },
           "zerolinecolor": "white",
           "zerolinewidth": 2
          }
         }
        },
        "title": {
         "text": "Time Series with Predictions"
        },
        "xaxis": {
         "title": {
          "text": "Time"
         }
        },
        "yaxis": {
         "title": {
          "text": "Value"
         }
        }
       }
      }
     },
     "metadata": {},
     "output_type": "display_data"
    }
   ],
   "source": [
    "import plotly.graph_objects as go\n",
    "\n",
    "# Recover time index for predictions\n",
    "# Note: lagged_df lost 'time', but you can rebuild it by shifting df['time'] by tau\n",
    "# because lagged_df.iloc[tau:] corresponds to time[tau:]\n",
    "time_for_preds = df['time'].iloc[lagged_df.index[600:]]\n",
    "\n",
    "# Build figure\n",
    "fig = go.Figure()\n",
    "\n",
    "# Original time series\n",
    "fig.add_trace(go.Scatter(\n",
    "    x=df['time'],\n",
    "    y=df['x'],\n",
    "    mode='lines',\n",
    "    name='Original Series'\n",
    "))\n",
    "\n",
    "# Optionally, also actual test target\n",
    "fig.add_trace(go.Scatter(\n",
    "    x=time_for_preds,\n",
    "    y=y_test,\n",
    "    mode='lines',\n",
    "    name='Actual Test'\n",
    "))\n",
    "\n",
    "# Predictions\n",
    "fig.add_trace(go.Scatter(\n",
    "    x=time_for_preds,\n",
    "    y=y_hat,\n",
    "    mode='lines',\n",
    "    name='Predictions'\n",
    "))\n",
    "\n",
    "fig.update_layout(\n",
    "    title='Time Series with Predictions',\n",
    "    xaxis_title='Time',\n",
    "    yaxis_title='Value'\n",
    ")\n",
    "\n",
    "fig.show()\n"
   ]
  },
  {
   "cell_type": "code",
   "execution_count": 109,
   "id": "f7f64c0b",
   "metadata": {},
   "outputs": [
    {
     "name": "stderr",
     "output_type": "stream",
     "text": [
      "c:\\Users\\rowek\\AppData\\Local\\Programs\\Python\\Python312\\Lib\\site-packages\\sklearn\\base.py:493: UserWarning:\n",
      "\n",
      "X does not have valid feature names, but LinearRegression was fitted with feature names\n",
      "\n",
      "c:\\Users\\rowek\\AppData\\Local\\Programs\\Python\\Python312\\Lib\\site-packages\\sklearn\\base.py:493: UserWarning:\n",
      "\n",
      "X does not have valid feature names, but LinearRegression was fitted with feature names\n",
      "\n",
      "c:\\Users\\rowek\\AppData\\Local\\Programs\\Python\\Python312\\Lib\\site-packages\\sklearn\\base.py:493: UserWarning:\n",
      "\n",
      "X does not have valid feature names, but LinearRegression was fitted with feature names\n",
      "\n",
      "c:\\Users\\rowek\\AppData\\Local\\Programs\\Python\\Python312\\Lib\\site-packages\\sklearn\\base.py:493: UserWarning:\n",
      "\n",
      "X does not have valid feature names, but LinearRegression was fitted with feature names\n",
      "\n",
      "c:\\Users\\rowek\\AppData\\Local\\Programs\\Python\\Python312\\Lib\\site-packages\\sklearn\\base.py:493: UserWarning:\n",
      "\n",
      "X does not have valid feature names, but LinearRegression was fitted with feature names\n",
      "\n",
      "c:\\Users\\rowek\\AppData\\Local\\Programs\\Python\\Python312\\Lib\\site-packages\\sklearn\\base.py:493: UserWarning:\n",
      "\n",
      "X does not have valid feature names, but LinearRegression was fitted with feature names\n",
      "\n",
      "c:\\Users\\rowek\\AppData\\Local\\Programs\\Python\\Python312\\Lib\\site-packages\\sklearn\\base.py:493: UserWarning:\n",
      "\n",
      "X does not have valid feature names, but LinearRegression was fitted with feature names\n",
      "\n",
      "c:\\Users\\rowek\\AppData\\Local\\Programs\\Python\\Python312\\Lib\\site-packages\\sklearn\\base.py:493: UserWarning:\n",
      "\n",
      "X does not have valid feature names, but LinearRegression was fitted with feature names\n",
      "\n",
      "c:\\Users\\rowek\\AppData\\Local\\Programs\\Python\\Python312\\Lib\\site-packages\\sklearn\\base.py:493: UserWarning:\n",
      "\n",
      "X does not have valid feature names, but LinearRegression was fitted with feature names\n",
      "\n",
      "c:\\Users\\rowek\\AppData\\Local\\Programs\\Python\\Python312\\Lib\\site-packages\\sklearn\\base.py:493: UserWarning:\n",
      "\n",
      "X does not have valid feature names, but LinearRegression was fitted with feature names\n",
      "\n",
      "c:\\Users\\rowek\\AppData\\Local\\Programs\\Python\\Python312\\Lib\\site-packages\\sklearn\\base.py:493: UserWarning:\n",
      "\n",
      "X does not have valid feature names, but LinearRegression was fitted with feature names\n",
      "\n",
      "c:\\Users\\rowek\\AppData\\Local\\Programs\\Python\\Python312\\Lib\\site-packages\\sklearn\\base.py:493: UserWarning:\n",
      "\n",
      "X does not have valid feature names, but LinearRegression was fitted with feature names\n",
      "\n",
      "c:\\Users\\rowek\\AppData\\Local\\Programs\\Python\\Python312\\Lib\\site-packages\\sklearn\\base.py:493: UserWarning:\n",
      "\n",
      "X does not have valid feature names, but LinearRegression was fitted with feature names\n",
      "\n",
      "c:\\Users\\rowek\\AppData\\Local\\Programs\\Python\\Python312\\Lib\\site-packages\\sklearn\\base.py:493: UserWarning:\n",
      "\n",
      "X does not have valid feature names, but LinearRegression was fitted with feature names\n",
      "\n",
      "c:\\Users\\rowek\\AppData\\Local\\Programs\\Python\\Python312\\Lib\\site-packages\\sklearn\\base.py:493: UserWarning:\n",
      "\n",
      "X does not have valid feature names, but LinearRegression was fitted with feature names\n",
      "\n",
      "c:\\Users\\rowek\\AppData\\Local\\Programs\\Python\\Python312\\Lib\\site-packages\\sklearn\\base.py:493: UserWarning:\n",
      "\n",
      "X does not have valid feature names, but LinearRegression was fitted with feature names\n",
      "\n",
      "c:\\Users\\rowek\\AppData\\Local\\Programs\\Python\\Python312\\Lib\\site-packages\\sklearn\\base.py:493: UserWarning:\n",
      "\n",
      "X does not have valid feature names, but LinearRegression was fitted with feature names\n",
      "\n",
      "c:\\Users\\rowek\\AppData\\Local\\Programs\\Python\\Python312\\Lib\\site-packages\\sklearn\\base.py:493: UserWarning:\n",
      "\n",
      "X does not have valid feature names, but LinearRegression was fitted with feature names\n",
      "\n",
      "c:\\Users\\rowek\\AppData\\Local\\Programs\\Python\\Python312\\Lib\\site-packages\\sklearn\\base.py:493: UserWarning:\n",
      "\n",
      "X does not have valid feature names, but LinearRegression was fitted with feature names\n",
      "\n",
      "c:\\Users\\rowek\\AppData\\Local\\Programs\\Python\\Python312\\Lib\\site-packages\\sklearn\\base.py:493: UserWarning:\n",
      "\n",
      "X does not have valid feature names, but LinearRegression was fitted with feature names\n",
      "\n",
      "c:\\Users\\rowek\\AppData\\Local\\Programs\\Python\\Python312\\Lib\\site-packages\\sklearn\\base.py:493: UserWarning:\n",
      "\n",
      "X does not have valid feature names, but LinearRegression was fitted with feature names\n",
      "\n",
      "c:\\Users\\rowek\\AppData\\Local\\Programs\\Python\\Python312\\Lib\\site-packages\\sklearn\\base.py:493: UserWarning:\n",
      "\n",
      "X does not have valid feature names, but LinearRegression was fitted with feature names\n",
      "\n",
      "c:\\Users\\rowek\\AppData\\Local\\Programs\\Python\\Python312\\Lib\\site-packages\\sklearn\\base.py:493: UserWarning:\n",
      "\n",
      "X does not have valid feature names, but LinearRegression was fitted with feature names\n",
      "\n",
      "c:\\Users\\rowek\\AppData\\Local\\Programs\\Python\\Python312\\Lib\\site-packages\\sklearn\\base.py:493: UserWarning:\n",
      "\n",
      "X does not have valid feature names, but LinearRegression was fitted with feature names\n",
      "\n",
      "c:\\Users\\rowek\\AppData\\Local\\Programs\\Python\\Python312\\Lib\\site-packages\\sklearn\\base.py:493: UserWarning:\n",
      "\n",
      "X does not have valid feature names, but LinearRegression was fitted with feature names\n",
      "\n",
      "c:\\Users\\rowek\\AppData\\Local\\Programs\\Python\\Python312\\Lib\\site-packages\\sklearn\\base.py:493: UserWarning:\n",
      "\n",
      "X does not have valid feature names, but LinearRegression was fitted with feature names\n",
      "\n",
      "c:\\Users\\rowek\\AppData\\Local\\Programs\\Python\\Python312\\Lib\\site-packages\\sklearn\\base.py:493: UserWarning:\n",
      "\n",
      "X does not have valid feature names, but LinearRegression was fitted with feature names\n",
      "\n",
      "c:\\Users\\rowek\\AppData\\Local\\Programs\\Python\\Python312\\Lib\\site-packages\\sklearn\\base.py:493: UserWarning:\n",
      "\n",
      "X does not have valid feature names, but LinearRegression was fitted with feature names\n",
      "\n",
      "c:\\Users\\rowek\\AppData\\Local\\Programs\\Python\\Python312\\Lib\\site-packages\\sklearn\\base.py:493: UserWarning:\n",
      "\n",
      "X does not have valid feature names, but LinearRegression was fitted with feature names\n",
      "\n",
      "c:\\Users\\rowek\\AppData\\Local\\Programs\\Python\\Python312\\Lib\\site-packages\\sklearn\\base.py:493: UserWarning:\n",
      "\n",
      "X does not have valid feature names, but LinearRegression was fitted with feature names\n",
      "\n",
      "c:\\Users\\rowek\\AppData\\Local\\Programs\\Python\\Python312\\Lib\\site-packages\\sklearn\\base.py:493: UserWarning:\n",
      "\n",
      "X does not have valid feature names, but LinearRegression was fitted with feature names\n",
      "\n",
      "c:\\Users\\rowek\\AppData\\Local\\Programs\\Python\\Python312\\Lib\\site-packages\\sklearn\\base.py:493: UserWarning:\n",
      "\n",
      "X does not have valid feature names, but LinearRegression was fitted with feature names\n",
      "\n"
     ]
    },
    {
     "data": {
      "application/vnd.plotly.v1+json": {
       "config": {
        "plotlyServerURL": "https://plot.ly"
       },
       "data": [
        {
         "mode": "lines",
         "name": "Original Series",
         "type": "scatter",
         "x": {
          "bdata": "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",
          "dtype": "f4"
         },
         "y": {
          "bdata": "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",
          "dtype": "f4"
         }
        },
        {
         "mode": "lines+markers",
         "name": "32-Step Forecast",
         "type": "scatter",
         "x": {
          "bdata": "AAAAAADIgkAAAAAAANCCQAAAAAAA2IJAAAAAAADggkAAAAAAAOiCQAAAAAAA8IJAAAAAAAD4gkAAAAAAAACDQAAAAAAACINAAAAAAAAQg0AAAAAAABiDQAAAAAAAIINAAAAAAAAog0AAAAAAADCDQAAAAAAAOINAAAAAAABAg0AAAAAAAEiDQAAAAAAAUINAAAAAAABYg0AAAAAAAGCDQAAAAAAAaINAAAAAAABwg0AAAAAAAHiDQAAAAAAAgINAAAAAAACIg0AAAAAAAJCDQAAAAAAAmINAAAAAAACgg0AAAAAAAKiDQAAAAAAAsINAAAAAAAC4g0AAAAAAAMCDQA==",
          "dtype": "f8"
         },
         "y": [
          -0.026489382609725,
          -0.038691647350788116,
          -0.058646976947784424,
          -0.0456257238984108,
          -0.04358207434415817,
          -0.047626204788684845,
          -0.048840925097465515,
          -0.04693106561899185,
          -0.047385066747665405,
          -0.048186153173446655,
          -0.04825204610824585,
          -0.048194050788879395,
          -0.048501335084438324,
          -0.048749811947345734,
          -0.04888901114463806,
          -0.049056388437747955,
          -0.049263812601566315,
          -0.04944755882024765,
          -0.04961998015642166,
          -0.04980000853538513,
          -0.04998119920492172,
          -0.05015669763088226,
          -0.050330668687820435,
          -0.050504714250564575,
          -0.050677135586738586,
          -0.05084756761789322,
          -0.051016777753829956,
          -0.0511847659945488,
          -0.05135127156972885,
          -0.05151635408401489,
          -0.05168011784553528,
          -0.051842547953128815
         ]
        }
       ],
       "layout": {
        "template": {
         "data": {
          "bar": [
           {
            "error_x": {
             "color": "#2a3f5f"
            },
            "error_y": {
             "color": "#2a3f5f"
            },
            "marker": {
             "line": {
              "color": "#E5ECF6",
              "width": 0.5
             },
             "pattern": {
              "fillmode": "overlay",
              "size": 10,
              "solidity": 0.2
             }
            },
            "type": "bar"
           }
          ],
          "barpolar": [
           {
            "marker": {
             "line": {
              "color": "#E5ECF6",
              "width": 0.5
             },
             "pattern": {
              "fillmode": "overlay",
              "size": 10,
              "solidity": 0.2
             }
            },
            "type": "barpolar"
           }
          ],
          "carpet": [
           {
            "aaxis": {
             "endlinecolor": "#2a3f5f",
             "gridcolor": "white",
             "linecolor": "white",
             "minorgridcolor": "white",
             "startlinecolor": "#2a3f5f"
            },
            "baxis": {
             "endlinecolor": "#2a3f5f",
             "gridcolor": "white",
             "linecolor": "white",
             "minorgridcolor": "white",
             "startlinecolor": "#2a3f5f"
            },
            "type": "carpet"
           }
          ],
          "choropleth": [
           {
            "colorbar": {
             "outlinewidth": 0,
             "ticks": ""
            },
            "type": "choropleth"
           }
          ],
          "contour": [
           {
            "colorbar": {
             "outlinewidth": 0,
             "ticks": ""
            },
            "colorscale": [
             [
              0,
              "#0d0887"
             ],
             [
              0.1111111111111111,
              "#46039f"
             ],
             [
              0.2222222222222222,
              "#7201a8"
             ],
             [
              0.3333333333333333,
              "#9c179e"
             ],
             [
              0.4444444444444444,
              "#bd3786"
             ],
             [
              0.5555555555555556,
              "#d8576b"
             ],
             [
              0.6666666666666666,
              "#ed7953"
             ],
             [
              0.7777777777777778,
              "#fb9f3a"
             ],
             [
              0.8888888888888888,
              "#fdca26"
             ],
             [
              1,
              "#f0f921"
             ]
            ],
            "type": "contour"
           }
          ],
          "contourcarpet": [
           {
            "colorbar": {
             "outlinewidth": 0,
             "ticks": ""
            },
            "type": "contourcarpet"
           }
          ],
          "heatmap": [
           {
            "colorbar": {
             "outlinewidth": 0,
             "ticks": ""
            },
            "colorscale": [
             [
              0,
              "#0d0887"
             ],
             [
              0.1111111111111111,
              "#46039f"
             ],
             [
              0.2222222222222222,
              "#7201a8"
             ],
             [
              0.3333333333333333,
              "#9c179e"
             ],
             [
              0.4444444444444444,
              "#bd3786"
             ],
             [
              0.5555555555555556,
              "#d8576b"
             ],
             [
              0.6666666666666666,
              "#ed7953"
             ],
             [
              0.7777777777777778,
              "#fb9f3a"
             ],
             [
              0.8888888888888888,
              "#fdca26"
             ],
             [
              1,
              "#f0f921"
             ]
            ],
            "type": "heatmap"
           }
          ],
          "histogram": [
           {
            "marker": {
             "pattern": {
              "fillmode": "overlay",
              "size": 10,
              "solidity": 0.2
             }
            },
            "type": "histogram"
           }
          ],
          "histogram2d": [
           {
            "colorbar": {
             "outlinewidth": 0,
             "ticks": ""
            },
            "colorscale": [
             [
              0,
              "#0d0887"
             ],
             [
              0.1111111111111111,
              "#46039f"
             ],
             [
              0.2222222222222222,
              "#7201a8"
             ],
             [
              0.3333333333333333,
              "#9c179e"
             ],
             [
              0.4444444444444444,
              "#bd3786"
             ],
             [
              0.5555555555555556,
              "#d8576b"
             ],
             [
              0.6666666666666666,
              "#ed7953"
             ],
             [
              0.7777777777777778,
              "#fb9f3a"
             ],
             [
              0.8888888888888888,
              "#fdca26"
             ],
             [
              1,
              "#f0f921"
             ]
            ],
            "type": "histogram2d"
           }
          ],
          "histogram2dcontour": [
           {
            "colorbar": {
             "outlinewidth": 0,
             "ticks": ""
            },
            "colorscale": [
             [
              0,
              "#0d0887"
             ],
             [
              0.1111111111111111,
              "#46039f"
             ],
             [
              0.2222222222222222,
              "#7201a8"
             ],
             [
              0.3333333333333333,
              "#9c179e"
             ],
             [
              0.4444444444444444,
              "#bd3786"
             ],
             [
              0.5555555555555556,
              "#d8576b"
             ],
             [
              0.6666666666666666,
              "#ed7953"
             ],
             [
              0.7777777777777778,
              "#fb9f3a"
             ],
             [
              0.8888888888888888,
              "#fdca26"
             ],
             [
              1,
              "#f0f921"
             ]
            ],
            "type": "histogram2dcontour"
           }
          ],
          "mesh3d": [
           {
            "colorbar": {
             "outlinewidth": 0,
             "ticks": ""
            },
            "type": "mesh3d"
           }
          ],
          "parcoords": [
           {
            "line": {
             "colorbar": {
              "outlinewidth": 0,
              "ticks": ""
             }
            },
            "type": "parcoords"
           }
          ],
          "pie": [
           {
            "automargin": true,
            "type": "pie"
           }
          ],
          "scatter": [
           {
            "fillpattern": {
             "fillmode": "overlay",
             "size": 10,
             "solidity": 0.2
            },
            "type": "scatter"
           }
          ],
          "scatter3d": [
           {
            "line": {
             "colorbar": {
              "outlinewidth": 0,
              "ticks": ""
             }
            },
            "marker": {
             "colorbar": {
              "outlinewidth": 0,
              "ticks": ""
             }
            },
            "type": "scatter3d"
           }
          ],
          "scattercarpet": [
           {
            "marker": {
             "colorbar": {
              "outlinewidth": 0,
              "ticks": ""
             }
            },
            "type": "scattercarpet"
           }
          ],
          "scattergeo": [
           {
            "marker": {
             "colorbar": {
              "outlinewidth": 0,
              "ticks": ""
             }
            },
            "type": "scattergeo"
           }
          ],
          "scattergl": [
           {
            "marker": {
             "colorbar": {
              "outlinewidth": 0,
              "ticks": ""
             }
            },
            "type": "scattergl"
           }
          ],
          "scattermap": [
           {
            "marker": {
             "colorbar": {
              "outlinewidth": 0,
              "ticks": ""
             }
            },
            "type": "scattermap"
           }
          ],
          "scattermapbox": [
           {
            "marker": {
             "colorbar": {
              "outlinewidth": 0,
              "ticks": ""
             }
            },
            "type": "scattermapbox"
           }
          ],
          "scatterpolar": [
           {
            "marker": {
             "colorbar": {
              "outlinewidth": 0,
              "ticks": ""
             }
            },
            "type": "scatterpolar"
           }
          ],
          "scatterpolargl": [
           {
            "marker": {
             "colorbar": {
              "outlinewidth": 0,
              "ticks": ""
             }
            },
            "type": "scatterpolargl"
           }
          ],
          "scatterternary": [
           {
            "marker": {
             "colorbar": {
              "outlinewidth": 0,
              "ticks": ""
             }
            },
            "type": "scatterternary"
           }
          ],
          "surface": [
           {
            "colorbar": {
             "outlinewidth": 0,
             "ticks": ""
            },
            "colorscale": [
             [
              0,
              "#0d0887"
             ],
             [
              0.1111111111111111,
              "#46039f"
             ],
             [
              0.2222222222222222,
              "#7201a8"
             ],
             [
              0.3333333333333333,
              "#9c179e"
             ],
             [
              0.4444444444444444,
              "#bd3786"
             ],
             [
              0.5555555555555556,
              "#d8576b"
             ],
             [
              0.6666666666666666,
              "#ed7953"
             ],
             [
              0.7777777777777778,
              "#fb9f3a"
             ],
             [
              0.8888888888888888,
              "#fdca26"
             ],
             [
              1,
              "#f0f921"
             ]
            ],
            "type": "surface"
           }
          ],
          "table": [
           {
            "cells": {
             "fill": {
              "color": "#EBF0F8"
             },
             "line": {
              "color": "white"
             }
            },
            "header": {
             "fill": {
              "color": "#C8D4E3"
             },
             "line": {
              "color": "white"
             }
            },
            "type": "table"
           }
          ]
         },
         "layout": {
          "annotationdefaults": {
           "arrowcolor": "#2a3f5f",
           "arrowhead": 0,
           "arrowwidth": 1
          },
          "autotypenumbers": "strict",
          "coloraxis": {
           "colorbar": {
            "outlinewidth": 0,
            "ticks": ""
           }
          },
          "colorscale": {
           "diverging": [
            [
             0,
             "#8e0152"
            ],
            [
             0.1,
             "#c51b7d"
            ],
            [
             0.2,
             "#de77ae"
            ],
            [
             0.3,
             "#f1b6da"
            ],
            [
             0.4,
             "#fde0ef"
            ],
            [
             0.5,
             "#f7f7f7"
            ],
            [
             0.6,
             "#e6f5d0"
            ],
            [
             0.7,
             "#b8e186"
            ],
            [
             0.8,
             "#7fbc41"
            ],
            [
             0.9,
             "#4d9221"
            ],
            [
             1,
             "#276419"
            ]
           ],
           "sequential": [
            [
             0,
             "#0d0887"
            ],
            [
             0.1111111111111111,
             "#46039f"
            ],
            [
             0.2222222222222222,
             "#7201a8"
            ],
            [
             0.3333333333333333,
             "#9c179e"
            ],
            [
             0.4444444444444444,
             "#bd3786"
            ],
            [
             0.5555555555555556,
             "#d8576b"
            ],
            [
             0.6666666666666666,
             "#ed7953"
            ],
            [
             0.7777777777777778,
             "#fb9f3a"
            ],
            [
             0.8888888888888888,
             "#fdca26"
            ],
            [
             1,
             "#f0f921"
            ]
           ],
           "sequentialminus": [
            [
             0,
             "#0d0887"
            ],
            [
             0.1111111111111111,
             "#46039f"
            ],
            [
             0.2222222222222222,
             "#7201a8"
            ],
            [
             0.3333333333333333,
             "#9c179e"
            ],
            [
             0.4444444444444444,
             "#bd3786"
            ],
            [
             0.5555555555555556,
             "#d8576b"
            ],
            [
             0.6666666666666666,
             "#ed7953"
            ],
            [
             0.7777777777777778,
             "#fb9f3a"
            ],
            [
             0.8888888888888888,
             "#fdca26"
            ],
            [
             1,
             "#f0f921"
            ]
           ]
          },
          "colorway": [
           "#636efa",
           "#EF553B",
           "#00cc96",
           "#ab63fa",
           "#FFA15A",
           "#19d3f3",
           "#FF6692",
           "#B6E880",
           "#FF97FF",
           "#FECB52"
          ],
          "font": {
           "color": "#2a3f5f"
          },
          "geo": {
           "bgcolor": "white",
           "lakecolor": "white",
           "landcolor": "#E5ECF6",
           "showlakes": true,
           "showland": true,
           "subunitcolor": "white"
          },
          "hoverlabel": {
           "align": "left"
          },
          "hovermode": "closest",
          "mapbox": {
           "style": "light"
          },
          "paper_bgcolor": "white",
          "plot_bgcolor": "#E5ECF6",
          "polar": {
           "angularaxis": {
            "gridcolor": "white",
            "linecolor": "white",
            "ticks": ""
           },
           "bgcolor": "#E5ECF6",
           "radialaxis": {
            "gridcolor": "white",
            "linecolor": "white",
            "ticks": ""
           }
          },
          "scene": {
           "xaxis": {
            "backgroundcolor": "#E5ECF6",
            "gridcolor": "white",
            "gridwidth": 2,
            "linecolor": "white",
            "showbackground": true,
            "ticks": "",
            "zerolinecolor": "white"
           },
           "yaxis": {
            "backgroundcolor": "#E5ECF6",
            "gridcolor": "white",
            "gridwidth": 2,
            "linecolor": "white",
            "showbackground": true,
            "ticks": "",
            "zerolinecolor": "white"
           },
           "zaxis": {
            "backgroundcolor": "#E5ECF6",
            "gridcolor": "white",
            "gridwidth": 2,
            "linecolor": "white",
            "showbackground": true,
            "ticks": "",
            "zerolinecolor": "white"
           }
          },
          "shapedefaults": {
           "line": {
            "color": "#2a3f5f"
           }
          },
          "ternary": {
           "aaxis": {
            "gridcolor": "white",
            "linecolor": "white",
            "ticks": ""
           },
           "baxis": {
            "gridcolor": "white",
            "linecolor": "white",
            "ticks": ""
           },
           "bgcolor": "#E5ECF6",
           "caxis": {
            "gridcolor": "white",
            "linecolor": "white",
            "ticks": ""
           }
          },
          "title": {
           "x": 0.05
          },
          "xaxis": {
           "automargin": true,
           "gridcolor": "white",
           "linecolor": "white",
           "ticks": "",
           "title": {
            "standoff": 15
           },
           "zerolinecolor": "white",
           "zerolinewidth": 2
          },
          "yaxis": {
           "automargin": true,
           "gridcolor": "white",
           "linecolor": "white",
           "ticks": "",
           "title": {
            "standoff": 15
           },
           "zerolinecolor": "white",
           "zerolinewidth": 2
          }
         }
        },
        "title": {
         "text": "Forecasting 32 Steps Beyond Last Known Data (from t=600)"
        },
        "xaxis": {
         "title": {
          "text": "Time"
         }
        },
        "yaxis": {
         "title": {
          "text": "Value"
         }
        }
       }
      }
     },
     "metadata": {},
     "output_type": "display_data"
    }
   ],
   "source": [
    "import torch\n",
    "import numpy as np\n",
    "import pandas as pd\n",
    "import plotly.graph_objects as go\n",
    "from sklearn.linear_model import LinearRegression\n",
    "\n",
    "# -------------------\n",
    "# 1) Generate data\n",
    "# -------------------\n",
    "class Data():\n",
    "    def __init__(self, batch_size=16, T=1000, num_train=600, tau=4):\n",
    "        self.time = torch.arange(1, T + 1, dtype=torch.float32)\n",
    "        self.x = torch.sin(0.01 * self.time) + torch.randn(T) * 0.2\n",
    "\n",
    "data = Data()\n",
    "\n",
    "df = pd.DataFrame({\n",
    "    'time': data.time.numpy(),\n",
    "    'x': data.x.numpy()\n",
    "})\n",
    "\n",
    "# -------------------\n",
    "# 2) Build lag features\n",
    "# -------------------\n",
    "tau = 4\n",
    "num_samples = 1000\n",
    "\n",
    "lagged_data = {f'lag_{i}': df['x'].shift(i) for i in range(tau, 0, -1)}\n",
    "lagged_data['target'] = df['x']\n",
    "\n",
    "lagged_df = pd.DataFrame(lagged_data).iloc[tau:num_samples]\n",
    "\n",
    "# -------------------\n",
    "# 3) Train on first 600\n",
    "# -------------------\n",
    "df_train = lagged_df[:600]\n",
    "X_train = df_train.drop('target', axis=1)\n",
    "y_train = df_train['target']\n",
    "\n",
    "model = LinearRegression().fit(X_train, y_train)\n",
    "\n",
    "# -------------------\n",
    "# 4) Predict next 32 steps starting from last known point\n",
    "# -------------------\n",
    "# Grab the last row of the last training example to start\n",
    "last_known_inputs = lagged_df.drop('target', axis=1).iloc[599].values.reshape(1, -1)\n",
    "\n",
    "future_preds = []\n",
    "for _ in range(32):\n",
    "    next_pred = model.predict(last_known_inputs)[0]\n",
    "    future_preds.append(next_pred)\n",
    "    \n",
    "    # Shift window: drop oldest, add new prediction\n",
    "    last_known_inputs = np.roll(last_known_inputs, -1)\n",
    "    last_known_inputs[0, -1] = next_pred\n",
    "\n",
    "# -------------------\n",
    "# 5) Build future time indices\n",
    "# -------------------\n",
    "last_time = df['time'].iloc[599]  # last point of train\n",
    "future_times = np.arange(last_time + 1, last_time + 1 + 32)\n",
    "\n",
    "# -------------------\n",
    "# 6) Plot original series + future predictions\n",
    "# -------------------\n",
    "fig = go.Figure()\n",
    "\n",
    "# Original series\n",
    "fig.add_trace(go.Scatter(\n",
    "    x=df['time'],\n",
    "    y=df['x'],\n",
    "    mode='lines',\n",
    "    name='Original Series'\n",
    "))\n",
    "\n",
    "# 32-step future forecast\n",
    "fig.add_trace(go.Scatter(\n",
    "    x=future_times,\n",
    "    y=future_preds,\n",
    "    mode='lines+markers',\n",
    "    name='32-Step Forecast'\n",
    "))\n",
    "\n",
    "fig.update_layout(\n",
    "    title='Forecasting 32 Steps Beyond Last Known Data (from t=600)',\n",
    "    xaxis_title='Time',\n",
    "    yaxis_title='Value'\n",
    ")\n",
    "\n",
    "fig.show()\n"
   ]
  },
  {
   "cell_type": "code",
   "execution_count": null,
   "id": "472b2c84",
   "metadata": {},
   "outputs": [],
   "source": []
  }
 ],
 "metadata": {
  "kernelspec": {
   "display_name": "Python 3",
   "language": "python",
   "name": "python3"
  },
  "language_info": {
   "codemirror_mode": {
    "name": "ipython",
    "version": 3
   },
   "file_extension": ".py",
   "mimetype": "text/x-python",
   "name": "python",
   "nbconvert_exporter": "python",
   "pygments_lexer": "ipython3",
   "version": "3.12.3"
  }
 },
 "nbformat": 4,
 "nbformat_minor": 5
}

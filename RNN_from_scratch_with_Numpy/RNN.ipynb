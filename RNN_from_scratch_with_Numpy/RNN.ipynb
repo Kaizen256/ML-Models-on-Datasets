{
 "cells": [
  {
   "cell_type": "markdown",
   "id": "fb458bee",
   "metadata": {},
   "source": []
  },
  {
   "cell_type": "code",
   "execution_count": 20,
   "id": "9c57019f",
   "metadata": {},
   "outputs": [
    {
     "data": {
      "text/plain": [
       "'to be or not to be that is the question whether tis nobler in the mind to suffer the slings and arrows of outrageous fortune or to take arms against a sea of troubles and by opposing end them'"
      ]
     },
     "execution_count": 20,
     "metadata": {},
     "output_type": "execute_result"
    }
   ],
   "source": [
    "import numpy as np\n",
    "import re\n",
    "\n",
    "text = open(\"smallShake.txt\", \"r\").read().lower()\n",
    "text = re.sub('[^A-Za-z]+', ' ', text).strip()\n",
    "text"
   ]
  },
  {
   "cell_type": "code",
   "execution_count": 21,
   "id": "93583b68",
   "metadata": {},
   "outputs": [
    {
     "name": "stdout",
     "output_type": "stream",
     "text": [
      "['t', 'o', ' ', 'b', 'e', 'r', 'n', 'h', 'a', 'i', 's', 'q', 'u', 'w', 'l', 'm', 'd', 'f', 'g', 'k', 'y', 'p']\n"
     ]
    }
   ],
   "source": [
    "l = []\n",
    "s = set()\n",
    "\n",
    "for i in text:\n",
    "    if i not in s:\n",
    "        l.append(i)\n",
    "        s.add(i)\n",
    "\n",
    "print(l) # I do this so the output is horizontal and not vertical."
   ]
  },
  {
   "cell_type": "code",
   "execution_count": 22,
   "id": "97a29e84",
   "metadata": {},
   "outputs": [
    {
     "name": "stdout",
     "output_type": "stream",
     "text": [
      "{'t': 0, 'o': 1, ' ': 2, 'b': 3, 'e': 4, 'r': 5, 'n': 6, 'h': 7, 'a': 8, 'i': 9, 's': 10, 'q': 11, 'u': 12, 'w': 13, 'l': 14, 'm': 15, 'd': 16, 'f': 17, 'g': 18, 'k': 19, 'y': 20, 'p': 21}\n"
     ]
    }
   ],
   "source": [
    "char_to_index = {}\n",
    "for i, ch in enumerate(l):\n",
    "    char_to_index[ch] = i\n",
    "print(char_to_index)"
   ]
  },
  {
   "cell_type": "code",
   "execution_count": 23,
   "id": "941ac2d4",
   "metadata": {},
   "outputs": [
    {
     "name": "stdout",
     "output_type": "stream",
     "text": [
      "[0, 1, 2, 3, 4, 2, 1, 5, 2, 6, 1, 0, 2, 0, 1, 2, 3, 4, 2, 0, 7, 8, 0, 2, 9, 10, 2, 0, 7, 4, 2, 11, 12, 4, 10, 0, 9, 1, 6, 2, 13, 7, 4, 0, 7, 4, 5, 2, 0, 9, 10, 2, 6, 1, 3, 14, 4, 5, 2, 9, 6, 2, 0, 7, 4, 2, 15, 9, 6, 16, 2, 0, 1, 2, 10, 12, 17, 17, 4, 5, 2, 0, 7, 4, 2, 10, 14, 9, 6, 18, 10, 2, 8, 6, 16, 2, 8, 5, 5, 1, 13, 10, 2, 1, 17, 2, 1, 12, 0, 5, 8, 18, 4, 1, 12, 10, 2, 17, 1, 5, 0, 12, 6, 4, 2, 1, 5, 2, 0, 1, 2, 0, 8, 19, 4, 2, 8, 5, 15, 10, 2, 8, 18, 8, 9, 6, 10, 0, 2, 8, 2, 10, 4, 8, 2, 1, 17, 2, 0, 5, 1, 12, 3, 14, 4, 10, 2, 8, 6, 16, 2, 3, 20, 2, 1, 21, 21, 1, 10, 9, 6, 18, 2, 4, 6, 16, 2, 0, 7, 4, 15]\n"
     ]
    }
   ],
   "source": [
    "tokens = []\n",
    "for ch in text:\n",
    "    tokens.append(char_to_index[ch])\n",
    "print(tokens)"
   ]
  },
  {
   "cell_type": "code",
   "execution_count": 24,
   "id": "855ad0f4",
   "metadata": {},
   "outputs": [
    {
     "name": "stdout",
     "output_type": "stream",
     "text": [
      "[[1. 0. 0. 0. 0. 0. 0. 0. 0. 0. 0. 0. 0. 0. 0. 0. 0. 0. 0. 0. 0. 0.]\n",
      " [0. 1. 0. 0. 0. 0. 0. 0. 0. 0. 0. 0. 0. 0. 0. 0. 0. 0. 0. 0. 0. 0.]]\n"
     ]
    }
   ],
   "source": [
    "sparse = np.zeros(shape=(len(tokens), len(l)))\n",
    "for i in range(len(tokens)):\n",
    "    sparse[i, tokens[i]] = 1\n",
    "\n",
    "print(sparse[0:2]) # Should be in the first and second position"
   ]
  },
  {
   "cell_type": "code",
   "execution_count": null,
   "id": "e6c12ccf",
   "metadata": {},
   "outputs": [],
   "source": [
    "def softmax(logits):\n",
    "    exp_logits = np.exp(logits - np.max(logits))\n",
    "    return exp_logits / np.sum(exp_logits)\n",
    "\n",
    "def tanh(x):\n",
    "    return 2 / (1 + np.exp(-2*x)) -1\n",
    "\n",
    "def tanh_deriv(x):\n",
    "    return 1.0 - tanh(x)**2"
   ]
  }
 ],
 "metadata": {
  "kernelspec": {
   "display_name": "Python 3",
   "language": "python",
   "name": "python3"
  },
  "language_info": {
   "codemirror_mode": {
    "name": "ipython",
    "version": 3
   },
   "file_extension": ".py",
   "mimetype": "text/x-python",
   "name": "python",
   "nbconvert_exporter": "python",
   "pygments_lexer": "ipython3",
   "version": "3.12.3"
  }
 },
 "nbformat": 4,
 "nbformat_minor": 5
}

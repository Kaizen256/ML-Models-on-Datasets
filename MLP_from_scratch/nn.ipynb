{
 "cells": [
  {
   "cell_type": "markdown",
   "id": "6099da1a",
   "metadata": {},
   "source": [
    "Implementation with pytorch. Just for practice as well. View MLP_from_scratch.ipynb for the from scratch version"
   ]
  },
  {
   "cell_type": "code",
   "execution_count": 16,
   "id": "abac8269",
   "metadata": {},
   "outputs": [],
   "source": [
    "from sklearn.datasets import fetch_openml\n",
    "import numpy as np\n",
    "\n",
    "mnist = fetch_openml('mnist_784', version=1, as_frame=False)\n",
    "\n",
    "X = mnist['data']       # Shape: (70000, 784)\n",
    "y = mnist['target']     # Shape: (70000,)\n",
    "\n",
    "X = X / 255.0           # Normalize pixel values to [0, 1]\n",
    "y = y.astype(np.int64)  # Convert labels to integers"
   ]
  },
  {
   "cell_type": "code",
   "execution_count": 17,
   "id": "0e4d483b",
   "metadata": {},
   "outputs": [],
   "source": [
    "import torch\n",
    "from torch import nn\n",
    "from torch import optim\n",
    "from torch.utils.data import DataLoader, TensorDataset"
   ]
  },
  {
   "cell_type": "code",
   "execution_count": 23,
   "id": "6704d234",
   "metadata": {},
   "outputs": [],
   "source": [
    "# Split into train/test (60k train, 10k test)\n",
    "X_train, X_test = X[:60000], X[60000:]\n",
    "y_train, y_test = y[:60000], y[60000:]\n",
    "\n",
    "X_train_tensor = torch.tensor(X_train, dtype=torch.float32)\n",
    "X_test_tensor = torch.tensor(X_test, dtype=torch.float32)\n",
    "y_train_tensor = torch.tensor(y_train)\n",
    "y_test_tensor = torch.tensor(y_test)\n",
    "\n",
    "train_dataset = TensorDataset(X_train_tensor, y_train_tensor)\n",
    "\n",
    "train_dataloader = DataLoader(train_dataset, batch_size=32, shuffle=True)\n"
   ]
  },
  {
   "cell_type": "code",
   "execution_count": 19,
   "id": "c66fda12",
   "metadata": {},
   "outputs": [],
   "source": [
    "class LinearClassifier(nn.Module):\n",
    "    def __init__(self):\n",
    "        super().__init__()\n",
    "        self.net = nn.Sequential(\n",
    "            nn.Linear(in_features=784, out_features=256),\n",
    "            nn.ReLU(),\n",
    "            nn.Linear(in_features=256, out_features=128),\n",
    "            nn.ReLU(),\n",
    "            nn.Linear(in_features=128, out_features=64),\n",
    "            nn.ReLU(),\n",
    "            nn.Linear(in_features=64, out_features=10)\n",
    "        )\n",
    "    \n",
    "    def forward(self, x):\n",
    "        return self.net(x)"
   ]
  },
  {
   "cell_type": "code",
   "execution_count": 21,
   "id": "f4d6da8d",
   "metadata": {},
   "outputs": [
    {
     "name": "stdout",
     "output_type": "stream",
     "text": [
      "Epoch 0 Loss: 1.6597137451171875\n",
      "Epoch 1 Loss: 0.44393908977508545\n",
      "Epoch 2 Loss: 0.33175548911094666\n",
      "Epoch 3 Loss: 0.26853111386299133\n",
      "Epoch 4 Loss: 0.2200690358877182\n",
      "Epoch 5 Loss: 0.18364672362804413\n",
      "Epoch 6 Loss: 0.15597079694271088\n",
      "Epoch 7 Loss: 0.1357380896806717\n",
      "Epoch 8 Loss: 0.11958706378936768\n",
      "Epoch 9 Loss: 0.10651423782110214\n"
     ]
    }
   ],
   "source": [
    "epochs = 10\n",
    "model = LinearClassifier()\n",
    "loss_fn = nn.CrossEntropyLoss()\n",
    "optimizer = optim.SGD(model.parameters(), lr=0.01)\n",
    "for epoch in range(epochs):\n",
    "    count = 0\n",
    "    total_loss = 0\n",
    "    for xb, yb in train_dataloader:\n",
    "        yhat = model(xb)\n",
    "        loss = loss_fn(yhat, yb)\n",
    "        total_loss += loss\n",
    "        loss.backward()\n",
    "        optimizer.step()\n",
    "        optimizer.zero_grad()\n",
    "        count+=1\n",
    "    print(f\"Epoch {epoch} Loss: {total_loss / count}\")\n"
   ]
  },
  {
   "cell_type": "code",
   "execution_count": 26,
   "id": "21878c67",
   "metadata": {},
   "outputs": [
    {
     "name": "stdout",
     "output_type": "stream",
     "text": [
      "Test Accuracy: 0.9659\n"
     ]
    }
   ],
   "source": [
    "# Forward pass on test set\n",
    "yhat = model(X_test_tensor)\n",
    "\n",
    "# Predictions\n",
    "preds_test = torch.argmax(yhat, axis=1)\n",
    "\n",
    "# Accuracy\n",
    "accuracy_test = (preds_test == y_test_tensor).float().mean()\n",
    "\n",
    "print(f\"Test Accuracy: {accuracy_test:.4f}\")\n"
   ]
  }
 ],
 "metadata": {
  "kernelspec": {
   "display_name": "Python 3",
   "language": "python",
   "name": "python3"
  },
  "language_info": {
   "codemirror_mode": {
    "name": "ipython",
    "version": 3
   },
   "file_extension": ".py",
   "mimetype": "text/x-python",
   "name": "python",
   "nbconvert_exporter": "python",
   "pygments_lexer": "ipython3",
   "version": "3.12.3"
  }
 },
 "nbformat": 4,
 "nbformat_minor": 5
}

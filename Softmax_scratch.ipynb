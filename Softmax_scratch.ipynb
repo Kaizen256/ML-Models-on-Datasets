{
 "cells": [
  {
   "cell_type": "markdown",
   "id": "dcab8e66",
   "metadata": {},
   "source": []
  },
  {
   "cell_type": "code",
   "execution_count": 6,
   "id": "48663b72",
   "metadata": {},
   "outputs": [],
   "source": [
    "from sklearn.datasets import load_iris\n",
    "from sklearn.model_selection import train_test_split\n",
    "import numpy as np"
   ]
  },
  {
   "cell_type": "code",
   "execution_count": 10,
   "id": "0ea0eb20",
   "metadata": {},
   "outputs": [
    {
     "name": "stdout",
     "output_type": "stream",
     "text": [
      "(150, 4)\n"
     ]
    },
    {
     "data": {
      "text/plain": [
       "array([0, 0, 0, 0, 0, 0, 0, 0, 0, 0, 0, 0, 0, 0, 0, 0, 0, 0, 0, 0, 0, 0,\n",
       "       0, 0, 0, 0, 0, 0, 0, 0, 0, 0, 0, 0, 0, 0, 0, 0, 0, 0, 0, 0, 0, 0,\n",
       "       0, 0, 0, 0, 0, 0, 1, 1, 1, 1, 1, 1, 1, 1, 1, 1, 1, 1, 1, 1, 1, 1,\n",
       "       1, 1, 1, 1, 1, 1, 1, 1, 1, 1, 1, 1, 1, 1, 1, 1, 1, 1, 1, 1, 1, 1,\n",
       "       1, 1, 1, 1, 1, 1, 1, 1, 1, 1, 1, 1, 2, 2, 2, 2, 2, 2, 2, 2, 2, 2,\n",
       "       2, 2, 2, 2, 2, 2, 2, 2, 2, 2, 2, 2, 2, 2, 2, 2, 2, 2, 2, 2, 2, 2,\n",
       "       2, 2, 2, 2, 2, 2, 2, 2, 2, 2, 2, 2, 2, 2, 2, 2, 2, 2])"
      ]
     },
     "execution_count": 10,
     "metadata": {},
     "output_type": "execute_result"
    }
   ],
   "source": [
    "data = load_iris()\n",
    "X = data['data']\n",
    "y = data['target']\n",
    "print(X.shape)\n",
    "y"
   ]
  },
  {
   "cell_type": "markdown",
   "id": "c9739e6f",
   "metadata": {},
   "source": [
    "4 features and 3 classes"
   ]
  },
  {
   "cell_type": "code",
   "execution_count": 8,
   "id": "dac227dd",
   "metadata": {},
   "outputs": [],
   "source": [
    "X_train, X_test, y_train, y_test = train_test_split(X, y)"
   ]
  },
  {
   "cell_type": "markdown",
   "id": "ea2d4d2f",
   "metadata": {},
   "source": [
    "Initializing parameters. \\mathbf{W} &\\in \\mathbb{R}^{D \\times C} \\quad \\text{(Weights)} \\\\\n",
    "\\mathbf{b} &\\in \\mathbb{R}^{C} \\quad \\text{(Bias vector)} \\\\"
   ]
  },
  {
   "cell_type": "code",
   "execution_count": 12,
   "id": "4dded759",
   "metadata": {},
   "outputs": [
    {
     "data": {
      "text/plain": [
       "(array([[0.44070342, 0.61086393, 0.05909535],\n",
       "        [0.38421904, 0.93226569, 0.12532207],\n",
       "        [0.02264705, 0.12391115, 0.17954915],\n",
       "        [0.69839236, 0.27276352, 0.76657878]]),\n",
       " array([0.51468074, 0.45025529, 0.0227785 ]))"
      ]
     },
     "execution_count": 12,
     "metadata": {},
     "output_type": "execute_result"
    }
   ],
   "source": [
    "w = np.random.rand(4, 3)\n",
    "b = np.random.rand(3)\n",
    "w, b"
   ]
  },
  {
   "cell_type": "code",
   "execution_count": 13,
   "id": "b3078e0b",
   "metadata": {},
   "outputs": [],
   "source": [
    "def softmax(Z):\n",
    "    Z = np.exp(Z)\n",
    "    sum = Z.sum()\n",
    "    return Z / sum"
   ]
  },
  {
   "cell_type": "code",
   "execution_count": null,
   "id": "dfe16bf8",
   "metadata": {},
   "outputs": [],
   "source": []
  }
 ],
 "metadata": {
  "kernelspec": {
   "display_name": "Python 3",
   "language": "python",
   "name": "python3"
  },
  "language_info": {
   "codemirror_mode": {
    "name": "ipython",
    "version": 3
   },
   "file_extension": ".py",
   "mimetype": "text/x-python",
   "name": "python",
   "nbconvert_exporter": "python",
   "pygments_lexer": "ipython3",
   "version": "3.12.3"
  }
 },
 "nbformat": 4,
 "nbformat_minor": 5
}
